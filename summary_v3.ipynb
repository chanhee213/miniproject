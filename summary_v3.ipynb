{
 "cells": [
  {
   "cell_type": "code",
   "execution_count": 17,
   "metadata": {},
   "outputs": [],
   "source": [
    "import numpy as np\n",
    "import pandas as pd\n",
    "import re\n",
    "import matplotlib.pyplot as plt\n",
    "import random\n",
    "from mecab import MeCab\n",
    "from tensorflow.keras.preprocessing.text import Tokenizer \n",
    "from tensorflow.keras.preprocessing.sequence import pad_sequences\n",
    "import urllib.request\n"
   ]
  },
  {
   "cell_type": "code",
   "execution_count": 18,
   "metadata": {},
   "outputs": [],
   "source": [
    "raw = pd.read_csv('./Training/merged_data.csv')\n",
    "df = raw.copy()"
   ]
  },
  {
   "cell_type": "code",
   "execution_count": 19,
   "metadata": {},
   "outputs": [],
   "source": [
    "list_index = df[df.summary.duplicated()].index"
   ]
  },
  {
   "cell_type": "code",
   "execution_count": 20,
   "metadata": {},
   "outputs": [
    {
     "data": {
      "text/html": [
       "<div>\n",
       "<style scoped>\n",
       "    .dataframe tbody tr th:only-of-type {\n",
       "        vertical-align: middle;\n",
       "    }\n",
       "\n",
       "    .dataframe tbody tr th {\n",
       "        vertical-align: top;\n",
       "    }\n",
       "\n",
       "    .dataframe thead th {\n",
       "        text-align: right;\n",
       "    }\n",
       "</style>\n",
       "<table border=\"1\" class=\"dataframe\">\n",
       "  <thead>\n",
       "    <tr style=\"text-align: right;\">\n",
       "      <th></th>\n",
       "      <th>passage</th>\n",
       "      <th>summary</th>\n",
       "    </tr>\n",
       "  </thead>\n",
       "  <tbody>\n",
       "    <tr>\n",
       "      <th>0</th>\n",
       "      <td>지금의 국가가 직면하는 위기는 전통사회의 그것과 위기의 규모뿐만아니라 종류와 성질 ...</td>\n",
       "      <td>현대 사회에서 발생하는 다양하고 복잡한 위기는 과거와 다르게 국가의 재난으로 이어질...</td>\n",
       "    </tr>\n",
       "    <tr>\n",
       "      <th>1</th>\n",
       "      <td>자연재해나 불량 수산식품 파동 등의 인위적 재난이 수산분야 피해로이어질 경우 일반분...</td>\n",
       "      <td>수산분야의 인위적 재난 시수산물 수급 문제로 생산자들의 매출이 크게 줄고, 시장 전...</td>\n",
       "    </tr>\n",
       "    <tr>\n",
       "      <th>2</th>\n",
       "      <td>하지만 이와 반대로 MG 파동 이후 기간(2005.10～2011.12)의 경우에는 ...</td>\n",
       "      <td>MG 파동 이후에는 양식 송어의 생산량의 증가가 통계적 유의성을 갖는 것으로 드러났...</td>\n",
       "    </tr>\n",
       "    <tr>\n",
       "      <th>3</th>\n",
       "      <td>그러나 사회적 이슈가 발생하였을 경우에 전문적으로 이러한 정보를 수집하고 분석하는 ...</td>\n",
       "      <td>사회적 이슈 발생 시 전문적으로 정보 수집 및 분석을 하는 관측 시스템이 아직 구축...</td>\n",
       "    </tr>\n",
       "    <tr>\n",
       "      <th>4</th>\n",
       "      <td>네 번째는 공급감소로 국내 물량이 부족하게 되면 유통질서가 왜곡될 가능성이 많기 때...</td>\n",
       "      <td>일부 경우에서의 유통질서 혼란을 방지하기 위해 거래형태의 변형이 필요하다. 의도적 ...</td>\n",
       "    </tr>\n",
       "  </tbody>\n",
       "</table>\n",
       "</div>"
      ],
      "text/plain": [
       "                                             passage  \\\n",
       "0  지금의 국가가 직면하는 위기는 전통사회의 그것과 위기의 규모뿐만아니라 종류와 성질 ...   \n",
       "1  자연재해나 불량 수산식품 파동 등의 인위적 재난이 수산분야 피해로이어질 경우 일반분...   \n",
       "2  하지만 이와 반대로 MG 파동 이후 기간(2005.10～2011.12)의 경우에는 ...   \n",
       "3  그러나 사회적 이슈가 발생하였을 경우에 전문적으로 이러한 정보를 수집하고 분석하는 ...   \n",
       "4  네 번째는 공급감소로 국내 물량이 부족하게 되면 유통질서가 왜곡될 가능성이 많기 때...   \n",
       "\n",
       "                                             summary  \n",
       "0  현대 사회에서 발생하는 다양하고 복잡한 위기는 과거와 다르게 국가의 재난으로 이어질...  \n",
       "1  수산분야의 인위적 재난 시수산물 수급 문제로 생산자들의 매출이 크게 줄고, 시장 전...  \n",
       "2  MG 파동 이후에는 양식 송어의 생산량의 증가가 통계적 유의성을 갖는 것으로 드러났...  \n",
       "3  사회적 이슈 발생 시 전문적으로 정보 수집 및 분석을 하는 관측 시스템이 아직 구축...  \n",
       "4  일부 경우에서의 유통질서 혼란을 방지하기 위해 거래형태의 변형이 필요하다. 의도적 ...  "
      ]
     },
     "execution_count": 20,
     "metadata": {},
     "output_type": "execute_result"
    }
   ],
   "source": [
    "df.head()"
   ]
  },
  {
   "cell_type": "code",
   "execution_count": 21,
   "metadata": {},
   "outputs": [
    {
     "data": {
      "text/plain": [
       "Int64Index([   455,   3569,   3570,   3571,   3572,   3573,   3574,   3575,\n",
       "              3576,  10635,\n",
       "            ...\n",
       "            157796, 157797, 158246, 158248, 158249, 158256, 158299, 158301,\n",
       "            158302, 158303],\n",
       "           dtype='int64', length=1533)"
      ]
     },
     "execution_count": 21,
     "metadata": {},
     "output_type": "execute_result"
    }
   ],
   "source": [
    "list_index"
   ]
  },
  {
   "cell_type": "code",
   "execution_count": 22,
   "metadata": {},
   "outputs": [],
   "source": [
    "# 중복된 데이터 처리\n",
    "for index in list_index:\n",
    "    df = df.drop(index)"
   ]
  },
  {
   "cell_type": "code",
   "execution_count": 23,
   "metadata": {},
   "outputs": [
    {
     "data": {
      "text/plain": [
       "passage    0\n",
       "summary    0\n",
       "dtype: int64"
      ]
     },
     "execution_count": 23,
     "metadata": {},
     "output_type": "execute_result"
    }
   ],
   "source": [
    "df.isnull().sum()"
   ]
  },
  {
   "cell_type": "code",
   "execution_count": 24,
   "metadata": {},
   "outputs": [],
   "source": [
    "korean_josa_list = [\n",
    "    '의', '에', '에서', '도', '이', '가', '을', '를',\n",
    "    '은', '는', '과', '와', '으로', '에게', '부터', '까지',\n",
    "    '만', '에서부터', '까지'\n",
    "]"
   ]
  },
  {
   "cell_type": "code",
   "execution_count": 25,
   "metadata": {},
   "outputs": [],
   "source": [
    "\n",
    "# 불용어(stopwords) 로드\n",
    "stop_words = set()\n",
    "with open(\"./stopwords.txt\", 'r', encoding='utf-8') as f:\n",
    "    for word in f.readlines():\n",
    "        word = word.strip()\n",
    "        if word not in korean_josa_list:\n",
    "            stop_words.add(word)\n",
    "# 형태소 분석기 초기화\n",
    "mecab = MeCab()\n"
   ]
  },
  {
   "cell_type": "code",
   "execution_count": 26,
   "metadata": {},
   "outputs": [],
   "source": [
    "def preprocess_text(text):\n",
    "    token = mecab.morphs(text)\n",
    "    return ' '.join(token)"
   ]
  },
  {
   "cell_type": "code",
   "execution_count": 27,
   "metadata": {},
   "outputs": [],
   "source": [
    "df['PreprocessedText'] = df['passage'].apply(preprocess_text)"
   ]
  },
  {
   "cell_type": "code",
   "execution_count": 28,
   "metadata": {},
   "outputs": [],
   "source": [
    "df['Pred_summary'] = df['summary'].apply(preprocess_text)"
   ]
  },
  {
   "cell_type": "code",
   "execution_count": 29,
   "metadata": {},
   "outputs": [],
   "source": [
    "def preprocess_sentence(sentence, remove_stopwords=True):\n",
    "    sentence = sentence.lower()  # 텍스트 소문자화\n",
    "    sentence = re.sub(r\"/([^)]*/)\", \"\", sentence)  # 괄호로 닫힌 문자열 제거 Ex) 가나다 (abc) -> 가나다\n",
    "    sentence = re.sub('\"', \"\", sentence)  # 쌍따옴표 \" 제거\n",
    "    sentence = re.sub(\"[^ㄱ-ㅎㅏ-ㅣ가-힣]\", \" \", sentence)  # 한글과 영어, 숫자를 제외한 문자 공백으로 변환\n",
    "    sentence = re.sub(\" +\", \" \", sentence)\n",
    "\n",
    "    # 불용어 제거\n",
    "    if remove_stopwords:\n",
    "        sentence = ' '.join(word for word in sentence.split() if word not in stop_words and len(word) > 1)\n",
    "    else:\n",
    "        sentence = ' '.join(word for word in sentence.split() if len(word) > 1)\n",
    "    return sentence"
   ]
  },
  {
   "cell_type": "code",
   "execution_count": 30,
   "metadata": {},
   "outputs": [
    {
     "data": {
      "text/html": [
       "<div>\n",
       "<style scoped>\n",
       "    .dataframe tbody tr th:only-of-type {\n",
       "        vertical-align: middle;\n",
       "    }\n",
       "\n",
       "    .dataframe tbody tr th {\n",
       "        vertical-align: top;\n",
       "    }\n",
       "\n",
       "    .dataframe thead th {\n",
       "        text-align: right;\n",
       "    }\n",
       "</style>\n",
       "<table border=\"1\" class=\"dataframe\">\n",
       "  <thead>\n",
       "    <tr style=\"text-align: right;\">\n",
       "      <th></th>\n",
       "      <th>passage</th>\n",
       "      <th>summary</th>\n",
       "      <th>PreprocessedText</th>\n",
       "      <th>Pred_summary</th>\n",
       "    </tr>\n",
       "  </thead>\n",
       "  <tbody>\n",
       "    <tr>\n",
       "      <th>0</th>\n",
       "      <td>지금의 국가가 직면하는 위기는 전통사회의 그것과 위기의 규모뿐만아니라 종류와 성질 ...</td>\n",
       "      <td>현대 사회에서 발생하는 다양하고 복잡한 위기는 과거와 다르게 국가의 재난으로 이어질...</td>\n",
       "      <td>지금 의 국가 가 직면 하 는 위기 는 전통 사회 의 그것 과 위기 의 규모 뿐 만...</td>\n",
       "      <td>현대 사회 에서 발생 하 는 다양 하 고 복잡 한 위기 는 과거 와 다르 게 국가 ...</td>\n",
       "    </tr>\n",
       "    <tr>\n",
       "      <th>1</th>\n",
       "      <td>자연재해나 불량 수산식품 파동 등의 인위적 재난이 수산분야 피해로이어질 경우 일반분...</td>\n",
       "      <td>수산분야의 인위적 재난 시수산물 수급 문제로 생산자들의 매출이 크게 줄고, 시장 전...</td>\n",
       "      <td>자연재해 나 불량 수산 식품 파동 등 의 인위 적 재난 이 수산 분야 피해 로 이어...</td>\n",
       "      <td>수산 분야 의 인위 적 재난 시수 산물 수급 문제 로 생산자 들 의 매출 이 크 게...</td>\n",
       "    </tr>\n",
       "    <tr>\n",
       "      <th>2</th>\n",
       "      <td>하지만 이와 반대로 MG 파동 이후 기간(2005.10～2011.12)의 경우에는 ...</td>\n",
       "      <td>MG 파동 이후에는 양식 송어의 생산량의 증가가 통계적 유의성을 갖는 것으로 드러났...</td>\n",
       "      <td>하지만 이 와 반 대로 MG 파동 이후 기간 ( 2005 . 10 ～ 2011 . ...</td>\n",
       "      <td>MG 파동 이후 에 는 양식 송어 의 생산량 의 증가 가 통계 적 유의 성 을 갖 ...</td>\n",
       "    </tr>\n",
       "    <tr>\n",
       "      <th>3</th>\n",
       "      <td>그러나 사회적 이슈가 발생하였을 경우에 전문적으로 이러한 정보를 수집하고 분석하는 ...</td>\n",
       "      <td>사회적 이슈 발생 시 전문적으로 정보 수집 및 분석을 하는 관측 시스템이 아직 구축...</td>\n",
       "      <td>그러나 사회 적 이슈 가 발생 하 였을 경우 에 전문 적 으로 이러 한 정보 를 수...</td>\n",
       "      <td>사회 적 이슈 발생 시 전문 적 으로 정보 수집 및 분석 을 하 는 관측 시스템 이...</td>\n",
       "    </tr>\n",
       "    <tr>\n",
       "      <th>4</th>\n",
       "      <td>네 번째는 공급감소로 국내 물량이 부족하게 되면 유통질서가 왜곡될 가능성이 많기 때...</td>\n",
       "      <td>일부 경우에서의 유통질서 혼란을 방지하기 위해 거래형태의 변형이 필요하다. 의도적 ...</td>\n",
       "      <td>네 번 째 는 공급 감소 로 국내 물량 이 부족 하 게 되 면 유통 질서 가 왜곡 ...</td>\n",
       "      <td>일부 경우 에서 의 유통 질서 혼란 을 방지 하 기 위해 거래 형태 의 변형 이 필...</td>\n",
       "    </tr>\n",
       "  </tbody>\n",
       "</table>\n",
       "</div>"
      ],
      "text/plain": [
       "                                             passage  \\\n",
       "0  지금의 국가가 직면하는 위기는 전통사회의 그것과 위기의 규모뿐만아니라 종류와 성질 ...   \n",
       "1  자연재해나 불량 수산식품 파동 등의 인위적 재난이 수산분야 피해로이어질 경우 일반분...   \n",
       "2  하지만 이와 반대로 MG 파동 이후 기간(2005.10～2011.12)의 경우에는 ...   \n",
       "3  그러나 사회적 이슈가 발생하였을 경우에 전문적으로 이러한 정보를 수집하고 분석하는 ...   \n",
       "4  네 번째는 공급감소로 국내 물량이 부족하게 되면 유통질서가 왜곡될 가능성이 많기 때...   \n",
       "\n",
       "                                             summary  \\\n",
       "0  현대 사회에서 발생하는 다양하고 복잡한 위기는 과거와 다르게 국가의 재난으로 이어질...   \n",
       "1  수산분야의 인위적 재난 시수산물 수급 문제로 생산자들의 매출이 크게 줄고, 시장 전...   \n",
       "2  MG 파동 이후에는 양식 송어의 생산량의 증가가 통계적 유의성을 갖는 것으로 드러났...   \n",
       "3  사회적 이슈 발생 시 전문적으로 정보 수집 및 분석을 하는 관측 시스템이 아직 구축...   \n",
       "4  일부 경우에서의 유통질서 혼란을 방지하기 위해 거래형태의 변형이 필요하다. 의도적 ...   \n",
       "\n",
       "                                    PreprocessedText  \\\n",
       "0  지금 의 국가 가 직면 하 는 위기 는 전통 사회 의 그것 과 위기 의 규모 뿐 만...   \n",
       "1  자연재해 나 불량 수산 식품 파동 등 의 인위 적 재난 이 수산 분야 피해 로 이어...   \n",
       "2  하지만 이 와 반 대로 MG 파동 이후 기간 ( 2005 . 10 ～ 2011 . ...   \n",
       "3  그러나 사회 적 이슈 가 발생 하 였을 경우 에 전문 적 으로 이러 한 정보 를 수...   \n",
       "4  네 번 째 는 공급 감소 로 국내 물량 이 부족 하 게 되 면 유통 질서 가 왜곡 ...   \n",
       "\n",
       "                                        Pred_summary  \n",
       "0  현대 사회 에서 발생 하 는 다양 하 고 복잡 한 위기 는 과거 와 다르 게 국가 ...  \n",
       "1  수산 분야 의 인위 적 재난 시수 산물 수급 문제 로 생산자 들 의 매출 이 크 게...  \n",
       "2  MG 파동 이후 에 는 양식 송어 의 생산량 의 증가 가 통계 적 유의 성 을 갖 ...  \n",
       "3  사회 적 이슈 발생 시 전문 적 으로 정보 수집 및 분석 을 하 는 관측 시스템 이...  \n",
       "4  일부 경우 에서 의 유통 질서 혼란 을 방지 하 기 위해 거래 형태 의 변형 이 필...  "
      ]
     },
     "execution_count": 30,
     "metadata": {},
     "output_type": "execute_result"
    }
   ],
   "source": [
    "df.head()"
   ]
  },
  {
   "cell_type": "code",
   "execution_count": 31,
   "metadata": {},
   "outputs": [],
   "source": [
    "df['PreprocessedText'] = df['PreprocessedText'].apply(preprocess_sentence)"
   ]
  },
  {
   "cell_type": "code",
   "execution_count": 32,
   "metadata": {},
   "outputs": [
    {
     "data": {
      "text/html": [
       "<div>\n",
       "<style scoped>\n",
       "    .dataframe tbody tr th:only-of-type {\n",
       "        vertical-align: middle;\n",
       "    }\n",
       "\n",
       "    .dataframe tbody tr th {\n",
       "        vertical-align: top;\n",
       "    }\n",
       "\n",
       "    .dataframe thead th {\n",
       "        text-align: right;\n",
       "    }\n",
       "</style>\n",
       "<table border=\"1\" class=\"dataframe\">\n",
       "  <thead>\n",
       "    <tr style=\"text-align: right;\">\n",
       "      <th></th>\n",
       "      <th>passage</th>\n",
       "      <th>summary</th>\n",
       "      <th>PreprocessedText</th>\n",
       "      <th>Pred_summary</th>\n",
       "    </tr>\n",
       "  </thead>\n",
       "  <tbody>\n",
       "    <tr>\n",
       "      <th>0</th>\n",
       "      <td>지금의 국가가 직면하는 위기는 전통사회의 그것과 위기의 규모뿐만아니라 종류와 성질 ...</td>\n",
       "      <td>현대 사회에서 발생하는 다양하고 복잡한 위기는 과거와 다르게 국가의 재난으로 이어질...</td>\n",
       "      <td>지금 국가 직면 위기 전통 사회 그것 위기 규모 종류 성질 에서 사뭇 다르 다고 현...</td>\n",
       "      <td>현대 사회 에서 발생 하 는 다양 하 고 복잡 한 위기 는 과거 와 다르 게 국가 ...</td>\n",
       "    </tr>\n",
       "    <tr>\n",
       "      <th>1</th>\n",
       "      <td>자연재해나 불량 수산식품 파동 등의 인위적 재난이 수산분야 피해로이어질 경우 일반분...</td>\n",
       "      <td>수산분야의 인위적 재난 시수산물 수급 문제로 생산자들의 매출이 크게 줄고, 시장 전...</td>\n",
       "      <td>자연재해 불량 수산 식품 파동 인위 재난 수산 분야 피해 이어질 경우 일반 분야 마...</td>\n",
       "      <td>수산 분야 의 인위 적 재난 시수 산물 수급 문제 로 생산자 들 의 매출 이 크 게...</td>\n",
       "    </tr>\n",
       "    <tr>\n",
       "      <th>2</th>\n",
       "      <td>하지만 이와 반대로 MG 파동 이후 기간(2005.10～2011.12)의 경우에는 ...</td>\n",
       "      <td>MG 파동 이후에는 양식 송어의 생산량의 증가가 통계적 유의성을 갖는 것으로 드러났...</td>\n",
       "      <td>대로 파동 이후 기간 경우 모형 적합 변수 통계 유의 존재 으로 나타났 기간 지날수...</td>\n",
       "      <td>MG 파동 이후 에 는 양식 송어 의 생산량 의 증가 가 통계 적 유의 성 을 갖 ...</td>\n",
       "    </tr>\n",
       "    <tr>\n",
       "      <th>3</th>\n",
       "      <td>그러나 사회적 이슈가 발생하였을 경우에 전문적으로 이러한 정보를 수집하고 분석하는 ...</td>\n",
       "      <td>사회적 이슈 발생 시 전문적으로 정보 수집 및 분석을 하는 관측 시스템이 아직 구축...</td>\n",
       "      <td>사회 이슈 발생 였을 경우 전문 으로 이러 정보 수집 분석 관측 시스템 존재 는다고...</td>\n",
       "      <td>사회 적 이슈 발생 시 전문 적 으로 정보 수집 및 분석 을 하 는 관측 시스템 이...</td>\n",
       "    </tr>\n",
       "    <tr>\n",
       "      <th>4</th>\n",
       "      <td>네 번째는 공급감소로 국내 물량이 부족하게 되면 유통질서가 왜곡될 가능성이 많기 때...</td>\n",
       "      <td>일부 경우에서의 유통질서 혼란을 방지하기 위해 거래형태의 변형이 필요하다. 의도적 ...</td>\n",
       "      <td>공급 감소 국내 물량 부족 유통 질서 왜곡 가능 때문 직거래 특판 개설 거래 형태 ...</td>\n",
       "      <td>일부 경우 에서 의 유통 질서 혼란 을 방지 하 기 위해 거래 형태 의 변형 이 필...</td>\n",
       "    </tr>\n",
       "  </tbody>\n",
       "</table>\n",
       "</div>"
      ],
      "text/plain": [
       "                                             passage  \\\n",
       "0  지금의 국가가 직면하는 위기는 전통사회의 그것과 위기의 규모뿐만아니라 종류와 성질 ...   \n",
       "1  자연재해나 불량 수산식품 파동 등의 인위적 재난이 수산분야 피해로이어질 경우 일반분...   \n",
       "2  하지만 이와 반대로 MG 파동 이후 기간(2005.10～2011.12)의 경우에는 ...   \n",
       "3  그러나 사회적 이슈가 발생하였을 경우에 전문적으로 이러한 정보를 수집하고 분석하는 ...   \n",
       "4  네 번째는 공급감소로 국내 물량이 부족하게 되면 유통질서가 왜곡될 가능성이 많기 때...   \n",
       "\n",
       "                                             summary  \\\n",
       "0  현대 사회에서 발생하는 다양하고 복잡한 위기는 과거와 다르게 국가의 재난으로 이어질...   \n",
       "1  수산분야의 인위적 재난 시수산물 수급 문제로 생산자들의 매출이 크게 줄고, 시장 전...   \n",
       "2  MG 파동 이후에는 양식 송어의 생산량의 증가가 통계적 유의성을 갖는 것으로 드러났...   \n",
       "3  사회적 이슈 발생 시 전문적으로 정보 수집 및 분석을 하는 관측 시스템이 아직 구축...   \n",
       "4  일부 경우에서의 유통질서 혼란을 방지하기 위해 거래형태의 변형이 필요하다. 의도적 ...   \n",
       "\n",
       "                                    PreprocessedText  \\\n",
       "0  지금 국가 직면 위기 전통 사회 그것 위기 규모 종류 성질 에서 사뭇 다르 다고 현...   \n",
       "1  자연재해 불량 수산 식품 파동 인위 재난 수산 분야 피해 이어질 경우 일반 분야 마...   \n",
       "2  대로 파동 이후 기간 경우 모형 적합 변수 통계 유의 존재 으로 나타났 기간 지날수...   \n",
       "3  사회 이슈 발생 였을 경우 전문 으로 이러 정보 수집 분석 관측 시스템 존재 는다고...   \n",
       "4  공급 감소 국내 물량 부족 유통 질서 왜곡 가능 때문 직거래 특판 개설 거래 형태 ...   \n",
       "\n",
       "                                        Pred_summary  \n",
       "0  현대 사회 에서 발생 하 는 다양 하 고 복잡 한 위기 는 과거 와 다르 게 국가 ...  \n",
       "1  수산 분야 의 인위 적 재난 시수 산물 수급 문제 로 생산자 들 의 매출 이 크 게...  \n",
       "2  MG 파동 이후 에 는 양식 송어 의 생산량 의 증가 가 통계 적 유의 성 을 갖 ...  \n",
       "3  사회 적 이슈 발생 시 전문 적 으로 정보 수집 및 분석 을 하 는 관측 시스템 이...  \n",
       "4  일부 경우 에서 의 유통 질서 혼란 을 방지 하 기 위해 거래 형태 의 변형 이 필...  "
      ]
     },
     "execution_count": 32,
     "metadata": {},
     "output_type": "execute_result"
    }
   ],
   "source": [
    "df.head()"
   ]
  },
  {
   "cell_type": "code",
   "execution_count": 33,
   "metadata": {},
   "outputs": [],
   "source": [
    "df['Pred_summary'] = df['Pred_summary'].apply(preprocess_sentence)"
   ]
  },
  {
   "cell_type": "code",
   "execution_count": 34,
   "metadata": {},
   "outputs": [],
   "source": [
    "df.rename(columns={'PreprocessedText': 'Pred_Text'}, inplace=True)\n"
   ]
  },
  {
   "cell_type": "code",
   "execution_count": 35,
   "metadata": {},
   "outputs": [
    {
     "data": {
      "text/html": [
       "<div>\n",
       "<style scoped>\n",
       "    .dataframe tbody tr th:only-of-type {\n",
       "        vertical-align: middle;\n",
       "    }\n",
       "\n",
       "    .dataframe tbody tr th {\n",
       "        vertical-align: top;\n",
       "    }\n",
       "\n",
       "    .dataframe thead th {\n",
       "        text-align: right;\n",
       "    }\n",
       "</style>\n",
       "<table border=\"1\" class=\"dataframe\">\n",
       "  <thead>\n",
       "    <tr style=\"text-align: right;\">\n",
       "      <th></th>\n",
       "      <th>passage</th>\n",
       "      <th>summary</th>\n",
       "      <th>Pred_Text</th>\n",
       "      <th>Pred_summary</th>\n",
       "    </tr>\n",
       "  </thead>\n",
       "  <tbody>\n",
       "    <tr>\n",
       "      <th>0</th>\n",
       "      <td>지금의 국가가 직면하는 위기는 전통사회의 그것과 위기의 규모뿐만아니라 종류와 성질 ...</td>\n",
       "      <td>현대 사회에서 발생하는 다양하고 복잡한 위기는 과거와 다르게 국가의 재난으로 이어질...</td>\n",
       "      <td>지금 국가 직면 위기 전통 사회 그것 위기 규모 종류 성질 에서 사뭇 다르 다고 현...</td>\n",
       "      <td>현대 사회 에서 발생 다양 복잡 위기 과거 다르 국가 재난 으로 이어질 으므로 국가...</td>\n",
       "    </tr>\n",
       "    <tr>\n",
       "      <th>1</th>\n",
       "      <td>자연재해나 불량 수산식품 파동 등의 인위적 재난이 수산분야 피해로이어질 경우 일반분...</td>\n",
       "      <td>수산분야의 인위적 재난 시수산물 수급 문제로 생산자들의 매출이 크게 줄고, 시장 전...</td>\n",
       "      <td>자연재해 불량 수산 식품 파동 인위 재난 수산 분야 피해 이어질 경우 일반 분야 마...</td>\n",
       "      <td>수산 분야 인위 재난 시수 산물 수급 문제 생산자 매출 시장 전체 생산자 잉여 감소...</td>\n",
       "    </tr>\n",
       "    <tr>\n",
       "      <th>2</th>\n",
       "      <td>하지만 이와 반대로 MG 파동 이후 기간(2005.10～2011.12)의 경우에는 ...</td>\n",
       "      <td>MG 파동 이후에는 양식 송어의 생산량의 증가가 통계적 유의성을 갖는 것으로 드러났...</td>\n",
       "      <td>대로 파동 이후 기간 경우 모형 적합 변수 통계 유의 존재 으로 나타났 기간 지날수...</td>\n",
       "      <td>파동 이후 양식 송어 생산량 증가 통계 유의 으로 드러났 통해 파동 이후 양식 송어...</td>\n",
       "    </tr>\n",
       "    <tr>\n",
       "      <th>3</th>\n",
       "      <td>그러나 사회적 이슈가 발생하였을 경우에 전문적으로 이러한 정보를 수집하고 분석하는 ...</td>\n",
       "      <td>사회적 이슈 발생 시 전문적으로 정보 수집 및 분석을 하는 관측 시스템이 아직 구축...</td>\n",
       "      <td>사회 이슈 발생 였을 경우 전문 으로 이러 정보 수집 분석 관측 시스템 존재 는다고...</td>\n",
       "      <td>사회 이슈 발생 전문 으로 정보 수집 분석 관측 시스템 아직 구축 정확 관측 단기 ...</td>\n",
       "    </tr>\n",
       "    <tr>\n",
       "      <th>4</th>\n",
       "      <td>네 번째는 공급감소로 국내 물량이 부족하게 되면 유통질서가 왜곡될 가능성이 많기 때...</td>\n",
       "      <td>일부 경우에서의 유통질서 혼란을 방지하기 위해 거래형태의 변형이 필요하다. 의도적 ...</td>\n",
       "      <td>공급 감소 국내 물량 부족 유통 질서 왜곡 가능 때문 직거래 특판 개설 거래 형태 ...</td>\n",
       "      <td>일부 경우 에서 유통 질서 혼란 방지 위해 거래 형태 변형 필요 의도 물량 창출 시...</td>\n",
       "    </tr>\n",
       "  </tbody>\n",
       "</table>\n",
       "</div>"
      ],
      "text/plain": [
       "                                             passage  \\\n",
       "0  지금의 국가가 직면하는 위기는 전통사회의 그것과 위기의 규모뿐만아니라 종류와 성질 ...   \n",
       "1  자연재해나 불량 수산식품 파동 등의 인위적 재난이 수산분야 피해로이어질 경우 일반분...   \n",
       "2  하지만 이와 반대로 MG 파동 이후 기간(2005.10～2011.12)의 경우에는 ...   \n",
       "3  그러나 사회적 이슈가 발생하였을 경우에 전문적으로 이러한 정보를 수집하고 분석하는 ...   \n",
       "4  네 번째는 공급감소로 국내 물량이 부족하게 되면 유통질서가 왜곡될 가능성이 많기 때...   \n",
       "\n",
       "                                             summary  \\\n",
       "0  현대 사회에서 발생하는 다양하고 복잡한 위기는 과거와 다르게 국가의 재난으로 이어질...   \n",
       "1  수산분야의 인위적 재난 시수산물 수급 문제로 생산자들의 매출이 크게 줄고, 시장 전...   \n",
       "2  MG 파동 이후에는 양식 송어의 생산량의 증가가 통계적 유의성을 갖는 것으로 드러났...   \n",
       "3  사회적 이슈 발생 시 전문적으로 정보 수집 및 분석을 하는 관측 시스템이 아직 구축...   \n",
       "4  일부 경우에서의 유통질서 혼란을 방지하기 위해 거래형태의 변형이 필요하다. 의도적 ...   \n",
       "\n",
       "                                           Pred_Text  \\\n",
       "0  지금 국가 직면 위기 전통 사회 그것 위기 규모 종류 성질 에서 사뭇 다르 다고 현...   \n",
       "1  자연재해 불량 수산 식품 파동 인위 재난 수산 분야 피해 이어질 경우 일반 분야 마...   \n",
       "2  대로 파동 이후 기간 경우 모형 적합 변수 통계 유의 존재 으로 나타났 기간 지날수...   \n",
       "3  사회 이슈 발생 였을 경우 전문 으로 이러 정보 수집 분석 관측 시스템 존재 는다고...   \n",
       "4  공급 감소 국내 물량 부족 유통 질서 왜곡 가능 때문 직거래 특판 개설 거래 형태 ...   \n",
       "\n",
       "                                        Pred_summary  \n",
       "0  현대 사회 에서 발생 다양 복잡 위기 과거 다르 국가 재난 으로 이어질 으므로 국가...  \n",
       "1  수산 분야 인위 재난 시수 산물 수급 문제 생산자 매출 시장 전체 생산자 잉여 감소...  \n",
       "2  파동 이후 양식 송어 생산량 증가 통계 유의 으로 드러났 통해 파동 이후 양식 송어...  \n",
       "3  사회 이슈 발생 전문 으로 정보 수집 분석 관측 시스템 아직 구축 정확 관측 단기 ...  \n",
       "4  일부 경우 에서 유통 질서 혼란 방지 위해 거래 형태 변형 필요 의도 물량 창출 시...  "
      ]
     },
     "execution_count": 35,
     "metadata": {},
     "output_type": "execute_result"
    }
   ],
   "source": [
    "df.head()"
   ]
  },
  {
   "cell_type": "code",
   "execution_count": 36,
   "metadata": {},
   "outputs": [
    {
     "name": "stdout",
     "output_type": "stream",
     "text": [
      "passage         0\n",
      "summary         0\n",
      "Pred_Text       5\n",
      "Pred_summary    2\n",
      "dtype: int64\n"
     ]
    }
   ],
   "source": [
    "df.replace('', np.nan, inplace=True)\n",
    "print(df.isnull().sum())"
   ]
  },
  {
   "cell_type": "code",
   "execution_count": 37,
   "metadata": {},
   "outputs": [
    {
     "name": "stdout",
     "output_type": "stream",
     "text": [
      "전체 샘플수 : 158464\n"
     ]
    }
   ],
   "source": [
    "df.dropna(axis = 0, inplace = True)\n",
    "print('전체 샘플수 :',(len(df)))"
   ]
  },
  {
   "cell_type": "code",
   "execution_count": 38,
   "metadata": {},
   "outputs": [
    {
     "name": "stdout",
     "output_type": "stream",
     "text": [
      "텍스트의 최소 길이 : 4\n",
      "텍스트의 최대 길이 : 259\n",
      "텍스트의 평균 길이 : 95.03571789176091\n",
      "요약의 최소 길이 : 1\n",
      "요약의 최대 길이 : 86\n",
      "요약의 평균 길이 : 27.1804384592084\n"
     ]
    },
    {
     "data": {
      "image/png": "[encoded data removed]",
      "text/plain": [
       "<Figure size 640x480 with 2 Axes>"
      ]
     },
     "metadata": {},
     "output_type": "display_data"
    },
    {
     "data": {
      "image/png": "[encoded data removed]",
      "text/plain": [
       "<Figure size 640x480 with 1 Axes>"
      ]
     },
     "metadata": {},
     "output_type": "display_data"
    },
    {
     "data": {
      "image/png": "[encoded data removed]",
      "text/plain": [
       "<Figure size 640x480 with 1 Axes>"
      ]
     },
     "metadata": {},
     "output_type": "display_data"
    }
   ],
   "source": [
    "text_len = [len(s.split()) for s in df['Pred_Text']]\n",
    "summary_len = [len(s.split()) for s in df['Pred_summary']]\n",
    "\n",
    "print('텍스트의 최소 길이 : {}'.format(np.min(text_len)))\n",
    "print('텍스트의 최대 길이 : {}'.format(np.max(text_len)))\n",
    "print('텍스트의 평균 길이 : {}'.format(np.mean(text_len)))\n",
    "print('요약의 최소 길이 : {}'.format(np.min(summary_len)))\n",
    "print('요약의 최대 길이 : {}'.format(np.max(summary_len)))\n",
    "print('요약의 평균 길이 : {}'.format(np.mean(summary_len)))\n",
    "\n",
    "plt.subplot(1,2,1)\n",
    "plt.boxplot(summary_len)\n",
    "plt.title('Summary')\n",
    "plt.subplot(1,2,2)\n",
    "plt.boxplot(text_len)\n",
    "plt.title('Text')\n",
    "plt.tight_layout()\n",
    "plt.show()\n",
    "\n",
    "plt.title('Summary')\n",
    "plt.hist(summary_len, bins=40)\n",
    "plt.xlabel('length of samples')\n",
    "plt.ylabel('number of samples')\n",
    "plt.show()\n",
    "\n",
    "plt.title('Text')\n",
    "plt.hist(text_len, bins=40)\n",
    "plt.xlabel('length of samples')\n",
    "plt.ylabel('number of samples')\n",
    "plt.show()"
   ]
  },
  {
   "cell_type": "code",
   "execution_count": 39,
   "metadata": {},
   "outputs": [],
   "source": [
    "text_max_len = 160\n",
    "summary_max_len = 50"
   ]
  },
  {
   "cell_type": "code",
   "execution_count": 40,
   "metadata": {},
   "outputs": [],
   "source": [
    "def below_threshold_len(max_len, nested_list):\n",
    "  cnt = 0\n",
    "  for s in nested_list:\n",
    "    if(len(s.split()) <= max_len):\n",
    "        cnt = cnt + 1\n",
    "  print('전체 샘플 중 길이가 %s 이하인 샘플의 비율: %s'%(max_len, (cnt / len(nested_list))))"
   ]
  },
  {
   "cell_type": "code",
   "execution_count": 41,
   "metadata": {},
   "outputs": [
    {
     "name": "stdout",
     "output_type": "stream",
     "text": [
      "전체 샘플 중 길이가 160 이하인 샘플의 비율: 0.952266760904685\n"
     ]
    }
   ],
   "source": [
    "below_threshold_len(text_max_len, df['Pred_Text'])\n"
   ]
  },
  {
   "cell_type": "code",
   "execution_count": 42,
   "metadata": {},
   "outputs": [
    {
     "name": "stdout",
     "output_type": "stream",
     "text": [
      "전체 샘플 중 길이가 50 이하인 샘플의 비율: 0.9739562298061389\n"
     ]
    }
   ],
   "source": [
    "below_threshold_len(summary_max_len, df['Pred_summary'])\n"
   ]
  },
  {
   "cell_type": "code",
   "execution_count": 43,
   "metadata": {},
   "outputs": [
    {
     "name": "stdout",
     "output_type": "stream",
     "text": [
      "전체 샘플수 : 149954\n"
     ]
    }
   ],
   "source": [
    "df = df[df['Pred_Text'].apply(lambda x: len(x.split()) <= text_max_len)]\n",
    "df = df[df['Pred_summary'].apply(lambda x: len(x.split()) <= summary_max_len)]\n",
    "print('전체 샘플수 :',(len(df)))"
   ]
  },
  {
   "cell_type": "code",
   "execution_count": 44,
   "metadata": {},
   "outputs": [
    {
     "data": {
      "text/html": [
       "<div>\n",
       "<style scoped>\n",
       "    .dataframe tbody tr th:only-of-type {\n",
       "        vertical-align: middle;\n",
       "    }\n",
       "\n",
       "    .dataframe tbody tr th {\n",
       "        vertical-align: top;\n",
       "    }\n",
       "\n",
       "    .dataframe thead th {\n",
       "        text-align: right;\n",
       "    }\n",
       "</style>\n",
       "<table border=\"1\" class=\"dataframe\">\n",
       "  <thead>\n",
       "    <tr style=\"text-align: right;\">\n",
       "      <th></th>\n",
       "      <th>passage</th>\n",
       "      <th>summary</th>\n",
       "      <th>Pred_Text</th>\n",
       "      <th>Pred_summary</th>\n",
       "    </tr>\n",
       "  </thead>\n",
       "  <tbody>\n",
       "    <tr>\n",
       "      <th>0</th>\n",
       "      <td>지금의 국가가 직면하는 위기는 전통사회의 그것과 위기의 규모뿐만아니라 종류와 성질 ...</td>\n",
       "      <td>현대 사회에서 발생하는 다양하고 복잡한 위기는 과거와 다르게 국가의 재난으로 이어질...</td>\n",
       "      <td>지금 국가 직면 위기 전통 사회 그것 위기 규모 종류 성질 에서 사뭇 다르 다고 현...</td>\n",
       "      <td>현대 사회 에서 발생 다양 복잡 위기 과거 다르 국가 재난 으로 이어질 으므로 국가...</td>\n",
       "    </tr>\n",
       "    <tr>\n",
       "      <th>1</th>\n",
       "      <td>자연재해나 불량 수산식품 파동 등의 인위적 재난이 수산분야 피해로이어질 경우 일반분...</td>\n",
       "      <td>수산분야의 인위적 재난 시수산물 수급 문제로 생산자들의 매출이 크게 줄고, 시장 전...</td>\n",
       "      <td>자연재해 불량 수산 식품 파동 인위 재난 수산 분야 피해 이어질 경우 일반 분야 마...</td>\n",
       "      <td>수산 분야 인위 재난 시수 산물 수급 문제 생산자 매출 시장 전체 생산자 잉여 감소...</td>\n",
       "    </tr>\n",
       "    <tr>\n",
       "      <th>2</th>\n",
       "      <td>하지만 이와 반대로 MG 파동 이후 기간(2005.10～2011.12)의 경우에는 ...</td>\n",
       "      <td>MG 파동 이후에는 양식 송어의 생산량의 증가가 통계적 유의성을 갖는 것으로 드러났...</td>\n",
       "      <td>대로 파동 이후 기간 경우 모형 적합 변수 통계 유의 존재 으로 나타났 기간 지날수...</td>\n",
       "      <td>파동 이후 양식 송어 생산량 증가 통계 유의 으로 드러났 통해 파동 이후 양식 송어...</td>\n",
       "    </tr>\n",
       "    <tr>\n",
       "      <th>3</th>\n",
       "      <td>그러나 사회적 이슈가 발생하였을 경우에 전문적으로 이러한 정보를 수집하고 분석하는 ...</td>\n",
       "      <td>사회적 이슈 발생 시 전문적으로 정보 수집 및 분석을 하는 관측 시스템이 아직 구축...</td>\n",
       "      <td>사회 이슈 발생 였을 경우 전문 으로 이러 정보 수집 분석 관측 시스템 존재 는다고...</td>\n",
       "      <td>사회 이슈 발생 전문 으로 정보 수집 분석 관측 시스템 아직 구축 정확 관측 단기 ...</td>\n",
       "    </tr>\n",
       "    <tr>\n",
       "      <th>4</th>\n",
       "      <td>네 번째는 공급감소로 국내 물량이 부족하게 되면 유통질서가 왜곡될 가능성이 많기 때...</td>\n",
       "      <td>일부 경우에서의 유통질서 혼란을 방지하기 위해 거래형태의 변형이 필요하다. 의도적 ...</td>\n",
       "      <td>공급 감소 국내 물량 부족 유통 질서 왜곡 가능 때문 직거래 특판 개설 거래 형태 ...</td>\n",
       "      <td>일부 경우 에서 유통 질서 혼란 방지 위해 거래 형태 변형 필요 의도 물량 창출 시...</td>\n",
       "    </tr>\n",
       "  </tbody>\n",
       "</table>\n",
       "</div>"
      ],
      "text/plain": [
       "                                             passage  \\\n",
       "0  지금의 국가가 직면하는 위기는 전통사회의 그것과 위기의 규모뿐만아니라 종류와 성질 ...   \n",
       "1  자연재해나 불량 수산식품 파동 등의 인위적 재난이 수산분야 피해로이어질 경우 일반분...   \n",
       "2  하지만 이와 반대로 MG 파동 이후 기간(2005.10～2011.12)의 경우에는 ...   \n",
       "3  그러나 사회적 이슈가 발생하였을 경우에 전문적으로 이러한 정보를 수집하고 분석하는 ...   \n",
       "4  네 번째는 공급감소로 국내 물량이 부족하게 되면 유통질서가 왜곡될 가능성이 많기 때...   \n",
       "\n",
       "                                             summary  \\\n",
       "0  현대 사회에서 발생하는 다양하고 복잡한 위기는 과거와 다르게 국가의 재난으로 이어질...   \n",
       "1  수산분야의 인위적 재난 시수산물 수급 문제로 생산자들의 매출이 크게 줄고, 시장 전...   \n",
       "2  MG 파동 이후에는 양식 송어의 생산량의 증가가 통계적 유의성을 갖는 것으로 드러났...   \n",
       "3  사회적 이슈 발생 시 전문적으로 정보 수집 및 분석을 하는 관측 시스템이 아직 구축...   \n",
       "4  일부 경우에서의 유통질서 혼란을 방지하기 위해 거래형태의 변형이 필요하다. 의도적 ...   \n",
       "\n",
       "                                           Pred_Text  \\\n",
       "0  지금 국가 직면 위기 전통 사회 그것 위기 규모 종류 성질 에서 사뭇 다르 다고 현...   \n",
       "1  자연재해 불량 수산 식품 파동 인위 재난 수산 분야 피해 이어질 경우 일반 분야 마...   \n",
       "2  대로 파동 이후 기간 경우 모형 적합 변수 통계 유의 존재 으로 나타났 기간 지날수...   \n",
       "3  사회 이슈 발생 였을 경우 전문 으로 이러 정보 수집 분석 관측 시스템 존재 는다고...   \n",
       "4  공급 감소 국내 물량 부족 유통 질서 왜곡 가능 때문 직거래 특판 개설 거래 형태 ...   \n",
       "\n",
       "                                        Pred_summary  \n",
       "0  현대 사회 에서 발생 다양 복잡 위기 과거 다르 국가 재난 으로 이어질 으므로 국가...  \n",
       "1  수산 분야 인위 재난 시수 산물 수급 문제 생산자 매출 시장 전체 생산자 잉여 감소...  \n",
       "2  파동 이후 양식 송어 생산량 증가 통계 유의 으로 드러났 통해 파동 이후 양식 송어...  \n",
       "3  사회 이슈 발생 전문 으로 정보 수집 분석 관측 시스템 아직 구축 정확 관측 단기 ...  \n",
       "4  일부 경우 에서 유통 질서 혼란 방지 위해 거래 형태 변형 필요 의도 물량 창출 시...  "
      ]
     },
     "execution_count": 44,
     "metadata": {},
     "output_type": "execute_result"
    }
   ],
   "source": [
    "df.head()"
   ]
  },
  {
   "cell_type": "code",
   "execution_count": 45,
   "metadata": {},
   "outputs": [
    {
     "data": {
      "text/html": [
       "<div>\n",
       "<style scoped>\n",
       "    .dataframe tbody tr th:only-of-type {\n",
       "        vertical-align: middle;\n",
       "    }\n",
       "\n",
       "    .dataframe tbody tr th {\n",
       "        vertical-align: top;\n",
       "    }\n",
       "\n",
       "    .dataframe thead th {\n",
       "        text-align: right;\n",
       "    }\n",
       "</style>\n",
       "<table border=\"1\" class=\"dataframe\">\n",
       "  <thead>\n",
       "    <tr style=\"text-align: right;\">\n",
       "      <th></th>\n",
       "      <th>passage</th>\n",
       "      <th>summary</th>\n",
       "      <th>Pred_Text</th>\n",
       "      <th>Pred_summary</th>\n",
       "      <th>decoder_input</th>\n",
       "      <th>decoder_target</th>\n",
       "    </tr>\n",
       "  </thead>\n",
       "  <tbody>\n",
       "    <tr>\n",
       "      <th>0</th>\n",
       "      <td>지금의 국가가 직면하는 위기는 전통사회의 그것과 위기의 규모뿐만아니라 종류와 성질 ...</td>\n",
       "      <td>현대 사회에서 발생하는 다양하고 복잡한 위기는 과거와 다르게 국가의 재난으로 이어질...</td>\n",
       "      <td>지금 국가 직면 위기 전통 사회 그것 위기 규모 종류 성질 에서 사뭇 다르 다고 현...</td>\n",
       "      <td>현대 사회 에서 발생 다양 복잡 위기 과거 다르 국가 재난 으로 이어질 으므로 국가...</td>\n",
       "      <td>sostoken 현대 사회 에서 발생 다양 복잡 위기 과거 다르 국가 재난 으로 이...</td>\n",
       "      <td>현대 사회 에서 발생 다양 복잡 위기 과거 다르 국가 재난 으로 이어질 으므로 국가...</td>\n",
       "    </tr>\n",
       "    <tr>\n",
       "      <th>1</th>\n",
       "      <td>자연재해나 불량 수산식품 파동 등의 인위적 재난이 수산분야 피해로이어질 경우 일반분...</td>\n",
       "      <td>수산분야의 인위적 재난 시수산물 수급 문제로 생산자들의 매출이 크게 줄고, 시장 전...</td>\n",
       "      <td>자연재해 불량 수산 식품 파동 인위 재난 수산 분야 피해 이어질 경우 일반 분야 마...</td>\n",
       "      <td>수산 분야 인위 재난 시수 산물 수급 문제 생산자 매출 시장 전체 생산자 잉여 감소...</td>\n",
       "      <td>sostoken 수산 분야 인위 재난 시수 산물 수급 문제 생산자 매출 시장 전체 ...</td>\n",
       "      <td>수산 분야 인위 재난 시수 산물 수급 문제 생산자 매출 시장 전체 생산자 잉여 감소...</td>\n",
       "    </tr>\n",
       "    <tr>\n",
       "      <th>2</th>\n",
       "      <td>하지만 이와 반대로 MG 파동 이후 기간(2005.10～2011.12)의 경우에는 ...</td>\n",
       "      <td>MG 파동 이후에는 양식 송어의 생산량의 증가가 통계적 유의성을 갖는 것으로 드러났...</td>\n",
       "      <td>대로 파동 이후 기간 경우 모형 적합 변수 통계 유의 존재 으로 나타났 기간 지날수...</td>\n",
       "      <td>파동 이후 양식 송어 생산량 증가 통계 유의 으로 드러났 통해 파동 이후 양식 송어...</td>\n",
       "      <td>sostoken 파동 이후 양식 송어 생산량 증가 통계 유의 으로 드러났 통해 파동...</td>\n",
       "      <td>파동 이후 양식 송어 생산량 증가 통계 유의 으로 드러났 통해 파동 이후 양식 송어...</td>\n",
       "    </tr>\n",
       "    <tr>\n",
       "      <th>3</th>\n",
       "      <td>그러나 사회적 이슈가 발생하였을 경우에 전문적으로 이러한 정보를 수집하고 분석하는 ...</td>\n",
       "      <td>사회적 이슈 발생 시 전문적으로 정보 수집 및 분석을 하는 관측 시스템이 아직 구축...</td>\n",
       "      <td>사회 이슈 발생 였을 경우 전문 으로 이러 정보 수집 분석 관측 시스템 존재 는다고...</td>\n",
       "      <td>사회 이슈 발생 전문 으로 정보 수집 분석 관측 시스템 아직 구축 정확 관측 단기 ...</td>\n",
       "      <td>sostoken 사회 이슈 발생 전문 으로 정보 수집 분석 관측 시스템 아직 구축 ...</td>\n",
       "      <td>사회 이슈 발생 전문 으로 정보 수집 분석 관측 시스템 아직 구축 정확 관측 단기 ...</td>\n",
       "    </tr>\n",
       "    <tr>\n",
       "      <th>4</th>\n",
       "      <td>네 번째는 공급감소로 국내 물량이 부족하게 되면 유통질서가 왜곡될 가능성이 많기 때...</td>\n",
       "      <td>일부 경우에서의 유통질서 혼란을 방지하기 위해 거래형태의 변형이 필요하다. 의도적 ...</td>\n",
       "      <td>공급 감소 국내 물량 부족 유통 질서 왜곡 가능 때문 직거래 특판 개설 거래 형태 ...</td>\n",
       "      <td>일부 경우 에서 유통 질서 혼란 방지 위해 거래 형태 변형 필요 의도 물량 창출 시...</td>\n",
       "      <td>sostoken 일부 경우 에서 유통 질서 혼란 방지 위해 거래 형태 변형 필요 의...</td>\n",
       "      <td>일부 경우 에서 유통 질서 혼란 방지 위해 거래 형태 변형 필요 의도 물량 창출 시...</td>\n",
       "    </tr>\n",
       "  </tbody>\n",
       "</table>\n",
       "</div>"
      ],
      "text/plain": [
       "                                             passage  \\\n",
       "0  지금의 국가가 직면하는 위기는 전통사회의 그것과 위기의 규모뿐만아니라 종류와 성질 ...   \n",
       "1  자연재해나 불량 수산식품 파동 등의 인위적 재난이 수산분야 피해로이어질 경우 일반분...   \n",
       "2  하지만 이와 반대로 MG 파동 이후 기간(2005.10～2011.12)의 경우에는 ...   \n",
       "3  그러나 사회적 이슈가 발생하였을 경우에 전문적으로 이러한 정보를 수집하고 분석하는 ...   \n",
       "4  네 번째는 공급감소로 국내 물량이 부족하게 되면 유통질서가 왜곡될 가능성이 많기 때...   \n",
       "\n",
       "                                             summary  \\\n",
       "0  현대 사회에서 발생하는 다양하고 복잡한 위기는 과거와 다르게 국가의 재난으로 이어질...   \n",
       "1  수산분야의 인위적 재난 시수산물 수급 문제로 생산자들의 매출이 크게 줄고, 시장 전...   \n",
       "2  MG 파동 이후에는 양식 송어의 생산량의 증가가 통계적 유의성을 갖는 것으로 드러났...   \n",
       "3  사회적 이슈 발생 시 전문적으로 정보 수집 및 분석을 하는 관측 시스템이 아직 구축...   \n",
       "4  일부 경우에서의 유통질서 혼란을 방지하기 위해 거래형태의 변형이 필요하다. 의도적 ...   \n",
       "\n",
       "                                           Pred_Text  \\\n",
       "0  지금 국가 직면 위기 전통 사회 그것 위기 규모 종류 성질 에서 사뭇 다르 다고 현...   \n",
       "1  자연재해 불량 수산 식품 파동 인위 재난 수산 분야 피해 이어질 경우 일반 분야 마...   \n",
       "2  대로 파동 이후 기간 경우 모형 적합 변수 통계 유의 존재 으로 나타났 기간 지날수...   \n",
       "3  사회 이슈 발생 였을 경우 전문 으로 이러 정보 수집 분석 관측 시스템 존재 는다고...   \n",
       "4  공급 감소 국내 물량 부족 유통 질서 왜곡 가능 때문 직거래 특판 개설 거래 형태 ...   \n",
       "\n",
       "                                        Pred_summary  \\\n",
       "0  현대 사회 에서 발생 다양 복잡 위기 과거 다르 국가 재난 으로 이어질 으므로 국가...   \n",
       "1  수산 분야 인위 재난 시수 산물 수급 문제 생산자 매출 시장 전체 생산자 잉여 감소...   \n",
       "2  파동 이후 양식 송어 생산량 증가 통계 유의 으로 드러났 통해 파동 이후 양식 송어...   \n",
       "3  사회 이슈 발생 전문 으로 정보 수집 분석 관측 시스템 아직 구축 정확 관측 단기 ...   \n",
       "4  일부 경우 에서 유통 질서 혼란 방지 위해 거래 형태 변형 필요 의도 물량 창출 시...   \n",
       "\n",
       "                                       decoder_input  \\\n",
       "0  sostoken 현대 사회 에서 발생 다양 복잡 위기 과거 다르 국가 재난 으로 이...   \n",
       "1  sostoken 수산 분야 인위 재난 시수 산물 수급 문제 생산자 매출 시장 전체 ...   \n",
       "2  sostoken 파동 이후 양식 송어 생산량 증가 통계 유의 으로 드러났 통해 파동...   \n",
       "3  sostoken 사회 이슈 발생 전문 으로 정보 수집 분석 관측 시스템 아직 구축 ...   \n",
       "4  sostoken 일부 경우 에서 유통 질서 혼란 방지 위해 거래 형태 변형 필요 의...   \n",
       "\n",
       "                                      decoder_target  \n",
       "0  현대 사회 에서 발생 다양 복잡 위기 과거 다르 국가 재난 으로 이어질 으므로 국가...  \n",
       "1  수산 분야 인위 재난 시수 산물 수급 문제 생산자 매출 시장 전체 생산자 잉여 감소...  \n",
       "2  파동 이후 양식 송어 생산량 증가 통계 유의 으로 드러났 통해 파동 이후 양식 송어...  \n",
       "3  사회 이슈 발생 전문 으로 정보 수집 분석 관측 시스템 아직 구축 정확 관측 단기 ...  \n",
       "4  일부 경우 에서 유통 질서 혼란 방지 위해 거래 형태 변형 필요 의도 물량 창출 시...  "
      ]
     },
     "execution_count": 45,
     "metadata": {},
     "output_type": "execute_result"
    }
   ],
   "source": [
    "# 요약 데이터에는 시작 토큰과 종료 토큰을 추가한다.\n",
    "df['decoder_input'] = df['Pred_summary'].apply(lambda x : 'sostoken '+ x)\n",
    "df['decoder_target'] = df['Pred_summary'].apply(lambda x : x + ' eostoken')\n",
    "df.head()\n"
   ]
  },
  {
   "cell_type": "code",
   "execution_count": 46,
   "metadata": {},
   "outputs": [],
   "source": [
    "encoder_input = np.array(df['Pred_Text'])\n",
    "decoder_input = np.array(df['decoder_input'])\n",
    "decoder_target = np.array(df['decoder_target'])\n"
   ]
  },
  {
   "cell_type": "code",
   "execution_count": 47,
   "metadata": {},
   "outputs": [
    {
     "name": "stdout",
     "output_type": "stream",
     "text": [
      "[  8675 133031 111230 ...  97878  24586  26477]\n"
     ]
    }
   ],
   "source": [
    "import random\n",
    "\n",
    "indices = np.arange(encoder_input.shape[0])\n",
    "np.random.shuffle(indices)\n",
    "print(indices)\n"
   ]
  },
  {
   "cell_type": "code",
   "execution_count": 48,
   "metadata": {},
   "outputs": [
    {
     "name": "stdout",
     "output_type": "stream",
     "text": [
      "테스트 데이터의 수 : 29990\n"
     ]
    }
   ],
   "source": [
    "n_of_val = int(len(encoder_input)*0.2)\n",
    "print('테스트 데이터의 수 :',n_of_val)"
   ]
  },
  {
   "cell_type": "code",
   "execution_count": 49,
   "metadata": {},
   "outputs": [],
   "source": [
    "encoder_input_train = encoder_input[:-n_of_val]\n",
    "decoder_input_train = decoder_input[:-n_of_val]\n",
    "decoder_target_train = decoder_target[:-n_of_val]\n",
    "\n",
    "encoder_input_test = encoder_input[-n_of_val:]\n",
    "decoder_input_test = decoder_input[-n_of_val:]\n",
    "decoder_target_test = decoder_target[-n_of_val:]"
   ]
  },
  {
   "cell_type": "code",
   "execution_count": 50,
   "metadata": {},
   "outputs": [
    {
     "name": "stdout",
     "output_type": "stream",
     "text": [
      "훈련 데이터의 개수 : 119964\n",
      "훈련 레이블의 개수 : 119964\n",
      "테스트 데이터의 개수 : 29990\n",
      "테스트 레이블의 개수 : 29990\n"
     ]
    }
   ],
   "source": [
    "print('훈련 데이터의 개수 :', len(encoder_input_train))\n",
    "print('훈련 레이블의 개수 :',len(decoder_input_train))\n",
    "print('테스트 데이터의 개수 :',len(encoder_input_test))\n",
    "print('테스트 레이블의 개수 :',len(decoder_input_test))"
   ]
  },
  {
   "cell_type": "code",
   "execution_count": 51,
   "metadata": {},
   "outputs": [],
   "source": [
    "src_tokenizer = Tokenizer()\n",
    "src_tokenizer.fit_on_texts(encoder_input_train)"
   ]
  },
  {
   "cell_type": "code",
   "execution_count": 52,
   "metadata": {},
   "outputs": [
    {
     "name": "stdout",
     "output_type": "stream",
     "text": [
      "단어 집합(vocabulary)의 크기 : 82923\n",
      "등장 빈도가 6번 이하인 희귀 단어의 수: 54035\n",
      "단어 집합에서 희귀 단어를 제외시킬 경우의 단어 집합의 크기 28888\n",
      "단어 집합에서 희귀 단어의 비율: 65.16286193215393\n",
      "전체 등장 빈도에서 희귀 단어 등장 빈도 비율: 1.0752961906954506\n"
     ]
    }
   ],
   "source": [
    "threshold = 7\n",
    "total_cnt = len(src_tokenizer.word_index) # 단어의 수\n",
    "rare_cnt = 0 # 등장 빈도수가 threshold보다 작은 단어의 개수를 카운트\n",
    "total_freq = 0 # 훈련 데이터의 전체 단어 빈도수 총 합\n",
    "rare_freq = 0 # 등장 빈도수가 threshold보다 작은 단어의 등장 빈도수의 총 합\n",
    "\n",
    "# 단어와 빈도수의 쌍(pair)을 key와 value로 받는다.\n",
    "for key, value in src_tokenizer.word_counts.items():\n",
    "    total_freq = total_freq + value\n",
    "\n",
    "    # 단어의 등장 빈도수가 threshold보다 작으면\n",
    "    if(value < threshold):\n",
    "        rare_cnt = rare_cnt + 1\n",
    "        rare_freq = rare_freq + value\n",
    "\n",
    "print('단어 집합(vocabulary)의 크기 :',total_cnt)\n",
    "print('등장 빈도가 %s번 이하인 희귀 단어의 수: %s'%(threshold - 1, rare_cnt))\n",
    "print('단어 집합에서 희귀 단어를 제외시킬 경우의 단어 집합의 크기 %s'%(total_cnt - rare_cnt))\n",
    "print(\"단어 집합에서 희귀 단어의 비율:\", (rare_cnt / total_cnt)*100)\n",
    "print(\"전체 등장 빈도에서 희귀 단어 등장 빈도 비율:\", (rare_freq / total_freq)*100)"
   ]
  },
  {
   "cell_type": "code",
   "execution_count": 53,
   "metadata": {},
   "outputs": [],
   "source": [
    "src_vocab = 29000\n",
    "src_tokenizer = Tokenizer(num_words = src_vocab) \n",
    "src_tokenizer.fit_on_texts(encoder_input_train)\n",
    "\n",
    "# 텍스트 시퀀스를 정수 시퀀스로 변환\n",
    "encoder_input_train = src_tokenizer.texts_to_sequences(encoder_input_train) \n",
    "encoder_input_test = src_tokenizer.texts_to_sequences(encoder_input_test)"
   ]
  },
  {
   "cell_type": "code",
   "execution_count": 54,
   "metadata": {},
   "outputs": [
    {
     "name": "stdout",
     "output_type": "stream",
     "text": [
      "[[587, 17, 1306, 434, 498, 8, 484, 434, 133, 1056, 2180, 2, 9516, 638, 44, 1004, 8, 2, 186, 57, 1243, 434, 71, 5330, 185, 3365, 4024, 590, 8, 691, 411, 434, 634, 47, 871, 1011, 299, 434, 59, 32, 17, 590, 1, 1286, 5, 17, 21, 434, 77, 71, 1484, 5, 4925, 3060, 277, 253, 848, 69, 198, 908, 384, 156, 17, 83, 190, 282, 33], [3365, 3946, 1136, 618, 5654, 4024, 590, 1136, 78, 364, 2369, 5, 138, 78, 820, 1940, 219, 227, 219, 1931, 706, 23, 71, 22, 21, 706, 23, 71, 5, 1940, 219, 93, 227, 219, 2376, 1437, 1417, 41, 45, 162, 165, 2376, 4447, 219, 22, 820, 515, 5, 1940, 219, 5, 31, 45, 281, 1252, 66, 515, 4447, 219, 22, 1136, 618, 5654, 227, 219, 5, 515, 4447, 219, 2376, 4447, 609, 162, 1, 8, 2571, 219, 28, 891, 22], [1035, 5654, 89, 174, 5, 351, 650, 391, 322, 850, 218, 1, 143, 174, 8612, 1144, 20641, 1940, 850, 1, 64, 1, 25, 21, 25, 28, 475, 1, 5, 1144, 20641, 1940, 60, 5654, 305, 174, 89, 174, 1, 184, 376, 1, 15, 1220, 419, 5654, 1940, 636, 184, 5654, 89, 1144, 20641, 1940, 305, 184, 219, 1, 143, 1940, 64, 636, 9001, 305, 184, 4582, 202, 72, 1, 408, 5654, 89, 1144, 20641, 102, 3687, 663, 3213]]\n"
     ]
    }
   ],
   "source": [
    "print(encoder_input_train[:3])\n"
   ]
  },
  {
   "cell_type": "code",
   "execution_count": 55,
   "metadata": {},
   "outputs": [],
   "source": [
    "tar_tokenizer = Tokenizer()\n",
    "tar_tokenizer.fit_on_texts(decoder_input_train)\n"
   ]
  },
  {
   "cell_type": "code",
   "execution_count": 56,
   "metadata": {},
   "outputs": [
    {
     "name": "stdout",
     "output_type": "stream",
     "text": [
      "단어 집합(vocabulary)의 크기 : 48237\n",
      "등장 빈도가 5번 이하인 희귀 단어의 수: 32315\n",
      "단어 집합에서 희귀 단어를 제외시킬 경우의 단어 집합의 크기 15922\n",
      "단어 집합에서 희귀 단어의 비율: 66.99214296079774\n",
      "전체 등장 빈도에서 희귀 단어 등장 빈도 비율: 1.8618710223097295\n"
     ]
    }
   ],
   "source": [
    "threshold = 6\n",
    "total_cnt = len(tar_tokenizer.word_index) # 단어의 수\n",
    "rare_cnt = 0 # 등장 빈도수가 threshold보다 작은 단어의 개수를 카운트\n",
    "total_freq = 0 # 훈련 데이터의 전체 단어 빈도수 총 합\n",
    "rare_freq = 0 # 등장 빈도수가 threshold보다 작은 단어의 등장 빈도수의 총 합\n",
    "\n",
    "# 단어와 빈도수의 쌍(pair)을 key와 value로 받는다.\n",
    "for key, value in tar_tokenizer.word_counts.items():\n",
    "    total_freq = total_freq + value\n",
    "\n",
    "    # 단어의 등장 빈도수가 threshold보다 작으면\n",
    "    if(value < threshold):\n",
    "        rare_cnt = rare_cnt + 1\n",
    "        rare_freq = rare_freq + value\n",
    "\n",
    "print('단어 집합(vocabulary)의 크기 :',total_cnt)\n",
    "print('등장 빈도가 %s번 이하인 희귀 단어의 수: %s'%(threshold - 1, rare_cnt))\n",
    "print('단어 집합에서 희귀 단어를 제외시킬 경우의 단어 집합의 크기 %s'%(total_cnt - rare_cnt))\n",
    "print(\"단어 집합에서 희귀 단어의 비율:\", (rare_cnt / total_cnt)*100)\n",
    "print(\"전체 등장 빈도에서 희귀 단어 등장 빈도 비율:\", (rare_freq / total_freq)*100)\n"
   ]
  },
  {
   "cell_type": "code",
   "execution_count": 57,
   "metadata": {},
   "outputs": [],
   "source": [
    "tar_vocab = 16000\n",
    "tar_tokenizer = Tokenizer(num_words = tar_vocab) \n",
    "tar_tokenizer.fit_on_texts(decoder_input_train)\n",
    "tar_tokenizer.fit_on_texts(decoder_target_train)\n"
   ]
  },
  {
   "cell_type": "code",
   "execution_count": 58,
   "metadata": {},
   "outputs": [],
   "source": [
    "# 텍스트 시퀀스를 정수 시퀀스로 변환\n",
    "decoder_input_train = tar_tokenizer.texts_to_sequences(decoder_input_train) \n",
    "decoder_target_train = tar_tokenizer.texts_to_sequences(decoder_target_train)\n",
    "decoder_input_test = tar_tokenizer.texts_to_sequences(decoder_input_test)\n",
    "decoder_target_test = tar_tokenizer.texts_to_sequences(decoder_target_test)\n"
   ]
  },
  {
   "cell_type": "code",
   "execution_count": 59,
   "metadata": {},
   "outputs": [
    {
     "name": "stdout",
     "output_type": "stream",
     "text": [
      "[[2, 905, 10, 4, 78, 47, 830, 369, 581, 396, 20, 497, 1, 2325, 430, 20, 1197, 523, 144, 8], [2, 1029, 79, 3858, 497, 4186, 3896, 660, 19, 2246, 1312, 42, 266, 2246, 3717, 163, 217, 42, 263, 1281, 13, 179, 460, 3717, 163, 29], [2, 5138, 85, 1114, 1827, 51, 349, 1198, 1, 2636, 26, 5138, 85, 1114, 102, 3507, 685, 2689], [2, 10, 721, 78, 181, 1, 34, 586, 30, 1889, 104, 719, 155, 772, 1889, 957, 523, 309, 431], [2, 361, 24, 4, 724, 888, 1357, 526, 12, 357, 212, 1968, 8, 1014, 1795, 422, 42, 1750, 6853, 710, 1592, 8]]\n"
     ]
    }
   ],
   "source": [
    "print(decoder_input_train[:5])\n"
   ]
  },
  {
   "cell_type": "code",
   "execution_count": 60,
   "metadata": {},
   "outputs": [
    {
     "name": "stdout",
     "output_type": "stream",
     "text": [
      "[[905, 10, 4, 78, 47, 830, 369, 581, 396, 20, 497, 1, 2325, 430, 20, 1197, 523, 144, 8, 3], [1029, 79, 3858, 497, 4186, 3896, 660, 19, 2246, 1312, 42, 266, 2246, 3717, 163, 217, 42, 263, 1281, 13, 179, 460, 3717, 163, 29, 3], [5138, 85, 1114, 1827, 51, 349, 1198, 1, 2636, 26, 5138, 85, 1114, 102, 3507, 685, 2689, 3], [10, 721, 78, 181, 1, 34, 586, 30, 1889, 104, 719, 155, 772, 1889, 957, 523, 309, 431, 3], [361, 24, 4, 724, 888, 1357, 526, 12, 357, 212, 1968, 8, 1014, 1795, 422, 42, 1750, 6853, 710, 1592, 8, 3]]\n"
     ]
    }
   ],
   "source": [
    "print(decoder_target_train[:5])\n"
   ]
  },
  {
   "cell_type": "code",
   "execution_count": 61,
   "metadata": {},
   "outputs": [],
   "source": [
    "drop_train = [index for index, sentence in enumerate(decoder_input_train) if len(sentence) == 1]\n",
    "drop_test = [index for index, sentence in enumerate(decoder_input_test) if len(sentence) == 1]\n"
   ]
  },
  {
   "cell_type": "code",
   "execution_count": 62,
   "metadata": {},
   "outputs": [
    {
     "name": "stdout",
     "output_type": "stream",
     "text": [
      "삭제할 훈련 데이터의 개수 : 0\n",
      "삭제할 테스트 데이터의 개수 : 0\n"
     ]
    }
   ],
   "source": [
    "print('삭제할 훈련 데이터의 개수 :',len(drop_train))\n",
    "print('삭제할 테스트 데이터의 개수 :',len(drop_test))\n"
   ]
  },
  {
   "cell_type": "code",
   "execution_count": 63,
   "metadata": {},
   "outputs": [],
   "source": [
    "# encoder_input_train = np.delete(encoder_input_train, drop_train, axis=0)\n",
    "# decoder_input_train = np.delete(decoder_input_train, drop_train, axis=0)\n",
    "# decoder_target_train = np.delete(decoder_target_train, drop_train, axis=0)\n",
    "\n",
    "# encoder_input_test = np.delete(encoder_input_test, drop_test, axis=0)\n",
    "# decoder_input_test = np.delete(decoder_input_test, drop_test, axis=0)\n",
    "# decoder_target_test = np.delete(decoder_target_test, drop_test, axis=0)\n",
    "\n",
    "# print('훈련 데이터의 개수 :', len(encoder_input_train))\n",
    "# print('훈련 레이블의 개수 :',len(decoder_input_train))\n",
    "# print('테스트 데이터의 개수 :',len(encoder_input_test))\n",
    "# print('테스트 레이블의 개수 :',len(decoder_input_test))\n"
   ]
  },
  {
   "cell_type": "code",
   "execution_count": 64,
   "metadata": {},
   "outputs": [],
   "source": [
    "encoder_input_train = pad_sequences(encoder_input_train, maxlen = text_max_len, padding='post')\n",
    "encoder_input_test = pad_sequences(encoder_input_test, maxlen = text_max_len, padding='post')\n",
    "decoder_input_train = pad_sequences(decoder_input_train, maxlen = summary_max_len, padding='post')\n",
    "decoder_target_train = pad_sequences(decoder_target_train, maxlen = summary_max_len, padding='post')\n",
    "decoder_input_test = pad_sequences(decoder_input_test, maxlen = summary_max_len, padding='post')\n",
    "decoder_target_test = pad_sequences(decoder_target_test, maxlen = summary_max_len, padding='post')\n"
   ]
  },
  {
   "cell_type": "code",
   "execution_count": 65,
   "metadata": {},
   "outputs": [],
   "source": [
    "from tensorflow.keras.layers import Input, LSTM, Embedding, Dense, Concatenate\n",
    "from tensorflow.keras.models import Model\n",
    "from tensorflow.keras.callbacks import EarlyStopping, ModelCheckpoint\n"
   ]
  },
  {
   "cell_type": "code",
   "execution_count": 66,
   "metadata": {},
   "outputs": [
    {
     "name": "stdout",
     "output_type": "stream",
     "text": [
      "WARNING:tensorflow:Layer lstm will not use cuDNN kernels since it doesn't meet the criteria. It will use a generic GPU kernel as fallback when running on GPU.\n",
      "WARNING:tensorflow:Layer lstm_1 will not use cuDNN kernels since it doesn't meet the criteria. It will use a generic GPU kernel as fallback when running on GPU.\n",
      "WARNING:tensorflow:Layer lstm_2 will not use cuDNN kernels since it doesn't meet the criteria. It will use a generic GPU kernel as fallback when running on GPU.\n"
     ]
    }
   ],
   "source": [
    "embedding_dim = 128\n",
    "hidden_size = 256\n",
    "\n",
    "# 인코더\n",
    "encoder_inputs = Input(shape=(text_max_len,))\n",
    "\n",
    "# 인코더의 임베딩 층\n",
    "enc_emb = Embedding(src_vocab, embedding_dim)(encoder_inputs)\n",
    "\n",
    "# 인코더의 LSTM 1\n",
    "encoder_lstm1 = LSTM(hidden_size, return_sequences=True, return_state=True ,dropout = 0.4, recurrent_dropout = 0.4)\n",
    "encoder_output1, state_h1, state_c1 = encoder_lstm1(enc_emb)\n",
    "\n",
    "# 인코더의 LSTM 2\n",
    "encoder_lstm2 = LSTM(hidden_size, return_sequences=True, return_state=True, dropout=0.4, recurrent_dropout=0.4)\n",
    "encoder_output2, state_h2, state_c2 = encoder_lstm2(encoder_output1)\n",
    "\n",
    "# 인코더의 LSTM 3\n",
    "encoder_lstm3 = LSTM(hidden_size, return_state=True, return_sequences=True, dropout=0.4, recurrent_dropout=0.4)\n",
    "encoder_outputs, state_h, state_c= encoder_lstm3(encoder_output2)\n"
   ]
  },
  {
   "cell_type": "code",
   "execution_count": 67,
   "metadata": {},
   "outputs": [
    {
     "name": "stdout",
     "output_type": "stream",
     "text": [
      "WARNING:tensorflow:Layer lstm_3 will not use cuDNN kernels since it doesn't meet the criteria. It will use a generic GPU kernel as fallback when running on GPU.\n"
     ]
    }
   ],
   "source": [
    "# 디코더\n",
    "decoder_inputs = Input(shape=(None,))\n",
    "\n",
    "# 디코더의 임베딩 층\n",
    "dec_emb_layer = Embedding(tar_vocab, embedding_dim)\n",
    "dec_emb = dec_emb_layer(decoder_inputs)\n",
    "\n",
    "# 디코더의 LSTM\n",
    "decoder_lstm = LSTM(hidden_size, return_sequences = True, return_state = True, dropout = 0.4, recurrent_dropout=0.2)\n",
    "decoder_outputs, _, _ = decoder_lstm(dec_emb, initial_state = [state_h, state_c])\n"
   ]
  },
  {
   "cell_type": "code",
   "execution_count": 68,
   "metadata": {},
   "outputs": [
    {
     "name": "stdout",
     "output_type": "stream",
     "text": [
      "Model: \"model\"\n",
      "__________________________________________________________________________________________________\n",
      " Layer (type)                   Output Shape         Param #     Connected to                     \n",
      "==================================================================================================\n",
      " input_1 (InputLayer)           [(None, 160)]        0           []                               \n",
      "                                                                                                  \n",
      " embedding (Embedding)          (None, 160, 128)     3712000     ['input_1[0][0]']                \n",
      "                                                                                                  \n",
      " lstm (LSTM)                    [(None, 160, 256),   394240      ['embedding[0][0]']              \n",
      "                                 (None, 256),                                                     \n",
      "                                 (None, 256)]                                                     \n",
      "                                                                                                  \n",
      " input_2 (InputLayer)           [(None, None)]       0           []                               \n",
      "                                                                                                  \n",
      " lstm_1 (LSTM)                  [(None, 160, 256),   525312      ['lstm[0][0]']                   \n",
      "                                 (None, 256),                                                     \n",
      "                                 (None, 256)]                                                     \n",
      "                                                                                                  \n",
      " embedding_1 (Embedding)        (None, None, 128)    2048000     ['input_2[0][0]']                \n",
      "                                                                                                  \n",
      " lstm_2 (LSTM)                  [(None, 160, 256),   525312      ['lstm_1[0][0]']                 \n",
      "                                 (None, 256),                                                     \n",
      "                                 (None, 256)]                                                     \n",
      "                                                                                                  \n",
      " lstm_3 (LSTM)                  [(None, None, 256),  394240      ['embedding_1[0][0]',            \n",
      "                                 (None, 256),                     'lstm_2[0][1]',                 \n",
      "                                 (None, 256)]                     'lstm_2[0][2]']                 \n",
      "                                                                                                  \n",
      " dense (Dense)                  (None, None, 16000)  4112000     ['lstm_3[0][0]']                 \n",
      "                                                                                                  \n",
      "==================================================================================================\n",
      "Total params: 11,711,104\n",
      "Trainable params: 11,711,104\n",
      "Non-trainable params: 0\n",
      "__________________________________________________________________________________________________\n"
     ]
    }
   ],
   "source": [
    "# 디코더의 출력층\n",
    "decoder_softmax_layer = Dense(tar_vocab, activation = 'softmax')\n",
    "decoder_softmax_outputs = decoder_softmax_layer(decoder_outputs) \n",
    "\n",
    "# 모델 정의\n",
    "model = Model([encoder_inputs, decoder_inputs], decoder_softmax_outputs)\n",
    "model.summary()\n"
   ]
  },
  {
   "cell_type": "code",
   "execution_count": 69,
   "metadata": {},
   "outputs": [],
   "source": [
    "urllib.request.urlretrieve(\"https://raw.githubusercontent.com/ukairia777/tensorflow-nlp-tutorial/main/20.%20Text%20Summarization%20with%20Attention/attention.py\", filename=\"attention.py\")\n",
    "from attention import AttentionLayer\n"
   ]
  },
  {
   "cell_type": "code",
   "execution_count": 70,
   "metadata": {},
   "outputs": [
    {
     "name": "stdout",
     "output_type": "stream",
     "text": [
      "Model: \"model_1\"\n",
      "__________________________________________________________________________________________________\n",
      " Layer (type)                   Output Shape         Param #     Connected to                     \n",
      "==================================================================================================\n",
      " input_1 (InputLayer)           [(None, 160)]        0           []                               \n",
      "                                                                                                  \n",
      " embedding (Embedding)          (None, 160, 128)     3712000     ['input_1[0][0]']                \n",
      "                                                                                                  \n",
      " lstm (LSTM)                    [(None, 160, 256),   394240      ['embedding[0][0]']              \n",
      "                                 (None, 256),                                                     \n",
      "                                 (None, 256)]                                                     \n",
      "                                                                                                  \n",
      " input_2 (InputLayer)           [(None, None)]       0           []                               \n",
      "                                                                                                  \n",
      " lstm_1 (LSTM)                  [(None, 160, 256),   525312      ['lstm[0][0]']                   \n",
      "                                 (None, 256),                                                     \n",
      "                                 (None, 256)]                                                     \n",
      "                                                                                                  \n",
      " embedding_1 (Embedding)        (None, None, 128)    2048000     ['input_2[0][0]']                \n",
      "                                                                                                  \n",
      " lstm_2 (LSTM)                  [(None, 160, 256),   525312      ['lstm_1[0][0]']                 \n",
      "                                 (None, 256),                                                     \n",
      "                                 (None, 256)]                                                     \n",
      "                                                                                                  \n",
      " lstm_3 (LSTM)                  [(None, None, 256),  394240      ['embedding_1[0][0]',            \n",
      "                                 (None, 256),                     'lstm_2[0][1]',                 \n",
      "                                 (None, 256)]                     'lstm_2[0][2]']                 \n",
      "                                                                                                  \n",
      " attention_layer (AttentionLaye  ((None, None, 256),  131328     ['lstm_2[0][0]',                 \n",
      " r)                              (None, None, 160))               'lstm_3[0][0]']                 \n",
      "                                                                                                  \n",
      " concat_layer (Concatenate)     (None, None, 512)    0           ['lstm_3[0][0]',                 \n",
      "                                                                  'attention_layer[0][0]']        \n",
      "                                                                                                  \n",
      " dense_1 (Dense)                (None, None, 16000)  8208000     ['concat_layer[0][0]']           \n",
      "                                                                                                  \n",
      "==================================================================================================\n",
      "Total params: 15,938,432\n",
      "Trainable params: 15,938,432\n",
      "Non-trainable params: 0\n",
      "__________________________________________________________________________________________________\n"
     ]
    }
   ],
   "source": [
    "# 어텐션 층(어텐션 함수)\n",
    "attn_layer = AttentionLayer(name='attention_layer')\n",
    "attn_out, attn_states = attn_layer([encoder_outputs, decoder_outputs])\n",
    "\n",
    "# 어텐션의 결과와 디코더의 hidden state들을 연결\n",
    "decoder_concat_input = Concatenate(axis = -1, name='concat_layer')([decoder_outputs, attn_out])\n",
    "\n",
    "# 디코더의 출력층\n",
    "decoder_softmax_layer = Dense(tar_vocab, activation='softmax')\n",
    "decoder_softmax_outputs = decoder_softmax_layer(decoder_concat_input)\n",
    "\n",
    "# 모델 정의\n",
    "model = Model([encoder_inputs, decoder_inputs], decoder_softmax_outputs)\n",
    "model.summary()\n"
   ]
  },
  {
   "cell_type": "code",
   "execution_count": 71,
   "metadata": {},
   "outputs": [],
   "source": [
    "model.compile(optimizer='rmsprop', loss='sparse_categorical_crossentropy')\n"
   ]
  },
  {
   "cell_type": "code",
   "execution_count": null,
   "metadata": {},
   "outputs": [],
   "source": [
    "es = EarlyStopping(monitor='val_loss', mode='min', verbose=1, patience = 2)\n",
    "history = model.fit(x = [encoder_input_train, decoder_input_train], y = decoder_target_train, \\\n",
    "          validation_data = ([encoder_input_test, decoder_input_test], decoder_target_test),\n",
    "          batch_size = 128, callbacks=[es], epochs = 30)\n"
   ]
  },
  {
   "cell_type": "code",
   "execution_count": null,
   "metadata": {},
   "outputs": [
    {
     "data": {
      "image/png": "[encoded data removed]",
      "text/plain": [
       "<Figure size 640x480 with 1 Axes>"
      ]
     },
     "metadata": {},
     "output_type": "display_data"
    }
   ],
   "source": [
    "plt.plot(history.history['loss'], label='train')\n",
    "plt.plot(history.history['val_loss'], label='test')\n",
    "plt.legend()\n",
    "plt.show()\n"
   ]
  },
  {
   "cell_type": "markdown",
   "metadata": {},
   "source": [
    " seq2seq + attention으로 요약 모델 테스트하기"
   ]
  },
  {
   "cell_type": "code",
   "execution_count": null,
   "metadata": {},
   "outputs": [],
   "source": [
    "import tensorflow as tf\n",
    "\n",
    "class AttentionLayer(tf.keras.layers.Layer):\n",
    "    def __init__(self, **kwargs):\n",
    "        super(AttentionLayer, self).__init__(**kwargs)\n",
    "\n",
    "    def build(self, input_shape):\n",
    "        # 가중치 행렬을 정의하고 Xavier 초기화(Xavier/Glorot initialization)를 적용합니다.\n",
    "        self.W_q = self.add_weight(shape=(input_shape[-1], input_shape[-1]),\n",
    "                                   initializer='glorot_uniform',\n",
    "                                   trainable=True,\n",
    "                                   name='query_weight')\n",
    "        self.W_k = self.add_weight(shape=(input_shape[-1], input_shape[-1]),\n",
    "                                   initializer='glorot_uniform',\n",
    "                                   trainable=True,\n",
    "                                   name='key_weight')\n",
    "        super(AttentionLayer, self).build(input_shape)\n",
    "\n",
    "    def call(self, inputs):\n",
    "        # 쿼리(Query)와 키(Key)를 계산합니다.\n",
    "        query = tf.matmul(inputs, self.W_q)\n",
    "        key = tf.matmul(inputs, self.W_k)\n",
    "\n",
    "        # 유사도를 계산합니다. 여기에서는 내적(dot product)을 사용합니다.\n",
    "        similarity = tf.matmul(query, key, transpose_b=True)\n",
    "\n",
    "        # 유사도를 스케일링합니다. (예: 루트 단위로 나눠줍니다)\n",
    "        d_k = tf.cast(tf.shape(key)[-1], tf.float32)\n",
    "        scaled_similarity = similarity / tf.math.sqrt(d_k)\n",
    "\n",
    "        # softmax를 적용하여 가중치를 계산합니다.\n",
    "        weights = tf.nn.softmax(scaled_similarity, axis=-1)\n",
    "\n",
    "        # 가중합을 계산하여 어텐션 출력을 구합니다.\n",
    "        output = tf.matmul(weights, inputs)\n",
    "\n",
    "        return output\n"
   ]
  },
  {
   "cell_type": "code",
   "execution_count": null,
   "metadata": {},
   "outputs": [],
   "source": [
    "import tensorflow as tf\n",
    "\n",
    "class AttentionLayer(tf.keras.layers.Layer):\n",
    "    def __init__(self, **kwargs):\n",
    "        super(AttentionLayer, self).__init__(**kwargs)\n",
    "\n",
    "    def build(self, input_shape):\n",
    "        # 어텐션 레이어의 가중치를 정의하고 초기화합니다 (만약 필요하다면)\n",
    "        super(AttentionLayer, self).build(input_shape)\n",
    "\n",
    "    def call(self, inputs):\n",
    "        # 어텐션 메커니즘을 구현합니다\n",
    "        # 예를 들어, 점곱 어텐션(dot-product attention)을 사용하거나 다른 어텐션 메커니즘을 적용할 수 있습니다\n",
    "        return attention_result\n"
   ]
  },
  {
   "cell_type": "code",
   "execution_count": null,
   "metadata": {},
   "outputs": [
    {
     "ename": "IndentationError",
     "evalue": "expected an indented block (15018678.py, line 9)",
     "output_type": "error",
     "traceback": [
      "\u001b[1;36m  Cell \u001b[1;32mIn[10], line 9\u001b[1;36m\u001b[0m\n\u001b[1;33m    loaded_model = load_model(\"./model2.h5\", custom_objects={'AttentionLayer': AttentionLayer})\u001b[0m\n\u001b[1;37m    ^\u001b[0m\n\u001b[1;31mIndentationError\u001b[0m\u001b[1;31m:\u001b[0m expected an indented block\n"
     ]
    }
   ],
   "source": [
    "from tensorflow.keras.models import load_model\n",
    "\n",
    "# 모델을 로드하기 전에 AttentionLayer 클래스를 정의합니다\n",
    "class AttentionLayer(tf.keras.layers.Layer):\n",
    "    # 어텐션 레이어의 구현 내용을 작성합니다\n",
    "\n",
    "# 커스텀 어텐션 레이어를 사용하여 모델을 로드합니다\n",
    "# model_path = \"./model2.h5\"\n",
    "model = load_model(\"./model2.h5\", custom_objects={'AttentionLayer': AttentionLayer})\n"
   ]
  },
  {
   "cell_type": "code",
   "execution_count": 77,
   "metadata": {},
   "outputs": [
    {
     "name": "stdout",
     "output_type": "stream",
     "text": [
      "WARNING:tensorflow:Layer lstm will not use cuDNN kernels since it doesn't meet the criteria. It will use a generic GPU kernel as fallback when running on GPU.\n",
      "WARNING:tensorflow:Layer lstm_1 will not use cuDNN kernels since it doesn't meet the criteria. It will use a generic GPU kernel as fallback when running on GPU.\n",
      "WARNING:tensorflow:Layer lstm_2 will not use cuDNN kernels since it doesn't meet the criteria. It will use a generic GPU kernel as fallback when running on GPU.\n",
      "WARNING:tensorflow:Layer lstm_3 will not use cuDNN kernels since it doesn't meet the criteria. It will use a generic GPU kernel as fallback when running on GPU.\n"
     ]
    }
   ],
   "source": [
    "model = load_model('./model2.h5',custom_objects={'AttentionLayer':AttentionLayer})"
   ]
  },
  {
   "cell_type": "code",
   "execution_count": 73,
   "metadata": {},
   "outputs": [
    {
     "ename": "NameError",
     "evalue": "name 'keras' is not defined",
     "output_type": "error",
     "traceback": [
      "\u001b[1;31m---------------------------------------------------------------------------\u001b[0m",
      "\u001b[1;31mNameError\u001b[0m                                 Traceback (most recent call last)",
      "Cell \u001b[1;32mIn[73], line 1\u001b[0m\n\u001b[1;32m----> 1\u001b[0m model \u001b[39m=\u001b[39m keras\u001b[39m.\u001b[39mmodels\u001b[39m.\u001b[39mload_model(\u001b[39m'\u001b[39m\u001b[39m./model2.h5\u001b[39m\u001b[39m'\u001b[39m)\n",
      "\u001b[1;31mNameError\u001b[0m: name 'keras' is not defined"
     ]
    }
   ],
   "source": [
    "model = keras.models.load_model('./model2.h5')"
   ]
  },
  {
   "cell_type": "code",
   "execution_count": 92,
   "metadata": {},
   "outputs": [
    {
     "name": "stdout",
     "output_type": "stream",
     "text": [
      "You must install pydot (`pip install pydot`) and install graphviz (see instructions at https://graphviz.gitlab.io/download/) for plot_model to work.\n",
      "You must install pydot (`pip install pydot`) and install graphviz (see instructions at https://graphviz.gitlab.io/download/) for plot_model to work.\n"
     ]
    }
   ],
   "source": [
    "import pydot\n",
    "import graphviz\n",
    "from IPython.display import SVG\n",
    "from keras.utils.vis_utils import model_to_dot\n",
    "from tensorflow.keras.utils import plot_model\n",
    "plot_model(model, to_file='model.png')\n",
    "plot_model(model, to_file='model_shapes.png', show_shapes=True)"
   ]
  },
  {
   "cell_type": "code",
   "execution_count": 76,
   "metadata": {},
   "outputs": [
    {
     "ename": "ImportError",
     "evalue": "cannot import name 'wrappers' from 'tensorflow.python.keras.layers' (c:\\Users\\User\\anaconda3\\envs\\hee\\lib\\site-packages\\tensorflow\\python\\keras\\layers\\__init__.py)",
     "output_type": "error",
     "traceback": [
      "\u001b[1;31m---------------------------------------------------------------------------\u001b[0m",
      "\u001b[1;31mImportError\u001b[0m                               Traceback (most recent call last)",
      "Cell \u001b[1;32mIn[76], line 6\u001b[0m\n\u001b[0;32m      2\u001b[0m \u001b[39mfrom\u001b[39;00m \u001b[39mtensorflow\u001b[39;00m\u001b[39m.\u001b[39;00m\u001b[39mpython\u001b[39;00m\u001b[39m.\u001b[39;00m\u001b[39mkeras\u001b[39;00m\u001b[39m.\u001b[39;00m\u001b[39mutils\u001b[39;00m\u001b[39m.\u001b[39;00m\u001b[39mvis_utils\u001b[39;00m \u001b[39mimport\u001b[39;00m model_to_dot\n\u001b[0;32m      4\u001b[0m get_ipython()\u001b[39m.\u001b[39mrun_line_magic(\u001b[39m'\u001b[39m\u001b[39mmatplotlib\u001b[39m\u001b[39m'\u001b[39m, \u001b[39m'\u001b[39m\u001b[39minline\u001b[39m\u001b[39m'\u001b[39m)\n\u001b[1;32m----> 6\u001b[0m SVG(model_to_dot(model,show_shapes\u001b[39m=\u001b[39;49m\u001b[39mTrue\u001b[39;49;00m)\u001b[39m.\u001b[39mcreate(prog\u001b[39m=\u001b[39m\u001b[39m'\u001b[39m\u001b[39mdot\u001b[39m\u001b[39m'\u001b[39m,\u001b[39mformat\u001b[39m\u001b[39m=\u001b[39m\u001b[39m'\u001b[39m\u001b[39msvg\u001b[39m\u001b[39m'\u001b[39m))\n",
      "File \u001b[1;32mc:\\Users\\User\\anaconda3\\envs\\hee\\lib\\site-packages\\tensorflow\\python\\keras\\utils\\vis_utils.py:98\u001b[0m, in \u001b[0;36mmodel_to_dot\u001b[1;34m(model, show_shapes, show_dtype, show_layer_names, rankdir, expand_nested, dpi, subgraph)\u001b[0m\n\u001b[0;32m     66\u001b[0m \u001b[39m@keras_export\u001b[39m(\u001b[39m'\u001b[39m\u001b[39mkeras.utils.model_to_dot\u001b[39m\u001b[39m'\u001b[39m)\n\u001b[0;32m     67\u001b[0m \u001b[39mdef\u001b[39;00m \u001b[39mmodel_to_dot\u001b[39m(model,\n\u001b[0;32m     68\u001b[0m                  show_shapes\u001b[39m=\u001b[39m\u001b[39mFalse\u001b[39;00m,\n\u001b[1;32m   (...)\u001b[0m\n\u001b[0;32m     73\u001b[0m                  dpi\u001b[39m=\u001b[39m\u001b[39m96\u001b[39m,\n\u001b[0;32m     74\u001b[0m                  subgraph\u001b[39m=\u001b[39m\u001b[39mFalse\u001b[39;00m):\n\u001b[0;32m     75\u001b[0m \u001b[39m  \u001b[39m\u001b[39m\"\"\"Convert a Keras model to dot format.\u001b[39;00m\n\u001b[0;32m     76\u001b[0m \n\u001b[0;32m     77\u001b[0m \u001b[39m  Args:\u001b[39;00m\n\u001b[1;32m   (...)\u001b[0m\n\u001b[0;32m     96\u001b[0m \u001b[39m    ImportError: if graphviz or pydot are not available.\u001b[39;00m\n\u001b[0;32m     97\u001b[0m \u001b[39m  \"\"\"\u001b[39;00m\n\u001b[1;32m---> 98\u001b[0m   \u001b[39mfrom\u001b[39;00m \u001b[39mtensorflow\u001b[39;00m\u001b[39m.\u001b[39;00m\u001b[39mpython\u001b[39;00m\u001b[39m.\u001b[39;00m\u001b[39mkeras\u001b[39;00m\u001b[39m.\u001b[39;00m\u001b[39mlayers\u001b[39;00m \u001b[39mimport\u001b[39;00m wrappers\n\u001b[0;32m     99\u001b[0m   \u001b[39mfrom\u001b[39;00m \u001b[39mtensorflow\u001b[39;00m\u001b[39m.\u001b[39;00m\u001b[39mpython\u001b[39;00m\u001b[39m.\u001b[39;00m\u001b[39mkeras\u001b[39;00m\u001b[39m.\u001b[39;00m\u001b[39mengine\u001b[39;00m \u001b[39mimport\u001b[39;00m sequential\n\u001b[0;32m    100\u001b[0m   \u001b[39mfrom\u001b[39;00m \u001b[39mtensorflow\u001b[39;00m\u001b[39m.\u001b[39;00m\u001b[39mpython\u001b[39;00m\u001b[39m.\u001b[39;00m\u001b[39mkeras\u001b[39;00m\u001b[39m.\u001b[39;00m\u001b[39mengine\u001b[39;00m \u001b[39mimport\u001b[39;00m functional\n",
      "\u001b[1;31mImportError\u001b[0m: cannot import name 'wrappers' from 'tensorflow.python.keras.layers' (c:\\Users\\User\\anaconda3\\envs\\hee\\lib\\site-packages\\tensorflow\\python\\keras\\layers\\__init__.py)"
     ]
    }
   ],
   "source": [
    "from IPython.display import SVG\n",
    "from tensorflow.python.keras.utils.vis_utils import model_to_dot\n",
    "\n",
    "%matplotlib inline\n",
    "\n",
    "SVG(model_to_dot(model,show_shapes=True).create(prog='dot',format='svg'))"
   ]
  },
  {
   "cell_type": "code",
   "execution_count": 74,
   "metadata": {},
   "outputs": [
    {
     "ename": "ModuleNotFoundError",
     "evalue": "No module named 'tensorflow.python.keras.datasets'",
     "output_type": "error",
     "traceback": [
      "\u001b[1;31m---------------------------------------------------------------------------\u001b[0m",
      "\u001b[1;31mModuleNotFoundError\u001b[0m                       Traceback (most recent call last)",
      "Cell \u001b[1;32mIn[74], line 3\u001b[0m\n\u001b[0;32m      1\u001b[0m \u001b[39m# 0. 사용할 패키지 불러오기\u001b[39;00m\n\u001b[0;32m      2\u001b[0m \u001b[39mfrom\u001b[39;00m \u001b[39mtensorflow\u001b[39;00m\u001b[39m.\u001b[39;00m\u001b[39mpython\u001b[39;00m\u001b[39m.\u001b[39;00m\u001b[39mkeras\u001b[39;00m\u001b[39m.\u001b[39;00m\u001b[39mutils\u001b[39;00m \u001b[39mimport\u001b[39;00m np_utils\n\u001b[1;32m----> 3\u001b[0m \u001b[39mfrom\u001b[39;00m \u001b[39mtensorflow\u001b[39;00m\u001b[39m.\u001b[39;00m\u001b[39mpython\u001b[39;00m\u001b[39m.\u001b[39;00m\u001b[39mkeras\u001b[39;00m\u001b[39m.\u001b[39;00m\u001b[39mdatasets\u001b[39;00m \u001b[39mimport\u001b[39;00m mnist\n\u001b[0;32m      4\u001b[0m \u001b[39mfrom\u001b[39;00m \u001b[39mtensorflow\u001b[39;00m\u001b[39m.\u001b[39;00m\u001b[39mpython\u001b[39;00m\u001b[39m.\u001b[39;00m\u001b[39mkeras\u001b[39;00m\u001b[39m.\u001b[39;00m\u001b[39mmodels\u001b[39;00m \u001b[39mimport\u001b[39;00m Sequential\n\u001b[0;32m      5\u001b[0m \u001b[39mfrom\u001b[39;00m \u001b[39mtensorflow\u001b[39;00m\u001b[39m.\u001b[39;00m\u001b[39mpython\u001b[39;00m\u001b[39m.\u001b[39;00m\u001b[39mkeras\u001b[39;00m\u001b[39m.\u001b[39;00m\u001b[39mlayers\u001b[39;00m \u001b[39mimport\u001b[39;00m Dense, Activation\n",
      "\u001b[1;31mModuleNotFoundError\u001b[0m: No module named 'tensorflow.python.keras.datasets'"
     ]
    }
   ],
   "source": [
    "# 0. 사용할 패키지 불러오기\n",
    "from tensorflow.python.keras.utils import np_utils\n",
    "from tensorflow.python.keras.datasets import mnist\n",
    "from tensorflow.python.keras.models import Sequential\n",
    "from tensorflow.python.keras.layers import Dense, Activation\n",
    "import numpy as np\n",
    "from numpy import argmax\n",
    "\n",
    "# 1. 실무에 사용할 데이터 준비하기\n",
    "(x_train,y_train),(x_test,y_test)=mnist.load_data()\n",
    "x_test = x_test.reshape(10000,784).astype('float32') / 255.0\n",
    "y_test = np_utils.to_categorical(y_test)\n",
    "xhat_idx = np.random.choice(x_test.shape[0],5)\n",
    "xhat = x_test[xhat_idx]\n",
    "\n",
    "# 2. Model 불러오기\n",
    "from tensorflow.python.keras.models import load_model\n",
    "model = load_model('model2.h5')"
   ]
  },
  {
   "cell_type": "code",
   "execution_count": 75,
   "metadata": {},
   "outputs": [
    {
     "name": "stdout",
     "output_type": "stream",
     "text": [
      "WARNING:tensorflow:Layer lstm will not use cuDNN kernels since it doesn't meet the criteria. It will use a generic GPU kernel as fallback when running on GPU.\n",
      "WARNING:tensorflow:Layer lstm_1 will not use cuDNN kernels since it doesn't meet the criteria. It will use a generic GPU kernel as fallback when running on GPU.\n",
      "WARNING:tensorflow:Layer lstm_2 will not use cuDNN kernels since it doesn't meet the criteria. It will use a generic GPU kernel as fallback when running on GPU.\n",
      "WARNING:tensorflow:Layer lstm_3 will not use cuDNN kernels since it doesn't meet the criteria. It will use a generic GPU kernel as fallback when running on GPU.\n"
     ]
    },
    {
     "ename": "ValueError",
     "evalue": "Unknown layer: AttentionLayer. Please ensure this object is passed to the `custom_objects` argument. See https://www.tensorflow.org/guide/keras/save_and_serialize#registering_the_custom_object for details.",
     "output_type": "error",
     "traceback": [
      "\u001b[1;31m---------------------------------------------------------------------------\u001b[0m",
      "\u001b[1;31mValueError\u001b[0m                                Traceback (most recent call last)",
      "Cell \u001b[1;32mIn[75], line 15\u001b[0m\n\u001b[0;32m     12\u001b[0m xhat \u001b[39m=\u001b[39m x_test[xhat_idx]\n\u001b[0;32m     14\u001b[0m \u001b[39m# 2. Model 불러오기\u001b[39;00m\n\u001b[1;32m---> 15\u001b[0m model \u001b[39m=\u001b[39m load_model(\u001b[39m'\u001b[39;49m\u001b[39mmodel2.h5\u001b[39;49m\u001b[39m'\u001b[39;49m)\n",
      "File \u001b[1;32mc:\\Users\\User\\anaconda3\\envs\\hee\\lib\\site-packages\\keras\\utils\\traceback_utils.py:70\u001b[0m, in \u001b[0;36mfilter_traceback.<locals>.error_handler\u001b[1;34m(*args, **kwargs)\u001b[0m\n\u001b[0;32m     67\u001b[0m     filtered_tb \u001b[39m=\u001b[39m _process_traceback_frames(e\u001b[39m.\u001b[39m__traceback__)\n\u001b[0;32m     68\u001b[0m     \u001b[39m# To get the full stack trace, call:\u001b[39;00m\n\u001b[0;32m     69\u001b[0m     \u001b[39m# `tf.debugging.disable_traceback_filtering()`\u001b[39;00m\n\u001b[1;32m---> 70\u001b[0m     \u001b[39mraise\u001b[39;00m e\u001b[39m.\u001b[39mwith_traceback(filtered_tb) \u001b[39mfrom\u001b[39;00m \u001b[39mNone\u001b[39;00m\n\u001b[0;32m     71\u001b[0m \u001b[39mfinally\u001b[39;00m:\n\u001b[0;32m     72\u001b[0m     \u001b[39mdel\u001b[39;00m filtered_tb\n",
      "File \u001b[1;32mc:\\Users\\User\\anaconda3\\envs\\hee\\lib\\site-packages\\keras\\utils\\generic_utils.py:605\u001b[0m, in \u001b[0;36mclass_and_config_for_serialized_keras_object\u001b[1;34m(config, module_objects, custom_objects, printable_module_name)\u001b[0m\n\u001b[0;32m    603\u001b[0m \u001b[39mcls\u001b[39m \u001b[39m=\u001b[39m get_registered_object(class_name, custom_objects, module_objects)\n\u001b[0;32m    604\u001b[0m \u001b[39mif\u001b[39;00m \u001b[39mcls\u001b[39m \u001b[39mis\u001b[39;00m \u001b[39mNone\u001b[39;00m:\n\u001b[1;32m--> 605\u001b[0m     \u001b[39mraise\u001b[39;00m \u001b[39mValueError\u001b[39;00m(\n\u001b[0;32m    606\u001b[0m         \u001b[39mf\u001b[39m\u001b[39m\"\u001b[39m\u001b[39mUnknown \u001b[39m\u001b[39m{\u001b[39;00mprintable_module_name\u001b[39m}\u001b[39;00m\u001b[39m: \u001b[39m\u001b[39m{\u001b[39;00mclass_name\u001b[39m}\u001b[39;00m\u001b[39m. \u001b[39m\u001b[39m\"\u001b[39m\n\u001b[0;32m    607\u001b[0m         \u001b[39m\"\u001b[39m\u001b[39mPlease ensure this \u001b[39m\u001b[39m\"\u001b[39m\n\u001b[0;32m    608\u001b[0m         \u001b[39m\"\u001b[39m\u001b[39mobject is passed to the `custom_objects` argument. See \u001b[39m\u001b[39m\"\u001b[39m\n\u001b[0;32m    609\u001b[0m         \u001b[39m\"\u001b[39m\u001b[39mhttps://www.tensorflow.org/guide/keras/save_and_serialize\u001b[39m\u001b[39m\"\u001b[39m\n\u001b[0;32m    610\u001b[0m         \u001b[39m\"\u001b[39m\u001b[39m#registering_the_custom_object for details.\u001b[39m\u001b[39m\"\u001b[39m\n\u001b[0;32m    611\u001b[0m     )\n\u001b[0;32m    613\u001b[0m cls_config \u001b[39m=\u001b[39m config[\u001b[39m\"\u001b[39m\u001b[39mconfig\u001b[39m\u001b[39m\"\u001b[39m]\n\u001b[0;32m    614\u001b[0m \u001b[39m# Check if `cls_config` is a list. If it is a list, return the class and the\u001b[39;00m\n\u001b[0;32m    615\u001b[0m \u001b[39m# associated class configs for recursively deserialization. This case will\u001b[39;00m\n\u001b[0;32m    616\u001b[0m \u001b[39m# happen on the old version of sequential model (e.g. `keras_version` ==\u001b[39;00m\n\u001b[0;32m    617\u001b[0m \u001b[39m# \"2.0.6\"), which is serialized in a different structure, for example\u001b[39;00m\n\u001b[0;32m    618\u001b[0m \u001b[39m# \"{'class_name': 'Sequential',\u001b[39;00m\n\u001b[0;32m    619\u001b[0m \u001b[39m#   'config': [{'class_name': 'Embedding', 'config': ...}, {}, ...]}\".\u001b[39;00m\n",
      "\u001b[1;31mValueError\u001b[0m: Unknown layer: AttentionLayer. Please ensure this object is passed to the `custom_objects` argument. See https://www.tensorflow.org/guide/keras/save_and_serialize#registering_the_custom_object for details."
     ]
    }
   ],
   "source": [
    "# 0. 사용할 패키지 불러오기\n",
    "from tensorflow.keras.utils import to_categorical\n",
    "from tensorflow.keras.datasets import mnist\n",
    "from tensorflow.keras.models import load_model\n",
    "import numpy as np\n",
    "\n",
    "# 1. 실무에 사용할 데이터 준비하기\n",
    "(x_train, y_train), (x_test, y_test) = mnist.load_data()\n",
    "x_test = x_test.reshape(10000, 784).astype('float32') / 255.0\n",
    "y_test = to_categorical(y_test)\n",
    "xhat_idx = np.random.choice(x_test.shape[0], 5)\n",
    "xhat = x_test[xhat_idx]\n",
    "\n",
    "# 2. Model 불러오기\n",
    "model = load_model('model2.h5')\n"
   ]
  },
  {
   "cell_type": "code",
   "execution_count": null,
   "metadata": {},
   "outputs": [
    {
     "name": "stdout",
     "output_type": "stream",
     "text": [
      "Physical devices cannot be modified after being initialized\n",
      "WARNING:tensorflow:Layer lstm will not use cuDNN kernels since it doesn't meet the criteria. It will use a generic GPU kernel as fallback when running on GPU.\n",
      "WARNING:tensorflow:Layer lstm_1 will not use cuDNN kernels since it doesn't meet the criteria. It will use a generic GPU kernel as fallback when running on GPU.\n",
      "WARNING:tensorflow:Layer lstm_2 will not use cuDNN kernels since it doesn't meet the criteria. It will use a generic GPU kernel as fallback when running on GPU.\n",
      "WARNING:tensorflow:Layer lstm_3 will not use cuDNN kernels since it doesn't meet the criteria. It will use a generic GPU kernel as fallback when running on GPU.\n"
     ]
    },
    {
     "ename": "ValueError",
     "evalue": "Unknown layer: AttentionLayer. Please ensure this object is passed to the `custom_objects` argument. See https://www.tensorflow.org/guide/keras/save_and_serialize#registering_the_custom_object for details.",
     "output_type": "error",
     "traceback": [
      "\u001b[1;31m---------------------------------------------------------------------------\u001b[0m",
      "\u001b[1;31mValueError\u001b[0m                                Traceback (most recent call last)",
      "Cell \u001b[1;32mIn[6], line 15\u001b[0m\n\u001b[0;32m     13\u001b[0m \u001b[39m# 모델 불러오기\u001b[39;00m\n\u001b[0;32m     14\u001b[0m model_path \u001b[39m=\u001b[39m \u001b[39m\"\u001b[39m\u001b[39mC:/Users/User/Downloads/도서자료 요약/model2.h5\u001b[39m\u001b[39m\"\u001b[39m\n\u001b[1;32m---> 15\u001b[0m model \u001b[39m=\u001b[39m load_model(model_path)\n",
      "File \u001b[1;32mc:\\Users\\User\\anaconda3\\envs\\hee\\lib\\site-packages\\keras\\utils\\traceback_utils.py:70\u001b[0m, in \u001b[0;36mfilter_traceback.<locals>.error_handler\u001b[1;34m(*args, **kwargs)\u001b[0m\n\u001b[0;32m     67\u001b[0m     filtered_tb \u001b[39m=\u001b[39m _process_traceback_frames(e\u001b[39m.\u001b[39m__traceback__)\n\u001b[0;32m     68\u001b[0m     \u001b[39m# To get the full stack trace, call:\u001b[39;00m\n\u001b[0;32m     69\u001b[0m     \u001b[39m# `tf.debugging.disable_traceback_filtering()`\u001b[39;00m\n\u001b[1;32m---> 70\u001b[0m     \u001b[39mraise\u001b[39;00m e\u001b[39m.\u001b[39mwith_traceback(filtered_tb) \u001b[39mfrom\u001b[39;00m \u001b[39mNone\u001b[39;00m\n\u001b[0;32m     71\u001b[0m \u001b[39mfinally\u001b[39;00m:\n\u001b[0;32m     72\u001b[0m     \u001b[39mdel\u001b[39;00m filtered_tb\n",
      "File \u001b[1;32mc:\\Users\\User\\anaconda3\\envs\\hee\\lib\\site-packages\\keras\\utils\\generic_utils.py:605\u001b[0m, in \u001b[0;36mclass_and_config_for_serialized_keras_object\u001b[1;34m(config, module_objects, custom_objects, printable_module_name)\u001b[0m\n\u001b[0;32m    603\u001b[0m \u001b[39mcls\u001b[39m \u001b[39m=\u001b[39m get_registered_object(class_name, custom_objects, module_objects)\n\u001b[0;32m    604\u001b[0m \u001b[39mif\u001b[39;00m \u001b[39mcls\u001b[39m \u001b[39mis\u001b[39;00m \u001b[39mNone\u001b[39;00m:\n\u001b[1;32m--> 605\u001b[0m     \u001b[39mraise\u001b[39;00m \u001b[39mValueError\u001b[39;00m(\n\u001b[0;32m    606\u001b[0m         \u001b[39mf\u001b[39m\u001b[39m\"\u001b[39m\u001b[39mUnknown \u001b[39m\u001b[39m{\u001b[39;00mprintable_module_name\u001b[39m}\u001b[39;00m\u001b[39m: \u001b[39m\u001b[39m{\u001b[39;00mclass_name\u001b[39m}\u001b[39;00m\u001b[39m. \u001b[39m\u001b[39m\"\u001b[39m\n\u001b[0;32m    607\u001b[0m         \u001b[39m\"\u001b[39m\u001b[39mPlease ensure this \u001b[39m\u001b[39m\"\u001b[39m\n\u001b[0;32m    608\u001b[0m         \u001b[39m\"\u001b[39m\u001b[39mobject is passed to the `custom_objects` argument. See \u001b[39m\u001b[39m\"\u001b[39m\n\u001b[0;32m    609\u001b[0m         \u001b[39m\"\u001b[39m\u001b[39mhttps://www.tensorflow.org/guide/keras/save_and_serialize\u001b[39m\u001b[39m\"\u001b[39m\n\u001b[0;32m    610\u001b[0m         \u001b[39m\"\u001b[39m\u001b[39m#registering_the_custom_object for details.\u001b[39m\u001b[39m\"\u001b[39m\n\u001b[0;32m    611\u001b[0m     )\n\u001b[0;32m    613\u001b[0m cls_config \u001b[39m=\u001b[39m config[\u001b[39m\"\u001b[39m\u001b[39mconfig\u001b[39m\u001b[39m\"\u001b[39m]\n\u001b[0;32m    614\u001b[0m \u001b[39m# Check if `cls_config` is a list. If it is a list, return the class and the\u001b[39;00m\n\u001b[0;32m    615\u001b[0m \u001b[39m# associated class configs for recursively deserialization. This case will\u001b[39;00m\n\u001b[0;32m    616\u001b[0m \u001b[39m# happen on the old version of sequential model (e.g. `keras_version` ==\u001b[39;00m\n\u001b[0;32m    617\u001b[0m \u001b[39m# \"2.0.6\"), which is serialized in a different structure, for example\u001b[39;00m\n\u001b[0;32m    618\u001b[0m \u001b[39m# \"{'class_name': 'Sequential',\u001b[39;00m\n\u001b[0;32m    619\u001b[0m \u001b[39m#   'config': [{'class_name': 'Embedding', 'config': ...}, {}, ...]}\".\u001b[39;00m\n",
      "\u001b[1;31mValueError\u001b[0m: Unknown layer: AttentionLayer. Please ensure this object is passed to the `custom_objects` argument. See https://www.tensorflow.org/guide/keras/save_and_serialize#registering_the_custom_object for details."
     ]
    }
   ],
   "source": [
    "import tensorflow as tf\n",
    "from tensorflow.keras.models import load_model\n",
    "\n",
    "# CuDNN 활성화를 위해 TensorFlow 백엔드 설정\n",
    "gpus = tf.config.experimental.list_physical_devices('GPU')\n",
    "if gpus:\n",
    "    try:\n",
    "        tf.config.experimental.set_memory_growth(gpus[0], True)\n",
    "        tf.config.experimental.set_virtual_device_configuration(gpus[0], [tf.config.experimental.VirtualDeviceConfiguration(memory_limit=4096)])\n",
    "    except RuntimeError as e:\n",
    "        print(e)\n",
    "\n",
    "# 모델 불러오기\n",
    "model_path = \"C:/Users/User/Downloads/도서자료 요약/model2.h5\"\n",
    "model = load_model(model_path,custom)"
   ]
  },
  {
   "cell_type": "code",
   "execution_count": 78,
   "metadata": {},
   "outputs": [],
   "source": [
    "src_index_to_word = src_tokenizer.index_word # 원문 단어 집합에서 정수 -> 단어를 얻음\n",
    "tar_word_to_index = tar_tokenizer.word_index # 요약 단어 집합에서 단어 -> 정수를 얻음\n",
    "tar_index_to_word = tar_tokenizer.index_word # 요약 단어 집합에서 정수 -> 단어를 얻음\n"
   ]
  },
  {
   "cell_type": "code",
   "execution_count": 79,
   "metadata": {},
   "outputs": [],
   "source": [
    "# 인코더 설계\n",
    "encoder_model = Model(inputs=encoder_inputs, outputs=[encoder_outputs, state_h, state_c])\n"
   ]
  },
  {
   "cell_type": "code",
   "execution_count": 80,
   "metadata": {},
   "outputs": [],
   "source": [
    "# 이전 시점의 상태들을 저장하는 텐서\n",
    "decoder_state_input_h = Input(shape=(hidden_size,))\n",
    "decoder_state_input_c = Input(shape=(hidden_size,))\n",
    "\n",
    "dec_emb2 = dec_emb_layer(decoder_inputs)\n",
    "# 문장의 다음 단어를 예측하기 위해서 초기 상태(initial_state)를 이전 시점의 상태로 사용. 이는 뒤의 함수 decode_sequence()에 구현\n",
    "# 훈련 과정에서와 달리 LSTM의 리턴하는 은닉 상태와 셀 상태인 state_h와 state_c를 버리지 않음.\n",
    "decoder_outputs2, state_h2, state_c2 = decoder_lstm(dec_emb2, initial_state=[decoder_state_input_h, decoder_state_input_c])\n"
   ]
  },
  {
   "cell_type": "code",
   "execution_count": 81,
   "metadata": {},
   "outputs": [],
   "source": [
    "# 어텐션 함수\n",
    "decoder_hidden_state_input = Input(shape=(text_max_len, hidden_size))\n",
    "attn_out_inf, attn_states_inf = attn_layer([decoder_hidden_state_input, decoder_outputs2])\n",
    "decoder_inf_concat = Concatenate(axis=-1, name='concat')([decoder_outputs2, attn_out_inf])\n",
    "\n",
    "# 디코더의 출력층\n",
    "decoder_outputs2 = decoder_softmax_layer(decoder_inf_concat) \n",
    "\n",
    "# 최종 디코더 모델\n",
    "decoder_model = Model(\n",
    "    [decoder_inputs] + [decoder_hidden_state_input,decoder_state_input_h, decoder_state_input_c],\n",
    "    [decoder_outputs2] + [state_h2, state_c2])\n"
   ]
  },
  {
   "cell_type": "code",
   "execution_count": 82,
   "metadata": {},
   "outputs": [],
   "source": [
    "def decode_sequence(input_seq):\n",
    "    # 입력으로부터 인코더의 상태를 얻음\n",
    "    e_out, e_h, e_c = encoder_model.predict(input_seq)\n",
    "\n",
    "     # <SOS>에 해당하는 토큰 생성\n",
    "    target_seq = np.zeros((1,1))\n",
    "    target_seq[0, 0] = tar_word_to_index['sostoken']\n",
    "\n",
    "    stop_condition = False\n",
    "    decoded_sentence = ''\n",
    "    while not stop_condition: # stop_condition이 True가 될 때까지 루프 반복\n",
    "\n",
    "        output_tokens, h, c = decoder_model.predict([target_seq] + [e_out, e_h, e_c])\n",
    "        sampled_token_index = np.argmax(output_tokens[0, -1, :])\n",
    "        sampled_token = tar_index_to_word[sampled_token_index]\n",
    "\n",
    "        if(sampled_token!='eostoken'):\n",
    "            decoded_sentence += ' '+sampled_token\n",
    "\n",
    "        #  <eos>에 도달하거나 최대 길이를 넘으면 중단.\n",
    "        if (sampled_token == 'eostoken'  or len(decoded_sentence.split()) >= (summary_max_len-1)):\n",
    "            stop_condition = True\n",
    "\n",
    "        # 길이가 1인 타겟 시퀀스를 업데이트\n",
    "        target_seq = np.zeros((1,1))\n",
    "        target_seq[0, 0] = sampled_token_index\n",
    "\n",
    "        # 상태를 업데이트 합니다.\n",
    "        e_h, e_c = h, c\n",
    "\n",
    "    return decoded_sentence\n"
   ]
  },
  {
   "cell_type": "code",
   "execution_count": 83,
   "metadata": {},
   "outputs": [],
   "source": [
    "# 원문의 정수 시퀀스를 텍스트 시퀀스로 변환\n",
    "def seq2text(input_seq):\n",
    "    sentence=''\n",
    "    for i in input_seq:\n",
    "        if(i!=0):\n",
    "            sentence = sentence + src_index_to_word[i]+' '\n",
    "    return sentence\n",
    "\n",
    "# 요약문의 정수 시퀀스를 텍스트 시퀀스로 변환\n",
    "def seq2summary(input_seq):\n",
    "    sentence=''\n",
    "    for i in input_seq:\n",
    "        if((i!=0 and i!=tar_word_to_index['sostoken']) and i!=tar_word_to_index['eostoken']):\n",
    "            sentence = sentence + tar_index_to_word[i] + ' '\n",
    "    return sentence\n"
   ]
  },
  {
   "cell_type": "code",
   "execution_count": 85,
   "metadata": {},
   "outputs": [
    {
     "name": "stdout",
     "output_type": "stream",
     "text": [
      "원문 :  특히 평화 정착 위해 국정 과제 제시 한반도 평화 체제 구축 방안 적극 으로 추진 으로 보인다 문재인 정부 비핵화 진전 평화 체제 협상 추진 완전 해결 단계 에서 평화 협정 체결 평화 체제 진전 시키 구상 제시 위해 평화 체제 구축 로드맵 마련 비핵화 합의 목표 부터 동결 에서 완전 폐기 이어지 포괄 비핵화 협상 방안 마련 비핵화 초기 조치 확보 포괄 비핵화 협상 재개 추진 전망 북한 확고 무장 의지 협상 거부 입장 한국 평화 체제 구축 구상 대한 미국 이해 지지 미비 평화 체제 구축 위한 자회 실패 경험 으로 인해 단시간 비핵화 평화 체제 구축 위한 노력 성과 거둘 가능 매우 투명 \n",
      "실제 요약문 : 문재인 정부 한반도 평화 체제 구축 방안 제시 였으나 북한 흔들림 무장 의지 협상 거부 미국 이해 협조 미비 으로 단시간 비핵화 평화 체제 구축 어렵 \n",
      "1/1 [==============================] - 0s 341ms/step\n",
      "1/1 [==============================] - 0s 19ms/step\n",
      "1/1 [==============================] - 0s 21ms/step\n",
      "1/1 [==============================] - 0s 19ms/step\n",
      "1/1 [==============================] - 0s 20ms/step\n",
      "1/1 [==============================] - 0s 18ms/step\n",
      "1/1 [==============================] - 0s 17ms/step\n",
      "1/1 [==============================] - 0s 20ms/step\n",
      "1/1 [==============================] - 0s 19ms/step\n",
      "1/1 [==============================] - 0s 17ms/step\n",
      "1/1 [==============================] - 0s 20ms/step\n",
      "1/1 [==============================] - 0s 27ms/step\n",
      "1/1 [==============================] - 0s 19ms/step\n",
      "1/1 [==============================] - 0s 19ms/step\n",
      "1/1 [==============================] - 0s 18ms/step\n",
      "1/1 [==============================] - 0s 17ms/step\n",
      "1/1 [==============================] - 0s 17ms/step\n",
      "1/1 [==============================] - 0s 17ms/step\n",
      "1/1 [==============================] - 0s 17ms/step\n",
      "예측 요약문 :  북한 에서 에서 에서 에서 으로 으로 으로 으로 으로 으로 으로 으로 으로 으로 으로 으로\n",
      "\n",
      "\n",
      "원문 :  셋째 한국 정부 문제 해결 위해 제재 대화 병행 추진 전망 지난 추진 전략 인내 정책 으로부터 방향 선회 의미 한다 정부 대북 제재 압박 정책 추진 면서 목표 분명 북한 붕괴 목표 라는 해석 현재 정부 대북 제재 압박 목표 북한 붕괴 비핵화 진전 협상 재개 명료히 최근 정부 공동 으로 북한 정권 교체 정권 붕괴 통일 가속 흡수 통일 이북 으로 침공 는다는 소위 정책 기조 반복 대화 장애 요인 제거 고자 강한 의지 보이 으로 해석 된다 \n",
      "실제 요약문 : 지난 한미 정부 추진 북한 대한 전략 인내 정책 목표 분명 현재 정부 비핵화 진전 협상 재개 목표 분명히 정책 기조 반복 그렇 \n",
      "1/1 [==============================] - 0s 146ms/step\n",
      "1/1 [==============================] - 0s 19ms/step\n",
      "1/1 [==============================] - 0s 20ms/step\n",
      "1/1 [==============================] - 0s 20ms/step\n",
      "1/1 [==============================] - 0s 17ms/step\n",
      "1/1 [==============================] - 0s 16ms/step\n",
      "1/1 [==============================] - 0s 17ms/step\n",
      "1/1 [==============================] - 0s 16ms/step\n",
      "1/1 [==============================] - 0s 18ms/step\n",
      "1/1 [==============================] - 0s 18ms/step\n",
      "1/1 [==============================] - 0s 17ms/step\n",
      "1/1 [==============================] - 0s 17ms/step\n",
      "1/1 [==============================] - 0s 18ms/step\n",
      "1/1 [==============================] - 0s 18ms/step\n",
      "1/1 [==============================] - 0s 18ms/step\n",
      "1/1 [==============================] - 0s 21ms/step\n",
      "1/1 [==============================] - 0s 18ms/step\n",
      "1/1 [==============================] - 0s 17ms/step\n",
      "1/1 [==============================] - 0s 19ms/step\n",
      "1/1 [==============================] - 0s 19ms/step\n",
      "예측 요약문 :  북한 에서 에서 에서 에서 으로 으로 으로 으로 으로 으로 으로 으로 으로 으로 으로 으로 으로\n",
      "\n",
      "\n",
      "원문 :  문재인 정부 남북 대화 교류 협력 적극 남북 군사 인도 현안 해결 위한 군사 당국 회담 적십자 회담 이미 제안 남북 연락 채널 복원 위해 노력 문재인 대통령 경축사 에서 북한 붕괴 흡수 통일 인위 통일 거부 통일 정책 제시 남북 관계 설정 위한 조치 일환 문재인 정부 정책 북한 흡수 통일 우려 해소 효과 정책 선언 실제 효과 거두 까지 걸릴 으로 보인다 \n",
      "실제 요약문 : 문재인 정부 통일 정책 제시 군사 당국 회담 적십자 회담 제안 남북 채널 복원 남북 대화 교류 협력 위해 노력 \n",
      "1/1 [==============================] - 0s 156ms/step\n",
      "1/1 [==============================] - 0s 18ms/step\n",
      "1/1 [==============================] - 0s 18ms/step\n",
      "1/1 [==============================] - 0s 19ms/step\n",
      "1/1 [==============================] - 0s 17ms/step\n",
      "1/1 [==============================] - 0s 18ms/step\n",
      "1/1 [==============================] - 0s 22ms/step\n",
      "1/1 [==============================] - 0s 21ms/step\n",
      "1/1 [==============================] - 0s 18ms/step\n",
      "1/1 [==============================] - 0s 17ms/step\n",
      "1/1 [==============================] - 0s 17ms/step\n",
      "1/1 [==============================] - 0s 17ms/step\n",
      "1/1 [==============================] - 0s 18ms/step\n",
      "1/1 [==============================] - 0s 17ms/step\n",
      "1/1 [==============================] - 0s 17ms/step\n",
      "1/1 [==============================] - 0s 18ms/step\n",
      "1/1 [==============================] - 0s 18ms/step\n",
      "1/1 [==============================] - 0s 16ms/step\n",
      "1/1 [==============================] - 0s 18ms/step\n",
      "1/1 [==============================] - 0s 17ms/step\n",
      "예측 요약문 :  북한 경제 에서 에서 에서 으로 으로 으로 으로 으로 으로 으로 으로 으로 으로 으로 으로 으로\n",
      "\n",
      "\n",
      "원문 :  문재인 정부 화해 협력 정책 적극 으로 추진 한다는 강한 의지 밝힌 내내 남북 대화 교류 협력 위한 다양 대북 제안 제시 전망 이산가족 상봉 생사 확인 서신 교환 한반도 신경 제지 구상 실천 경제 협력 유아 임산부 취약 계층 지원 감염병 보건 의료 지원 국군 납북자 억류 국민 문제 해결 주요 남북 관계 현안 정부 차원 남북 대화 노력 북한 과거 행태 성과 거두 어렵 북한 유일 지배 체제 성격 감안 남북 관계 새로운 국면 만들 정치 접근 불가피 문재인 정부 인식 남북 정상 회담 추진 거나 특사 파견 시도 가능 \n",
      "실제 요약문 : 문재인 정부 화해 협력 정책 추진 한다는 의지 남북 대화 교류 협력 위한 다양 대북 제안 제시 전망 행동 차원 남북 대화 노력 북한 과거 행태 성과 거두 힘들 \n",
      "1/1 [==============================] - 0s 174ms/step\n",
      "1/1 [==============================] - 0s 18ms/step\n",
      "1/1 [==============================] - 0s 18ms/step\n",
      "1/1 [==============================] - 0s 18ms/step\n",
      "1/1 [==============================] - 0s 17ms/step\n",
      "1/1 [==============================] - 0s 18ms/step\n",
      "1/1 [==============================] - 0s 18ms/step\n",
      "1/1 [==============================] - 0s 17ms/step\n",
      "1/1 [==============================] - 0s 17ms/step\n",
      "1/1 [==============================] - 0s 17ms/step\n",
      "1/1 [==============================] - 0s 18ms/step\n",
      "1/1 [==============================] - 0s 18ms/step\n",
      "1/1 [==============================] - 0s 19ms/step\n",
      "1/1 [==============================] - 0s 17ms/step\n",
      "1/1 [==============================] - 0s 21ms/step\n",
      "1/1 [==============================] - 0s 18ms/step\n",
      "1/1 [==============================] - 0s 18ms/step\n",
      "1/1 [==============================] - 0s 16ms/step\n",
      "1/1 [==============================] - 0s 18ms/step\n",
      "1/1 [==============================] - 0s 17ms/step\n",
      "1/1 [==============================] - 0s 17ms/step\n",
      "1/1 [==============================] - 0s 17ms/step\n",
      "1/1 [==============================] - 0s 17ms/step\n",
      "1/1 [==============================] - 0s 17ms/step\n",
      "예측 요약문 :  북한 경제 에서 에서 경제 경제 경제 경제 경제 경제 경제 경제 경제 경제 경제 경제 경제 경제 경제 에서 으로 으로\n",
      "\n",
      "\n",
      "원문 :  한편 남북 대화 위한 대화 채널 남북 고위 당국자 접촉 채널 활용 가능 기대 된다 지뢰 도발 이후 남한 대북 확성기 방송 재개 북한 전방 지역 준전시 상태 선포 이어지 일련 군사 위기 상황 에서 남북 고위 당국자 접촉 열렸 으로 합의 통해 긴급 정치 군사 현안 타결 고위 당국자 접촉 양측 안보 통일 분야 남측 국가 안보 실장 통일부 장관 북측 조선 인민군 정치 국장 당시 황병서 노동당 중앙 위원회 비서 당시 김양건 참가 명실상부 정치 군사 회담 당시 양측 합의 에서 남북 관계 개선 위한 당국 회담 서울 또는 평양 에서 빠른 시일 개최 으로 여러 분야 대화 협상 진행 나가 합의 더욱이 대화 채널 합의 김정은 성과 라는 에서 향후 북한 활용 가능 \n",
      "실제 요약문 : 지뢰 도발 사건 대해 당시 남북 고위 당국자 접촉 향후 북한 남북 대화 위한 방법 으로 활용 가능 \n",
      "1/1 [==============================] - 0s 181ms/step\n",
      "1/1 [==============================] - 0s 15ms/step\n",
      "1/1 [==============================] - 0s 17ms/step\n",
      "1/1 [==============================] - 0s 15ms/step\n",
      "1/1 [==============================] - 0s 17ms/step\n",
      "1/1 [==============================] - 0s 16ms/step\n",
      "1/1 [==============================] - 0s 18ms/step\n",
      "1/1 [==============================] - 0s 16ms/step\n",
      "1/1 [==============================] - 0s 16ms/step\n",
      "1/1 [==============================] - 0s 18ms/step\n",
      "1/1 [==============================] - 0s 16ms/step\n",
      "1/1 [==============================] - 0s 18ms/step\n",
      "1/1 [==============================] - 0s 21ms/step\n",
      "1/1 [==============================] - 0s 20ms/step\n",
      "1/1 [==============================] - 0s 15ms/step\n",
      "1/1 [==============================] - 0s 17ms/step\n",
      "1/1 [==============================] - 0s 22ms/step\n",
      "1/1 [==============================] - 0s 17ms/step\n",
      "예측 요약문 :  북한 에서 에서 에서 에서 에서 으로 으로 으로 으로 으로 으로 으로 으로 으로 으로\n",
      "\n",
      "\n",
      "원문 :  남북 관계 인도적 경제 민족 동기 으로 지속 대화 협력 가능 다는 냉전 교훈 남북 관계 기본 으로 단국 영합 세력 경쟁 기저 통치자 정치 군사 결정 좌우 밖에 한반도 동북아 지정학 주축 위치 놓여 때문 주변 강대국 관계 남북 관계 영향 미친다 남북 관계 변화 남북 정상 회담 개최 가능 달려 다고 해도 과언 불과 수년 달리 문재 대통령 도널드 트럼프 대통령 시진핑 주석 대화 열린 또는 적극 입장 남북 관계 정치 성격 감안 한반도 정세 김정은 선택 전망 김정은 정권 수립 주년 기념일 목표 장거리 핵미사일 실험 더욱 가속 한반도 정세 더욱 악화 최근 유엔 안보리 제재 결의 사실상 대북 경제 봉쇄 지향 중국 전적 으로 협조 한다는 에서 북한 마냥 미사일 개발 지속 어렵 북한 제재 국면 완화 교역 지속 위해 대화 공세 나설 가능 근래 보다 정상 회담 대한 기대감 전망 \n",
      "실제 요약문 : 한반도 위치 남북 관계 주변 국가 영향 많이 과거 달리 현재 변국 대화 개방 남북 관계 김정은 선택 으로 보인다 최근 유엔 대북 경제 봉쇄 지향 중국 협조 자세 므로 북한 돌파 위해 대화 공세 참여 가능 \n",
      "1/1 [==============================] - 0s 157ms/step\n",
      "1/1 [==============================] - 0s 20ms/step\n",
      "1/1 [==============================] - 0s 16ms/step\n",
      "1/1 [==============================] - 0s 15ms/step\n",
      "1/1 [==============================] - 0s 18ms/step\n",
      "1/1 [==============================] - 0s 16ms/step\n",
      "1/1 [==============================] - 0s 16ms/step\n",
      "1/1 [==============================] - 0s 17ms/step\n",
      "1/1 [==============================] - 0s 16ms/step\n",
      "1/1 [==============================] - 0s 16ms/step\n",
      "1/1 [==============================] - 0s 19ms/step\n",
      "1/1 [==============================] - 0s 20ms/step\n",
      "1/1 [==============================] - 0s 17ms/step\n",
      "1/1 [==============================] - 0s 16ms/step\n",
      "1/1 [==============================] - 0s 17ms/step\n",
      "1/1 [==============================] - 0s 17ms/step\n",
      "예측 요약문 :  북한 에서 에서 에서 에서 에서 으로 으로 으로 으로 으로 으로 으로 으로\n",
      "\n",
      "\n",
      "원문 :  벽두 가장 이슈 트럼프 행정부 등장 이후 제도 저항 가장 두드러진 역시 워싱턴 공세 으로 추진 오바마 케어 폐지 이민 행정 법안 입법부 사법부 반대 끝내 무산 대표 사례 최근 실시 주지사 선거 결과 트럼프 대통령 지지율 감안 예정 하원 중간 선거 비롯 백악관 정치 위상 개선 개연 보이 는다 만만 국내 응전 직면 트럼프 행정부 내걸 고립주의 보호주의 슬로건 머무르 달라지 으로 전망 된다 \n",
      "실제 요약문 : 제도 저항 최근 주지사 선거 결과 트럼프 대통령 지지율 감안 트럼프 행정부 고립주의 보호주의 슬로건 머물 으로 보인다 \n",
      "1/1 [==============================] - 0s 155ms/step\n",
      "1/1 [==============================] - 0s 20ms/step\n",
      "1/1 [==============================] - 0s 19ms/step\n",
      "1/1 [==============================] - 0s 18ms/step\n",
      "1/1 [==============================] - 0s 16ms/step\n",
      "1/1 [==============================] - 0s 16ms/step\n",
      "1/1 [==============================] - 0s 17ms/step\n",
      "1/1 [==============================] - 0s 16ms/step\n",
      "1/1 [==============================] - 0s 17ms/step\n",
      "1/1 [==============================] - 0s 17ms/step\n",
      "1/1 [==============================] - 0s 17ms/step\n",
      "1/1 [==============================] - 0s 22ms/step\n",
      "1/1 [==============================] - 0s 21ms/step\n",
      "1/1 [==============================] - 0s 18ms/step\n",
      "1/1 [==============================] - 0s 17ms/step\n",
      "1/1 [==============================] - 0s 20ms/step\n",
      "1/1 [==============================] - 0s 18ms/step\n",
      "1/1 [==============================] - 0s 17ms/step\n",
      "1/1 [==============================] - 0s 16ms/step\n",
      "예측 요약문 :  북한 에서 에서 에서 에서 에서 으로 으로 으로 으로 으로 으로 으로 으로 으로 으로 으로\n",
      "\n",
      "\n",
      "원문 :  근래 전쟁 위기 배경 사실 실체 군사력 집중 전쟁 계획 전쟁 양측 군사력 시위 국내 김정은 참수 작전 발언 북한 전쟁 위협 북한 선제공격 위협 정부 군사 조치 포함 모든 옵션 고려 조야 에서 대북 예방 공격 트럼프 대통령 대북 완전 파괴 화염 분노 발언 북한 김정은 국무 위원장 성명 에서 트럼프 대한 미치광이 발언 사상 최고 강경 대응조치 단행 고려 그런 사례 북한 미사일 위협 대해 미동 전략 무기 까지 동원 대응 무력시위 \n",
      "실제 요약문 : 근래 전쟁 위기 서로 비방 군사력 시위 배경 국내 김정은 작전 발언 미국 대북 강경 발언 김정은 국무 위원장 성명 트럼프 대한 비난 그런 사례 \n",
      "1/1 [==============================] - 0s 159ms/step\n",
      "1/1 [==============================] - 0s 18ms/step\n",
      "1/1 [==============================] - 0s 17ms/step\n",
      "1/1 [==============================] - 0s 17ms/step\n",
      "1/1 [==============================] - 0s 16ms/step\n",
      "1/1 [==============================] - 0s 17ms/step\n",
      "1/1 [==============================] - 0s 18ms/step\n",
      "1/1 [==============================] - 0s 16ms/step\n",
      "1/1 [==============================] - 0s 15ms/step\n",
      "1/1 [==============================] - 0s 16ms/step\n",
      "1/1 [==============================] - 0s 17ms/step\n",
      "1/1 [==============================] - 0s 17ms/step\n",
      "1/1 [==============================] - 0s 16ms/step\n",
      "1/1 [==============================] - 0s 16ms/step\n",
      "1/1 [==============================] - 0s 17ms/step\n",
      "1/1 [==============================] - 0s 17ms/step\n",
      "1/1 [==============================] - 0s 17ms/step\n",
      "1/1 [==============================] - 0s 17ms/step\n",
      "1/1 [==============================] - 0s 16ms/step\n",
      "예측 요약문 :  북한 에서 에서 에서 에서 에서 으로 으로 으로 으로 으로 으로 으로 으로 으로 으로 으로\n",
      "\n",
      "\n",
      "원문 :  한편 우발 전쟁 가능 항상 열려 현재 남북 군사 긴장 상황 에서 해상 육상 군사분계선 에서 발생 소규모 군사 충돌 이라도 항상 확전 위험 미동 공해 군사 활동 대해 북한 총격 이나 미사일 발사 가능 우발 전쟁 으로 확전 가능 북한 공언 듯이 인근 해역 미사일 포위 발사 경우 미군 요격 가능 공격 한다는 충분 판단 북한 미사일 발사 기지 선제공격 가능 배제 북한 공언 태평양 수소탄 발사 시험 본토 겨냥 발사 시험 경우 미국 요격 발사 기지 선제공격 군사 옵션 특히 이나 본토 향한 미사일 발사 미국 핵탄두 실제 공격 사전 때문 매우 어려운 군사 선택 해야 결과 인해 원치 전면전 으로 확대 가능 \n",
      "실제 요약문 : 남북 긴장 상황 우발 전쟁 가능 가지 이나 본토 대상 으로 북한 미사일 발사 미국 사전 핵탄두 실제 공격 파악 군사 선택 어려워 원치 전면전 으로 이어질 \n",
      "1/1 [==============================] - 0s 155ms/step\n",
      "1/1 [==============================] - 0s 16ms/step\n",
      "1/1 [==============================] - 0s 18ms/step\n",
      "1/1 [==============================] - 0s 17ms/step\n",
      "1/1 [==============================] - 0s 23ms/step\n",
      "1/1 [==============================] - 0s 18ms/step\n",
      "1/1 [==============================] - 0s 19ms/step\n",
      "1/1 [==============================] - 0s 18ms/step\n",
      "1/1 [==============================] - 0s 17ms/step\n",
      "1/1 [==============================] - 0s 21ms/step\n",
      "1/1 [==============================] - 0s 25ms/step\n",
      "1/1 [==============================] - 0s 20ms/step\n",
      "1/1 [==============================] - 0s 17ms/step\n",
      "1/1 [==============================] - 0s 16ms/step\n",
      "1/1 [==============================] - 0s 16ms/step\n",
      "1/1 [==============================] - 0s 17ms/step\n",
      "1/1 [==============================] - 0s 16ms/step\n",
      "1/1 [==============================] - 0s 17ms/step\n",
      "예측 요약문 :  북한 에서 에서 에서 에서 에서 으로 으로 으로 으로 으로 으로 으로 으로 으로 으로\n",
      "\n",
      "\n",
      "원문 :  중국 부상 가져온 세력 균형 변화 구조 압력 에서 미국 미래 잠재 적국 상대 위한 새로운 작전 개념 혁신 첨단 무기 개발 위한 노력 지속 으로 전망 된다 뒷받침 위해 미국 회계 연도 국방 예산 대폭 증액 미국 중국 대한 군사 우위 유지 동맹국 안심 시키 위해 첨단 전력 위주 역내 군사력 강화 지속 으로 보인다 미국 일본 인도 호주 베트남 인도네시아 안보 협력 강화 면서 작전 효율 외교 상승효과 높이 위해 국가 연계 강화 위한 노력 지속 으로 예측 된다 \n",
      "실제 요약문 : 미국 중국 대한 군사 우위 유지 동맹국 안심 시키 위해 새로운 작전 개념 혁신 첨단 무기 개발 통한 군사력 강화 지속 으로 보인다 \n",
      "1/1 [==============================] - 0s 147ms/step\n",
      "1/1 [==============================] - 0s 20ms/step\n",
      "1/1 [==============================] - 0s 18ms/step\n",
      "1/1 [==============================] - 0s 19ms/step\n",
      "1/1 [==============================] - 0s 19ms/step\n",
      "1/1 [==============================] - 0s 19ms/step\n",
      "1/1 [==============================] - 0s 18ms/step\n",
      "1/1 [==============================] - 0s 19ms/step\n",
      "1/1 [==============================] - 0s 17ms/step\n",
      "1/1 [==============================] - 0s 16ms/step\n",
      "1/1 [==============================] - 0s 16ms/step\n",
      "1/1 [==============================] - 0s 17ms/step\n",
      "1/1 [==============================] - 0s 19ms/step\n",
      "1/1 [==============================] - 0s 21ms/step\n",
      "1/1 [==============================] - 0s 19ms/step\n",
      "1/1 [==============================] - 0s 22ms/step\n",
      "1/1 [==============================] - 0s 19ms/step\n",
      "1/1 [==============================] - 0s 19ms/step\n",
      "1/1 [==============================] - 0s 17ms/step\n",
      "1/1 [==============================] - 0s 17ms/step\n",
      "예측 요약문 :  북한 경제 에서 에서 에서 으로 으로 으로 으로 으로 으로 으로 으로 으로 으로 으로 으로 으로\n",
      "\n",
      "\n"
     ]
    }
   ],
   "source": [
    "for i in range(0, 10):\n",
    "    print(\"원문 : \",seq2text(encoder_input_test[i]))\n",
    "    print(\"실제 요약문 :\",seq2summary(decoder_input_test[i]))\n",
    "    print(\"예측 요약문 :\",decode_sequence(encoder_input_test[i].reshape(1, text_max_len)))\n",
    "    print(\"\\n\")\n"
   ]
  },
  {
   "cell_type": "code",
   "execution_count": 87,
   "metadata": {},
   "outputs": [],
   "source": [
    "from rouge import Rouge"
   ]
  },
  {
   "cell_type": "code",
   "execution_count": 88,
   "metadata": {},
   "outputs": [
    {
     "name": "stdout",
     "output_type": "stream",
     "text": [
      "1/1 [==============================] - 0s 390ms/step\n",
      "1/1 [==============================] - 0s 18ms/step\n",
      "1/1 [==============================] - 0s 17ms/step\n",
      "1/1 [==============================] - 0s 18ms/step\n",
      "1/1 [==============================] - 0s 17ms/step\n",
      "1/1 [==============================] - 0s 16ms/step\n",
      "1/1 [==============================] - 0s 17ms/step\n",
      "1/1 [==============================] - 0s 16ms/step\n",
      "1/1 [==============================] - 0s 25ms/step\n",
      "1/1 [==============================] - 0s 16ms/step\n",
      "1/1 [==============================] - 0s 17ms/step\n",
      "1/1 [==============================] - 0s 18ms/step\n",
      "1/1 [==============================] - 0s 18ms/step\n",
      "1/1 [==============================] - 0s 21ms/step\n",
      "1/1 [==============================] - 0s 20ms/step\n",
      "1/1 [==============================] - 0s 20ms/step\n",
      "1/1 [==============================] - 0s 20ms/step\n",
      "1/1 [==============================] - 0s 21ms/step\n",
      "1/1 [==============================] - 0s 21ms/step\n",
      "rouge scores:  {'rouge-1': {'r': 0.08695652173913043, 'p': 0.6666666666666666, 'f': 0.15384615180473374}, 'rouge-2': {'r': 0.0, 'p': 0.0, 'f': 0.0}, 'rouge-l': {'r': 0.08695652173913043, 'p': 0.6666666666666666, 'f': 0.15384615180473374}}\n",
      "bleu score:  6.283953809295883e-232\n"
     ]
    },
    {
     "name": "stderr",
     "output_type": "stream",
     "text": [
      "c:\\Users\\User\\anaconda3\\envs\\hee\\lib\\site-packages\\nltk\\translate\\bleu_score.py:552: UserWarning: \n",
      "The hypothesis contains 0 counts of 2-gram overlaps.\n",
      "Therefore the BLEU score evaluates to 0, independently of\n",
      "how many N-gram overlaps of lower order it contains.\n",
      "Consider using lower n-gram order or use SmoothingFunction()\n",
      "  warnings.warn(_msg)\n",
      "c:\\Users\\User\\anaconda3\\envs\\hee\\lib\\site-packages\\nltk\\translate\\bleu_score.py:552: UserWarning: \n",
      "The hypothesis contains 0 counts of 3-gram overlaps.\n",
      "Therefore the BLEU score evaluates to 0, independently of\n",
      "how many N-gram overlaps of lower order it contains.\n",
      "Consider using lower n-gram order or use SmoothingFunction()\n",
      "  warnings.warn(_msg)\n",
      "c:\\Users\\User\\anaconda3\\envs\\hee\\lib\\site-packages\\nltk\\translate\\bleu_score.py:552: UserWarning: \n",
      "The hypothesis contains 0 counts of 4-gram overlaps.\n",
      "Therefore the BLEU score evaluates to 0, independently of\n",
      "how many N-gram overlaps of lower order it contains.\n",
      "Consider using lower n-gram order or use SmoothingFunction()\n",
      "  warnings.warn(_msg)\n"
     ]
    }
   ],
   "source": [
    "rouge = Rouge()\n",
    "reference_summary = seq2summary(decoder_input_test[0])\n",
    "predicted_summary = decode_sequence(encoder_input_test[0].reshape(1, text_max_len))\n",
    "scores = rouge.get_scores(predicted_summary, reference_summary, avg=True)\n",
    "print(\"rouge scores: \", scores)\n",
    "\n",
    "# bleu score 출력\n",
    "from nltk.translate.bleu_score import sentence_bleu\n",
    "\n",
    "reference = [reference_summary.split()]\n",
    "candidate = predicted_summary.split()\n",
    "bleu_score = sentence_bleu(reference, candidate)\n",
    "print(\"bleu score: \", bleu_score)"
   ]
  },
  {
   "cell_type": "code",
   "execution_count": null,
   "metadata": {},
   "outputs": [],
   "source": [
    "model.save('model2.h5')"
   ]
  },
  {
   "cell_type": "code",
   "execution_count": null,
   "metadata": {},
   "outputs": [
    {
     "name": "stdout",
     "output_type": "stream",
     "text": [
      "Collecting rouge\n",
      "  Downloading rouge-1.0.1-py3-none-any.whl (13 kB)\n",
      "Requirement already satisfied: six in c:\\users\\user\\anaconda3\\envs\\hee\\lib\\site-packages (from rouge) (1.12.0)\n",
      "Installing collected packages: rouge\n",
      "Successfully installed rouge-1.0.1\n"
     ]
    }
   ],
   "source": [
    "!pip install rouge"
   ]
  },
  {
   "cell_type": "code",
   "execution_count": null,
   "metadata": {},
   "outputs": [],
   "source": [
    "from rouge import  Rouge"
   ]
  },
  {
   "cell_type": "code",
   "execution_count": null,
   "metadata": {},
   "outputs": [],
   "source": [
    "rouge = Rouge()"
   ]
  },
  {
   "cell_type": "code",
   "execution_count": null,
   "metadata": {},
   "outputs": [],
   "source": [
    "rouge.get_scores()"
   ]
  },
  {
   "cell_type": "code",
   "execution_count": null,
   "metadata": {},
   "outputs": [],
   "source": [
    "import nltk\n",
    "from nltk.translate.bleu_score import sentence_bleu\n",
    "\n",
    "def calculate_bleu_scores(reference, candidate):\n",
    "    reference_tokens = [reference.split()]\n",
    "    candidate_tokens = candidate.split()\n",
    "\n",
    "    # Calculate BLEU score with 4-gram (BLEU-4)\n",
    "    bleu_score = sentence_bleu(reference_tokens, candidate_tokens, weights=(0.25, 0.25, 0.25, 0.25))\n",
    "\n",
    "    return bleu_score\n",
    "\n",
    "# seq2text(), seq2summary(), decode_sequence() 함수가 이미 정의되어 있다고 가정합니다.\n",
    "\n",
    "# 예시 사용:\n",
    "reference_summary = seq2summary(decoder_input_test[0])\n",
    "predicted_summary = decode_sequence(encoder_input_test[0].reshape(1, text_max_len))\n",
    "\n",
    "print(\"원문: \", seq2text(encoder_input_test[0]))\n",
    "print(\"실제 요약문: \", reference_summary)\n",
    "print(\"예측 요약문: \", predicted_summary)\n",
    "\n",
    "bleu_score = calculate_bleu_scores(reference_summary, predicted_summary)\n",
    "print(\"BLEU 점수: \", bleu_score)\n",
    "\n",
    "print('실습 코드의 BLEU :',bleu_score(candidate.split(),list(map(lambda ref: ref.split(), references))))\n",
    "print('패키지 NLTK의 BLEU :',bleu.sentence_bleu(list(map(lambda ref: ref.split(), references)),candidate.split()))"
   ]
  },
  {
   "cell_type": "code",
   "execution_count": null,
   "metadata": {},
   "outputs": [
    {
     "name": "stdout",
     "output_type": "stream",
     "text": [
      "원문 :  특히 평화 정착 위해 국정 과제 제시 한반도 평화 체제 구축 방안 적극 으로 추진 으로 보인다 문재인 정부 비핵화 진전 평화 체제 협상 추진 완전 해결 단계 에서 평화 협정 체결 평화 체제 진전 시키 구상 제시 위해 평화 체제 구축 로드맵 마련 비핵화 합의 목표 부터 동결 에서 완전 폐기 이어지 포괄 비핵화 협상 방안 마련 비핵화 초기 조치 확보 포괄 비핵화 협상 재개 추진 전망 북한 확고 무장 의지 협상 거부 입장 한국 평화 체제 구축 구상 대한 미국 이해 지지 미비 평화 체제 구축 위한 자회 실패 경험 으로 인해 단시간 비핵화 평화 체제 구축 위한 노력 성과 거둘 가능 매우 투명 \n",
      "실제 요약문 : 문재인 정부 한반도 평화 체제 구축 방안 제시 였으나 북한 흔들림 무장 의지 협상 거부 미국 이해 협조 미비 으로 단시간 비핵화 평화 체제 구축 어렵 \n",
      "1/1 [==============================] - 0s 396ms/step\n",
      "1/1 [==============================] - 0s 18ms/step\n",
      "1/1 [==============================] - 0s 19ms/step\n",
      "1/1 [==============================] - 0s 19ms/step\n",
      "1/1 [==============================] - 0s 20ms/step\n",
      "1/1 [==============================] - 0s 19ms/step\n",
      "1/1 [==============================] - 0s 23ms/step\n",
      "1/1 [==============================] - 0s 24ms/step\n",
      "1/1 [==============================] - 0s 22ms/step\n",
      "1/1 [==============================] - 0s 25ms/step\n",
      "1/1 [==============================] - 0s 25ms/step\n",
      "1/1 [==============================] - 0s 20ms/step\n",
      "1/1 [==============================] - 0s 23ms/step\n",
      "1/1 [==============================] - 0s 19ms/step\n",
      "1/1 [==============================] - 0s 25ms/step\n",
      "1/1 [==============================] - 0s 27ms/step\n",
      "1/1 [==============================] - 0s 24ms/step\n",
      "1/1 [==============================] - 0s 19ms/step\n",
      "1/1 [==============================] - 0s 22ms/step\n",
      "1/1 [==============================] - 0s 21ms/step\n",
      "1/1 [==============================] - 0s 24ms/step\n",
      "1/1 [==============================] - 0s 24ms/step\n",
      "1/1 [==============================] - 0s 26ms/step\n",
      "1/1 [==============================] - 0s 22ms/step\n",
      "1/1 [==============================] - 0s 24ms/step\n",
      "1/1 [==============================] - 0s 25ms/step\n",
      "1/1 [==============================] - 0s 29ms/step\n",
      "1/1 [==============================] - 0s 28ms/step\n",
      "1/1 [==============================] - 0s 35ms/step\n",
      "1/1 [==============================] - 0s 21ms/step\n",
      "1/1 [==============================] - 0s 21ms/step\n",
      "1/1 [==============================] - 0s 23ms/step\n",
      "1/1 [==============================] - 0s 23ms/step\n",
      "1/1 [==============================] - 0s 20ms/step\n",
      "예측 요약문 :  평화 정착 위해 국정 과제 제시 남북 체제 구축 방안 추진 으로 보인다 평화 체제 구축 로드맵 마련 비핵화 협상 방안 마련 비핵화 협상 협상 거부 입장 한국 평화 체제 구축 구상\n",
      "1/1 [==============================] - 0s 339ms/step\n",
      "1/1 [==============================] - 0s 20ms/step\n",
      "1/1 [==============================] - 0s 19ms/step\n",
      "1/1 [==============================] - 0s 25ms/step\n",
      "1/1 [==============================] - 0s 19ms/step\n",
      "1/1 [==============================] - 0s 22ms/step\n",
      "1/1 [==============================] - 0s 32ms/step\n",
      "1/1 [==============================] - 0s 20ms/step\n",
      "1/1 [==============================] - 0s 20ms/step\n",
      "1/1 [==============================] - 0s 21ms/step\n",
      "1/1 [==============================] - 0s 23ms/step\n",
      "1/1 [==============================] - 0s 19ms/step\n",
      "1/1 [==============================] - 0s 23ms/step\n",
      "1/1 [==============================] - 0s 19ms/step\n",
      "1/1 [==============================] - 0s 22ms/step\n",
      "1/1 [==============================] - 0s 21ms/step\n",
      "1/1 [==============================] - 0s 21ms/step\n",
      "1/1 [==============================] - 0s 18ms/step\n",
      "1/1 [==============================] - 0s 21ms/step\n",
      "1/1 [==============================] - 0s 19ms/step\n",
      "1/1 [==============================] - 0s 19ms/step\n",
      "1/1 [==============================] - 0s 19ms/step\n",
      "1/1 [==============================] - 0s 25ms/step\n",
      "1/1 [==============================] - 0s 21ms/step\n",
      "1/1 [==============================] - 0s 22ms/step\n",
      "1/1 [==============================] - 0s 18ms/step\n",
      "1/1 [==============================] - 0s 18ms/step\n",
      "1/1 [==============================] - 0s 22ms/step\n",
      "1/1 [==============================] - 0s 20ms/step\n",
      "1/1 [==============================] - 0s 20ms/step\n",
      "1/1 [==============================] - 0s 23ms/step\n",
      "1/1 [==============================] - 0s 21ms/step\n",
      "1/1 [==============================] - 0s 22ms/step\n",
      "1/1 [==============================] - 0s 23ms/step\n",
      "rouge scores:  {'rouge-1': {'r': 0.391304347826087, 'p': 0.42857142857142855, 'f': 0.4090909041012397}, 'rouge-2': {'r': 0.17391304347826086, 'p': 0.15384615384615385, 'f': 0.1632653011411913}, 'rouge-l': {'r': 0.2608695652173913, 'p': 0.2857142857142857, 'f': 0.27272726773760336}}\n"
     ]
    }
   ],
   "source": [
    "print(\"원문 : \",seq2text(encoder_input_test[0]))\n",
    "print(\"실제 요약문 :\",seq2summary(decoder_input_test[0]))\n",
    "print(\"예측 요약문 :\",decode_sequence(encoder_input_test[0].reshape(1, text_max_len)))\n",
    "print(\"rouge scores: \",rouge.get_scores(decode_sequence(encoder_input_test[0].reshape(1, text_max_len)), seq2summary(decoder_input_test[0]) , avg= True))"
   ]
  },
  {
   "cell_type": "code",
   "execution_count": null,
   "metadata": {},
   "outputs": [
    {
     "name": "stdout",
     "output_type": "stream",
     "text": [
      "원문 :  셋째 한국 정부 문제 해결 위해 제재 대화 병행 추진 전망 지난 추진 전략 인내 정책 으로부터 방향 선회 의미 한다 정부 대북 제재 압박 정책 추진 면서 목표 분명 북한 붕괴 목표 라는 해석 현재 정부 대북 제재 압박 목표 북한 붕괴 비핵화 진전 협상 재개 명료히 최근 정부 공동 으로 북한 정권 교체 정권 붕괴 통일 가속 흡수 통일 이북 으로 침공 는다는 소위 정책 기조 반복 대화 장애 요인 제거 고자 강한 의지 보이 으로 해석 된다 \n",
      "실제 요약문 : 지난 한미 정부 추진 북한 대한 전략 인내 정책 목표 분명 현재 정부 비핵화 진전 협상 재개 목표 분명히 정책 기조 반복 그렇 \n",
      "1/1 [==============================] - 0s 394ms/step\n",
      "1/1 [==============================] - 0s 21ms/step\n",
      "1/1 [==============================] - 0s 22ms/step\n",
      "1/1 [==============================] - 0s 20ms/step\n",
      "1/1 [==============================] - 0s 20ms/step\n",
      "1/1 [==============================] - 0s 26ms/step\n",
      "1/1 [==============================] - 0s 21ms/step\n",
      "1/1 [==============================] - 0s 18ms/step\n",
      "1/1 [==============================] - 0s 24ms/step\n",
      "1/1 [==============================] - 0s 19ms/step\n",
      "1/1 [==============================] - 0s 22ms/step\n",
      "1/1 [==============================] - 0s 24ms/step\n",
      "1/1 [==============================] - 0s 28ms/step\n",
      "1/1 [==============================] - 0s 25ms/step\n",
      "1/1 [==============================] - 0s 24ms/step\n",
      "1/1 [==============================] - 0s 17ms/step\n",
      "1/1 [==============================] - 0s 19ms/step\n",
      "1/1 [==============================] - 0s 19ms/step\n",
      "1/1 [==============================] - 0s 23ms/step\n",
      "1/1 [==============================] - 0s 21ms/step\n",
      "1/1 [==============================] - 0s 21ms/step\n",
      "1/1 [==============================] - 0s 22ms/step\n",
      "1/1 [==============================] - 0s 22ms/step\n",
      "1/1 [==============================] - 0s 22ms/step\n",
      "1/1 [==============================] - 0s 22ms/step\n",
      "1/1 [==============================] - 0s 32ms/step\n",
      "1/1 [==============================] - 0s 22ms/step\n",
      "예측 요약문 :  한국 정부 문제 해결 위해 제재 대화 병행 추진 전망 지난 추진 전략 인내 정책 기조 반복 대화 장애 요인 제거 고자 강한 의지 보이\n",
      "1/1 [==============================] - 0s 165ms/step\n",
      "1/1 [==============================] - 0s 23ms/step\n",
      "1/1 [==============================] - 0s 24ms/step\n",
      "1/1 [==============================] - 0s 20ms/step\n",
      "1/1 [==============================] - 0s 20ms/step\n",
      "1/1 [==============================] - 0s 20ms/step\n",
      "1/1 [==============================] - 0s 22ms/step\n",
      "1/1 [==============================] - 0s 18ms/step\n",
      "1/1 [==============================] - 0s 19ms/step\n",
      "1/1 [==============================] - 0s 22ms/step\n",
      "1/1 [==============================] - 0s 23ms/step\n",
      "1/1 [==============================] - 0s 19ms/step\n",
      "1/1 [==============================] - 0s 22ms/step\n",
      "1/1 [==============================] - 0s 20ms/step\n",
      "1/1 [==============================] - 0s 27ms/step\n",
      "1/1 [==============================] - 0s 26ms/step\n",
      "1/1 [==============================] - 0s 20ms/step\n",
      "1/1 [==============================] - 0s 28ms/step\n",
      "1/1 [==============================] - 0s 18ms/step\n",
      "1/1 [==============================] - 0s 21ms/step\n",
      "1/1 [==============================] - 0s 23ms/step\n",
      "1/1 [==============================] - 0s 21ms/step\n",
      "1/1 [==============================] - 0s 20ms/step\n",
      "1/1 [==============================] - 0s 18ms/step\n",
      "1/1 [==============================] - 0s 25ms/step\n",
      "1/1 [==============================] - 0s 18ms/step\n",
      "1/1 [==============================] - 0s 25ms/step\n",
      "rouge scores:  {'rouge-1': {'r': 0.4, 'p': 0.34782608695652173, 'f': 0.37209301828015146}, 'rouge-2': {'r': 0.18181818181818182, 'p': 0.16666666666666666, 'f': 0.1739130384877128}, 'rouge-l': {'r': 0.35, 'p': 0.30434782608695654, 'f': 0.32558139037317474}}\n"
     ]
    }
   ],
   "source": [
    "print(\"원문 : \",seq2text(encoder_input_test[1]))\n",
    "print(\"실제 요약문 :\",seq2summary(decoder_input_test[1]))\n",
    "print(\"예측 요약문 :\",decode_sequence(encoder_input_test[1].reshape(1, text_max_len)))\n",
    "print(\"rouge scores: \",rouge.get_scores(decode_sequence(encoder_input_test[1].reshape(1, text_max_len)), seq2summary(decoder_input_test[1]) , avg= True))"
   ]
  },
  {
   "cell_type": "code",
   "execution_count": 89,
   "metadata": {},
   "outputs": [
    {
     "name": "stdout",
     "output_type": "stream",
     "text": [
      "1/1 [==============================] - 0s 397ms/step\n",
      "1/1 [==============================] - 0s 19ms/step\n",
      "1/1 [==============================] - 0s 17ms/step\n",
      "1/1 [==============================] - 0s 18ms/step\n",
      "1/1 [==============================] - 0s 15ms/step\n",
      "1/1 [==============================] - 0s 17ms/step\n",
      "1/1 [==============================] - 0s 18ms/step\n",
      "1/1 [==============================] - 0s 15ms/step\n",
      "1/1 [==============================] - 0s 18ms/step\n",
      "1/1 [==============================] - 0s 17ms/step\n",
      "1/1 [==============================] - 0s 17ms/step\n",
      "1/1 [==============================] - 0s 16ms/step\n",
      "1/1 [==============================] - 0s 27ms/step\n",
      "1/1 [==============================] - 0s 18ms/step\n",
      "1/1 [==============================] - 0s 17ms/step\n",
      "1/1 [==============================] - 0s 16ms/step\n",
      "1/1 [==============================] - 0s 16ms/step\n",
      "1/1 [==============================] - 0s 17ms/step\n",
      "1/1 [==============================] - 0s 19ms/step\n",
      "1/1 [==============================] - 0s 14ms/step\n"
     ]
    },
    {
     "ename": "TypeError",
     "evalue": "'float' object is not callable",
     "output_type": "error",
     "traceback": [
      "\u001b[1;31m---------------------------------------------------------------------------\u001b[0m",
      "\u001b[1;31mTypeError\u001b[0m                                 Traceback (most recent call last)",
      "Cell \u001b[1;32mIn[89], line 2\u001b[0m\n\u001b[0;32m      1\u001b[0m \u001b[39mimport\u001b[39;00m \u001b[39mnltk\u001b[39;00m\u001b[39m.\u001b[39;00m\u001b[39mtranslate\u001b[39;00m\u001b[39m.\u001b[39;00m\u001b[39mbleu_score\u001b[39;00m \u001b[39mas\u001b[39;00m \u001b[39mbleu\u001b[39;00m\n\u001b[1;32m----> 2\u001b[0m \u001b[39mprint\u001b[39m(\u001b[39m'\u001b[39m\u001b[39m실습 코드의 BLEU :\u001b[39m\u001b[39m'\u001b[39m,bleu_score(decode_sequence(encoder_input_test[i]\u001b[39m.\u001b[39;49mreshape(\u001b[39m1\u001b[39;49m, text_max_len))\u001b[39m.\u001b[39;49msplit(),\u001b[39mlist\u001b[39;49m(\u001b[39mmap\u001b[39;49m(\u001b[39mlambda\u001b[39;49;00m ref: ref\u001b[39m.\u001b[39;49msplit(), seq2text(encoder_input_test[i])))))\n\u001b[0;32m      3\u001b[0m \u001b[39mprint\u001b[39m(\u001b[39m'\u001b[39m\u001b[39m패키지 NLTK의 BLEU :\u001b[39m\u001b[39m'\u001b[39m,bleu\u001b[39m.\u001b[39msentence_bleu(\u001b[39mlist\u001b[39m(\u001b[39mmap\u001b[39m(\u001b[39mlambda\u001b[39;00m ref: ref\u001b[39m.\u001b[39msplit(), references)),decode_sequence(encoder_input_test[i]\u001b[39m.\u001b[39mreshape(\u001b[39m1\u001b[39m, text_max_len))\u001b[39m.\u001b[39msplit()))\n",
      "\u001b[1;31mTypeError\u001b[0m: 'float' object is not callable"
     ]
    }
   ],
   "source": [
    "import nltk.translate.bleu_score as bleu\n",
    "print('실습 코드의 BLEU :',bleu_score(decode_sequence(encoder_input_test[i].reshape(1, text_max_len)).split(),list(map(lambda ref: ref.split(), seq2text(encoder_input_test[i])))))\n",
    "print('패키지 NLTK의 BLEU :',bleu.sentence_bleu(list(map(lambda ref: ref.split(), references)),decode_sequence(encoder_input_test[i].reshape(1, text_max_len)).split()))"
   ]
  },
  {
   "cell_type": "code",
   "execution_count": null,
   "metadata": {},
   "outputs": [
    {
     "name": "stdout",
     "output_type": "stream",
     "text": [
      "Model: \"model_1\"\n",
      "__________________________________________________________________________________________________\n",
      " Layer (type)                   Output Shape         Param #     Connected to                     \n",
      "==================================================================================================\n",
      " input_1 (InputLayer)           [(None, 160)]        0           []                               \n",
      "                                                                                                  \n",
      " embedding (Embedding)          (None, 160, 128)     3712000     ['input_1[0][0]']                \n",
      "                                                                                                  \n",
      " lstm (LSTM)                    [(None, 160, 256),   394240      ['embedding[0][0]']              \n",
      "                                 (None, 256),                                                     \n",
      "                                 (None, 256)]                                                     \n",
      "                                                                                                  \n",
      " input_2 (InputLayer)           [(None, None)]       0           []                               \n",
      "                                                                                                  \n",
      " lstm_1 (LSTM)                  [(None, 160, 256),   525312      ['lstm[0][0]']                   \n",
      "                                 (None, 256),                                                     \n",
      "                                 (None, 256)]                                                     \n",
      "                                                                                                  \n",
      " embedding_1 (Embedding)        (None, None, 128)    2048000     ['input_2[0][0]']                \n",
      "                                                                                                  \n",
      " lstm_2 (LSTM)                  [(None, 160, 256),   525312      ['lstm_1[0][0]']                 \n",
      "                                 (None, 256),                                                     \n",
      "                                 (None, 256)]                                                     \n",
      "                                                                                                  \n",
      " lstm_3 (LSTM)                  [(None, None, 256),  394240      ['embedding_1[0][0]',            \n",
      "                                 (None, 256),                     'lstm_2[0][1]',                 \n",
      "                                 (None, 256)]                     'lstm_2[0][2]']                 \n",
      "                                                                                                  \n",
      " attention_layer (AttentionLaye  ((None, None, 256),  131328     ['lstm_2[0][0]',                 \n",
      " r)                              (None, None, 160))               'lstm_3[0][0]']                 \n",
      "                                                                                                  \n",
      " concat_layer (Concatenate)     (None, None, 512)    0           ['lstm_3[0][0]',                 \n",
      "                                                                  'attention_layer[0][0]']        \n",
      "                                                                                                  \n",
      " dense_1 (Dense)                (None, None, 16000)  8208000     ['concat_layer[0][0]']           \n",
      "                                                                                                  \n",
      "==================================================================================================\n",
      "Total params: 15,938,432\n",
      "Trainable params: 15,938,432\n",
      "Non-trainable params: 0\n",
      "__________________________________________________________________________________________________\n"
     ]
    }
   ],
   "source": [
    "model.summary()"
   ]
  }
 ],
 "metadata": {
  "kernelspec": {
   "display_name": "ptgpu",
   "language": "python",
   "name": "python3"
  },
  "language_info": {
   "codemirror_mode": {
    "name": "ipython",
    "version": 3
   },
   "file_extension": ".py",
   "mimetype": "text/x-python",
   "name": "python",
   "nbconvert_exporter": "python",
   "pygments_lexer": "ipython3",
   "version": "3.9.16"
  },
  "orig_nbformat": 4
 },
 "nbformat": 4,
 "nbformat_minor": 2
}
