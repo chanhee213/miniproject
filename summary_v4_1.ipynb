{
 "cells": [
  {
   "cell_type": "code",
   "execution_count": 62,
   "metadata": {},
   "outputs": [],
   "source": [
    "import numpy as np\n",
    "import pandas as pd\n",
    "import re\n",
    "import matplotlib.pyplot as plt\n",
    "import random\n",
    "from mecab import MeCab\n",
    "from tensorflow.keras.preprocessing.text import Tokenizer \n",
    "from tensorflow.keras.preprocessing.sequence import pad_sequences\n",
    "from tensorflow.keras.models import load_model\n",
    "import urllib.request\n",
    "from tokenizers import BertWordPieceTokenizer\n",
    "import tensorflow as tf"
   ]
  },
  {
   "cell_type": "code",
   "execution_count": 63,
   "metadata": {},
   "outputs": [],
   "source": [
    "raw = pd.read_csv(\"C:/Users/User/Downloads/도서자료 요약/Training/merged_data.csv\")\n",
    "df = raw.copy()"
   ]
  },
  {
   "cell_type": "code",
   "execution_count": 64,
   "metadata": {},
   "outputs": [],
   "source": [
    "list_index = df[df.summary.duplicated()].index"
   ]
  },
  {
   "cell_type": "code",
   "execution_count": 65,
   "metadata": {},
   "outputs": [],
   "source": [
    "# 중복된 값 삭제\n",
    "for index in list_index:\n",
    "    df = df.drop(index)"
   ]
  },
  {
   "cell_type": "code",
   "execution_count": 66,
   "metadata": {},
   "outputs": [
    {
     "data": {
      "text/plain": [
       "passage    0\n",
       "summary    0\n",
       "dtype: int64"
      ]
     },
     "execution_count": 66,
     "metadata": {},
     "output_type": "execute_result"
    }
   ],
   "source": [
    "df.isnull().sum()"
   ]
  },
  {
   "cell_type": "code",
   "execution_count": 67,
   "metadata": {},
   "outputs": [],
   "source": [
    "# 형태소 분석기 초기화\n",
    "mecab = MeCab()"
   ]
  },
  {
   "cell_type": "code",
   "execution_count": 68,
   "metadata": {},
   "outputs": [
    {
     "data": {
      "text/html": [
       "<div>\n",
       "<style scoped>\n",
       "    .dataframe tbody tr th:only-of-type {\n",
       "        vertical-align: middle;\n",
       "    }\n",
       "\n",
       "    .dataframe tbody tr th {\n",
       "        vertical-align: top;\n",
       "    }\n",
       "\n",
       "    .dataframe thead th {\n",
       "        text-align: right;\n",
       "    }\n",
       "</style>\n",
       "<table border=\"1\" class=\"dataframe\">\n",
       "  <thead>\n",
       "    <tr style=\"text-align: right;\">\n",
       "      <th></th>\n",
       "      <th>passage</th>\n",
       "      <th>summary</th>\n",
       "    </tr>\n",
       "  </thead>\n",
       "  <tbody>\n",
       "    <tr>\n",
       "      <th>0</th>\n",
       "      <td>지금의 국가가 직면하는 위기는 전통사회의 그것과 위기의 규모뿐만아니라 종류와 성질 ...</td>\n",
       "      <td>현대 사회에서 발생하는 다양하고 복잡한 위기는 과거와 다르게 국가의 재난으로 이어질...</td>\n",
       "    </tr>\n",
       "    <tr>\n",
       "      <th>1</th>\n",
       "      <td>자연재해나 불량 수산식품 파동 등의 인위적 재난이 수산분야 피해로이어질 경우 일반분...</td>\n",
       "      <td>수산분야의 인위적 재난 시수산물 수급 문제로 생산자들의 매출이 크게 줄고, 시장 전...</td>\n",
       "    </tr>\n",
       "    <tr>\n",
       "      <th>2</th>\n",
       "      <td>하지만 이와 반대로 MG 파동 이후 기간(2005.10～2011.12)의 경우에는 ...</td>\n",
       "      <td>MG 파동 이후에는 양식 송어의 생산량의 증가가 통계적 유의성을 갖는 것으로 드러났...</td>\n",
       "    </tr>\n",
       "    <tr>\n",
       "      <th>3</th>\n",
       "      <td>그러나 사회적 이슈가 발생하였을 경우에 전문적으로 이러한 정보를 수집하고 분석하는 ...</td>\n",
       "      <td>사회적 이슈 발생 시 전문적으로 정보 수집 및 분석을 하는 관측 시스템이 아직 구축...</td>\n",
       "    </tr>\n",
       "    <tr>\n",
       "      <th>4</th>\n",
       "      <td>네 번째는 공급감소로 국내 물량이 부족하게 되면 유통질서가 왜곡될 가능성이 많기 때...</td>\n",
       "      <td>일부 경우에서의 유통질서 혼란을 방지하기 위해 거래형태의 변형이 필요하다. 의도적 ...</td>\n",
       "    </tr>\n",
       "    <tr>\n",
       "      <th>...</th>\n",
       "      <td>...</td>\n",
       "      <td>...</td>\n",
       "    </tr>\n",
       "    <tr>\n",
       "      <th>159997</th>\n",
       "      <td>지도자로 등장한 2012년부터 2016년까지는 최고지도자로 추대되기 위한 준비기간이...</td>\n",
       "      <td>2012년 김정은은 국가 운영과 관련해 퍼포먼스를 선보였다. LED 패널을 이용한 ...</td>\n",
       "    </tr>\n",
       "    <tr>\n",
       "      <th>159998</th>\n",
       "      <td>그러나 공공도서관은 과거 도서출판의 급속한 성장에 따른 장서수의 확충과 미디어의 확...</td>\n",
       "      <td>양적 성장을 추구했던 공공도서관은 이젠 질적 향상에도 집중해야 할 때이다. 정보통신...</td>\n",
       "    </tr>\n",
       "    <tr>\n",
       "      <th>159999</th>\n",
       "      <td>작은도서관의 이용자가 이동에 제약이 있는 유아, 노인들처럼 도보만을 이용할 수 있는...</td>\n",
       "      <td>작은도서관 이용자가 도보이동반경 내에 다수의 도서관이 없는 한 대체재의 역할을 수행...</td>\n",
       "    </tr>\n",
       "    <tr>\n",
       "      <th>160000</th>\n",
       "      <td>공공도서관 사서는 정보가 축적된 모든 형태의 매체자료(인쇄자료, 필사자료, 시청각자...</td>\n",
       "      <td>공공도서관 사서는 정보자료를 국민에게 제공하며 정보자료의 유통, 정보 접근 및 이용...</td>\n",
       "    </tr>\n",
       "    <tr>\n",
       "      <th>160001</th>\n",
       "      <td>2018년 콘텐츠산업 사업체 수는 10만 5,310개로 전년대비 0.2% 감소했으며...</td>\n",
       "      <td>2018년 기준 지난 4년간 콘텐츠 산업 사업체 수는 감소하는 경향을 보였다. 콘텐...</td>\n",
       "    </tr>\n",
       "  </tbody>\n",
       "</table>\n",
       "<p>158469 rows × 2 columns</p>\n",
       "</div>"
      ],
      "text/plain": [
       "                                                  passage  \\\n",
       "0       지금의 국가가 직면하는 위기는 전통사회의 그것과 위기의 규모뿐만아니라 종류와 성질 ...   \n",
       "1       자연재해나 불량 수산식품 파동 등의 인위적 재난이 수산분야 피해로이어질 경우 일반분...   \n",
       "2       하지만 이와 반대로 MG 파동 이후 기간(2005.10～2011.12)의 경우에는 ...   \n",
       "3       그러나 사회적 이슈가 발생하였을 경우에 전문적으로 이러한 정보를 수집하고 분석하는 ...   \n",
       "4       네 번째는 공급감소로 국내 물량이 부족하게 되면 유통질서가 왜곡될 가능성이 많기 때...   \n",
       "...                                                   ...   \n",
       "159997  지도자로 등장한 2012년부터 2016년까지는 최고지도자로 추대되기 위한 준비기간이...   \n",
       "159998  그러나 공공도서관은 과거 도서출판의 급속한 성장에 따른 장서수의 확충과 미디어의 확...   \n",
       "159999  작은도서관의 이용자가 이동에 제약이 있는 유아, 노인들처럼 도보만을 이용할 수 있는...   \n",
       "160000  공공도서관 사서는 정보가 축적된 모든 형태의 매체자료(인쇄자료, 필사자료, 시청각자...   \n",
       "160001  2018년 콘텐츠산업 사업체 수는 10만 5,310개로 전년대비 0.2% 감소했으며...   \n",
       "\n",
       "                                                  summary  \n",
       "0       현대 사회에서 발생하는 다양하고 복잡한 위기는 과거와 다르게 국가의 재난으로 이어질...  \n",
       "1       수산분야의 인위적 재난 시수산물 수급 문제로 생산자들의 매출이 크게 줄고, 시장 전...  \n",
       "2       MG 파동 이후에는 양식 송어의 생산량의 증가가 통계적 유의성을 갖는 것으로 드러났...  \n",
       "3       사회적 이슈 발생 시 전문적으로 정보 수집 및 분석을 하는 관측 시스템이 아직 구축...  \n",
       "4       일부 경우에서의 유통질서 혼란을 방지하기 위해 거래형태의 변형이 필요하다. 의도적 ...  \n",
       "...                                                   ...  \n",
       "159997  2012년 김정은은 국가 운영과 관련해 퍼포먼스를 선보였다. LED 패널을 이용한 ...  \n",
       "159998  양적 성장을 추구했던 공공도서관은 이젠 질적 향상에도 집중해야 할 때이다. 정보통신...  \n",
       "159999  작은도서관 이용자가 도보이동반경 내에 다수의 도서관이 없는 한 대체재의 역할을 수행...  \n",
       "160000  공공도서관 사서는 정보자료를 국민에게 제공하며 정보자료의 유통, 정보 접근 및 이용...  \n",
       "160001  2018년 기준 지난 4년간 콘텐츠 산업 사업체 수는 감소하는 경향을 보였다. 콘텐...  \n",
       "\n",
       "[158469 rows x 2 columns]"
      ]
     },
     "execution_count": 68,
     "metadata": {},
     "output_type": "execute_result"
    }
   ],
   "source": [
    "df"
   ]
  },
  {
   "cell_type": "code",
   "execution_count": 69,
   "metadata": {},
   "outputs": [],
   "source": [
    "def preprocess_text(text):\n",
    "    token = mecab.morphs(text)\n",
    "    return ' '.join(token)"
   ]
  },
  {
   "cell_type": "code",
   "execution_count": 70,
   "metadata": {},
   "outputs": [],
   "source": [
    "df['PreprocessedText'] = df['passage'].apply(preprocess_text)"
   ]
  },
  {
   "cell_type": "code",
   "execution_count": 71,
   "metadata": {},
   "outputs": [],
   "source": [
    "df['Pred_summary'] = df['summary'].apply(preprocess_text)"
   ]
  },
  {
   "cell_type": "code",
   "execution_count": 72,
   "metadata": {},
   "outputs": [
    {
     "data": {
      "text/html": [
       "<div>\n",
       "<style scoped>\n",
       "    .dataframe tbody tr th:only-of-type {\n",
       "        vertical-align: middle;\n",
       "    }\n",
       "\n",
       "    .dataframe tbody tr th {\n",
       "        vertical-align: top;\n",
       "    }\n",
       "\n",
       "    .dataframe thead th {\n",
       "        text-align: right;\n",
       "    }\n",
       "</style>\n",
       "<table border=\"1\" class=\"dataframe\">\n",
       "  <thead>\n",
       "    <tr style=\"text-align: right;\">\n",
       "      <th></th>\n",
       "      <th>passage</th>\n",
       "      <th>summary</th>\n",
       "      <th>PreprocessedText</th>\n",
       "      <th>Pred_summary</th>\n",
       "    </tr>\n",
       "  </thead>\n",
       "  <tbody>\n",
       "    <tr>\n",
       "      <th>0</th>\n",
       "      <td>지금의 국가가 직면하는 위기는 전통사회의 그것과 위기의 규모뿐만아니라 종류와 성질 ...</td>\n",
       "      <td>현대 사회에서 발생하는 다양하고 복잡한 위기는 과거와 다르게 국가의 재난으로 이어질...</td>\n",
       "      <td>지금 의 국가 가 직면 하 는 위기 는 전통 사회 의 그것 과 위기 의 규모 뿐 만...</td>\n",
       "      <td>현대 사회 에서 발생 하 는 다양 하 고 복잡 한 위기 는 과거 와 다르 게 국가 ...</td>\n",
       "    </tr>\n",
       "    <tr>\n",
       "      <th>1</th>\n",
       "      <td>자연재해나 불량 수산식품 파동 등의 인위적 재난이 수산분야 피해로이어질 경우 일반분...</td>\n",
       "      <td>수산분야의 인위적 재난 시수산물 수급 문제로 생산자들의 매출이 크게 줄고, 시장 전...</td>\n",
       "      <td>자연재해 나 불량 수산 식품 파동 등 의 인위 적 재난 이 수산 분야 피해 로 이어...</td>\n",
       "      <td>수산 분야 의 인위 적 재난 시수 산물 수급 문제 로 생산자 들 의 매출 이 크 게...</td>\n",
       "    </tr>\n",
       "    <tr>\n",
       "      <th>2</th>\n",
       "      <td>하지만 이와 반대로 MG 파동 이후 기간(2005.10～2011.12)의 경우에는 ...</td>\n",
       "      <td>MG 파동 이후에는 양식 송어의 생산량의 증가가 통계적 유의성을 갖는 것으로 드러났...</td>\n",
       "      <td>하지만 이 와 반 대로 MG 파동 이후 기간 ( 2005 . 10 ～ 2011 . ...</td>\n",
       "      <td>MG 파동 이후 에 는 양식 송어 의 생산량 의 증가 가 통계 적 유의 성 을 갖 ...</td>\n",
       "    </tr>\n",
       "    <tr>\n",
       "      <th>3</th>\n",
       "      <td>그러나 사회적 이슈가 발생하였을 경우에 전문적으로 이러한 정보를 수집하고 분석하는 ...</td>\n",
       "      <td>사회적 이슈 발생 시 전문적으로 정보 수집 및 분석을 하는 관측 시스템이 아직 구축...</td>\n",
       "      <td>그러나 사회 적 이슈 가 발생 하 였을 경우 에 전문 적 으로 이러 한 정보 를 수...</td>\n",
       "      <td>사회 적 이슈 발생 시 전문 적 으로 정보 수집 및 분석 을 하 는 관측 시스템 이...</td>\n",
       "    </tr>\n",
       "    <tr>\n",
       "      <th>4</th>\n",
       "      <td>네 번째는 공급감소로 국내 물량이 부족하게 되면 유통질서가 왜곡될 가능성이 많기 때...</td>\n",
       "      <td>일부 경우에서의 유통질서 혼란을 방지하기 위해 거래형태의 변형이 필요하다. 의도적 ...</td>\n",
       "      <td>네 번 째 는 공급 감소 로 국내 물량 이 부족 하 게 되 면 유통 질서 가 왜곡 ...</td>\n",
       "      <td>일부 경우 에서 의 유통 질서 혼란 을 방지 하 기 위해 거래 형태 의 변형 이 필...</td>\n",
       "    </tr>\n",
       "    <tr>\n",
       "      <th>...</th>\n",
       "      <td>...</td>\n",
       "      <td>...</td>\n",
       "      <td>...</td>\n",
       "      <td>...</td>\n",
       "    </tr>\n",
       "    <tr>\n",
       "      <th>159997</th>\n",
       "      <td>지도자로 등장한 2012년부터 2016년까지는 최고지도자로 추대되기 위한 준비기간이...</td>\n",
       "      <td>2012년 김정은은 국가 운영과 관련해 퍼포먼스를 선보였다. LED 패널을 이용한 ...</td>\n",
       "      <td>지도자 로 등장 한 2012 년 부터 2016 년 까지 는 최고 지도자 로 추대 되...</td>\n",
       "      <td>2012 년 김정은 은 국가 운영 과 관련 해 퍼포먼스 를 선보였 다 . LED 패...</td>\n",
       "    </tr>\n",
       "    <tr>\n",
       "      <th>159998</th>\n",
       "      <td>그러나 공공도서관은 과거 도서출판의 급속한 성장에 따른 장서수의 확충과 미디어의 확...</td>\n",
       "      <td>양적 성장을 추구했던 공공도서관은 이젠 질적 향상에도 집중해야 할 때이다. 정보통신...</td>\n",
       "      <td>그러나 공공 도서관 은 과거 도서 출판 의 급속 한 성장 에 따른 장 서수 의 확충...</td>\n",
       "      <td>양 적 성장 을 추구 했 던 공공 도서관 은 이젠 질 적 향상 에 도 집중 해야 할...</td>\n",
       "    </tr>\n",
       "    <tr>\n",
       "      <th>159999</th>\n",
       "      <td>작은도서관의 이용자가 이동에 제약이 있는 유아, 노인들처럼 도보만을 이용할 수 있는...</td>\n",
       "      <td>작은도서관 이용자가 도보이동반경 내에 다수의 도서관이 없는 한 대체재의 역할을 수행...</td>\n",
       "      <td>작 은 도서관 의 이용자 가 이동 에 제약 이 있 는 유아 , 노인 들 처럼 도보 ...</td>\n",
       "      <td>작 은 도서관 이용자 가 도보이 동반 경 내 에 다수 의 도서관 이 없 는 한 대체...</td>\n",
       "    </tr>\n",
       "    <tr>\n",
       "      <th>160000</th>\n",
       "      <td>공공도서관 사서는 정보가 축적된 모든 형태의 매체자료(인쇄자료, 필사자료, 시청각자...</td>\n",
       "      <td>공공도서관 사서는 정보자료를 국민에게 제공하며 정보자료의 유통, 정보 접근 및 이용...</td>\n",
       "      <td>공공 도서관 사서 는 정보 가 축적 된 모든 형태 의 매체 자료 ( 인쇄 자료 , ...</td>\n",
       "      <td>공공 도서관 사서 는 정보 자료 를 국민 에게 제공 하 며 정보 자료 의 유통 , ...</td>\n",
       "    </tr>\n",
       "    <tr>\n",
       "      <th>160001</th>\n",
       "      <td>2018년 콘텐츠산업 사업체 수는 10만 5,310개로 전년대비 0.2% 감소했으며...</td>\n",
       "      <td>2018년 기준 지난 4년간 콘텐츠 산업 사업체 수는 감소하는 경향을 보였다. 콘텐...</td>\n",
       "      <td>2018 년 콘텐츠 산업 사업체 수 는 10 만 5 , 310 개 로 전년 대비 0...</td>\n",
       "      <td>2018 년 기준 지난 4 년 간 콘텐츠 산업 사업체 수 는 감소 하 는 경향 을 ...</td>\n",
       "    </tr>\n",
       "  </tbody>\n",
       "</table>\n",
       "<p>158469 rows × 4 columns</p>\n",
       "</div>"
      ],
      "text/plain": [
       "                                                  passage  \\\n",
       "0       지금의 국가가 직면하는 위기는 전통사회의 그것과 위기의 규모뿐만아니라 종류와 성질 ...   \n",
       "1       자연재해나 불량 수산식품 파동 등의 인위적 재난이 수산분야 피해로이어질 경우 일반분...   \n",
       "2       하지만 이와 반대로 MG 파동 이후 기간(2005.10～2011.12)의 경우에는 ...   \n",
       "3       그러나 사회적 이슈가 발생하였을 경우에 전문적으로 이러한 정보를 수집하고 분석하는 ...   \n",
       "4       네 번째는 공급감소로 국내 물량이 부족하게 되면 유통질서가 왜곡될 가능성이 많기 때...   \n",
       "...                                                   ...   \n",
       "159997  지도자로 등장한 2012년부터 2016년까지는 최고지도자로 추대되기 위한 준비기간이...   \n",
       "159998  그러나 공공도서관은 과거 도서출판의 급속한 성장에 따른 장서수의 확충과 미디어의 확...   \n",
       "159999  작은도서관의 이용자가 이동에 제약이 있는 유아, 노인들처럼 도보만을 이용할 수 있는...   \n",
       "160000  공공도서관 사서는 정보가 축적된 모든 형태의 매체자료(인쇄자료, 필사자료, 시청각자...   \n",
       "160001  2018년 콘텐츠산업 사업체 수는 10만 5,310개로 전년대비 0.2% 감소했으며...   \n",
       "\n",
       "                                                  summary  \\\n",
       "0       현대 사회에서 발생하는 다양하고 복잡한 위기는 과거와 다르게 국가의 재난으로 이어질...   \n",
       "1       수산분야의 인위적 재난 시수산물 수급 문제로 생산자들의 매출이 크게 줄고, 시장 전...   \n",
       "2       MG 파동 이후에는 양식 송어의 생산량의 증가가 통계적 유의성을 갖는 것으로 드러났...   \n",
       "3       사회적 이슈 발생 시 전문적으로 정보 수집 및 분석을 하는 관측 시스템이 아직 구축...   \n",
       "4       일부 경우에서의 유통질서 혼란을 방지하기 위해 거래형태의 변형이 필요하다. 의도적 ...   \n",
       "...                                                   ...   \n",
       "159997  2012년 김정은은 국가 운영과 관련해 퍼포먼스를 선보였다. LED 패널을 이용한 ...   \n",
       "159998  양적 성장을 추구했던 공공도서관은 이젠 질적 향상에도 집중해야 할 때이다. 정보통신...   \n",
       "159999  작은도서관 이용자가 도보이동반경 내에 다수의 도서관이 없는 한 대체재의 역할을 수행...   \n",
       "160000  공공도서관 사서는 정보자료를 국민에게 제공하며 정보자료의 유통, 정보 접근 및 이용...   \n",
       "160001  2018년 기준 지난 4년간 콘텐츠 산업 사업체 수는 감소하는 경향을 보였다. 콘텐...   \n",
       "\n",
       "                                         PreprocessedText  \\\n",
       "0       지금 의 국가 가 직면 하 는 위기 는 전통 사회 의 그것 과 위기 의 규모 뿐 만...   \n",
       "1       자연재해 나 불량 수산 식품 파동 등 의 인위 적 재난 이 수산 분야 피해 로 이어...   \n",
       "2       하지만 이 와 반 대로 MG 파동 이후 기간 ( 2005 . 10 ～ 2011 . ...   \n",
       "3       그러나 사회 적 이슈 가 발생 하 였을 경우 에 전문 적 으로 이러 한 정보 를 수...   \n",
       "4       네 번 째 는 공급 감소 로 국내 물량 이 부족 하 게 되 면 유통 질서 가 왜곡 ...   \n",
       "...                                                   ...   \n",
       "159997  지도자 로 등장 한 2012 년 부터 2016 년 까지 는 최고 지도자 로 추대 되...   \n",
       "159998  그러나 공공 도서관 은 과거 도서 출판 의 급속 한 성장 에 따른 장 서수 의 확충...   \n",
       "159999  작 은 도서관 의 이용자 가 이동 에 제약 이 있 는 유아 , 노인 들 처럼 도보 ...   \n",
       "160000  공공 도서관 사서 는 정보 가 축적 된 모든 형태 의 매체 자료 ( 인쇄 자료 , ...   \n",
       "160001  2018 년 콘텐츠 산업 사업체 수 는 10 만 5 , 310 개 로 전년 대비 0...   \n",
       "\n",
       "                                             Pred_summary  \n",
       "0       현대 사회 에서 발생 하 는 다양 하 고 복잡 한 위기 는 과거 와 다르 게 국가 ...  \n",
       "1       수산 분야 의 인위 적 재난 시수 산물 수급 문제 로 생산자 들 의 매출 이 크 게...  \n",
       "2       MG 파동 이후 에 는 양식 송어 의 생산량 의 증가 가 통계 적 유의 성 을 갖 ...  \n",
       "3       사회 적 이슈 발생 시 전문 적 으로 정보 수집 및 분석 을 하 는 관측 시스템 이...  \n",
       "4       일부 경우 에서 의 유통 질서 혼란 을 방지 하 기 위해 거래 형태 의 변형 이 필...  \n",
       "...                                                   ...  \n",
       "159997  2012 년 김정은 은 국가 운영 과 관련 해 퍼포먼스 를 선보였 다 . LED 패...  \n",
       "159998  양 적 성장 을 추구 했 던 공공 도서관 은 이젠 질 적 향상 에 도 집중 해야 할...  \n",
       "159999  작 은 도서관 이용자 가 도보이 동반 경 내 에 다수 의 도서관 이 없 는 한 대체...  \n",
       "160000  공공 도서관 사서 는 정보 자료 를 국민 에게 제공 하 며 정보 자료 의 유통 , ...  \n",
       "160001  2018 년 기준 지난 4 년 간 콘텐츠 산업 사업체 수 는 감소 하 는 경향 을 ...  \n",
       "\n",
       "[158469 rows x 4 columns]"
      ]
     },
     "execution_count": 72,
     "metadata": {},
     "output_type": "execute_result"
    }
   ],
   "source": [
    "df"
   ]
  },
  {
   "cell_type": "code",
   "execution_count": 73,
   "metadata": {},
   "outputs": [],
   "source": [
    "def preprocess_sentence(sentence, remove_stopwords=True):\n",
    "    sentence = sentence.lower()  # 텍스트 소문자화\n",
    "    sentence = re.sub(r\"/([^)]*/)\", \"\", sentence)  # 괄호로 닫힌 문자열 제거 Ex) 가나다 (abc) -> 가나다\n",
    "    sentence = re.sub('\"', \"\", sentence)  # 쌍따옴표 \" 제거\n",
    "    sentence = re.sub(\"[^ㄱ-ㅎㅏ-ㅣ가-힣]\", \" \", sentence)  # 한글과 영어, 숫자를 제외한 문자 공백으로 변환\n",
    "    sentence = re.sub(\" +\", \" \", sentence)\n",
    "\n",
    "    return sentence"
   ]
  },
  {
   "cell_type": "code",
   "execution_count": 74,
   "metadata": {},
   "outputs": [],
   "source": [
    "df['PreprocessedText'] = df['PreprocessedText'].apply(preprocess_sentence)"
   ]
  },
  {
   "cell_type": "code",
   "execution_count": 75,
   "metadata": {},
   "outputs": [],
   "source": [
    "df['Pred_summary'] = df['Pred_summary'].apply(preprocess_sentence)"
   ]
  },
  {
   "cell_type": "code",
   "execution_count": 76,
   "metadata": {},
   "outputs": [],
   "source": [
    "df.rename(columns={'PreprocessedText': 'Pred_Text'}, inplace=True)\n"
   ]
  },
  {
   "cell_type": "code",
   "execution_count": 77,
   "metadata": {},
   "outputs": [
    {
     "name": "stdout",
     "output_type": "stream",
     "text": [
      "passage         0\n",
      "summary         0\n",
      "Pred_Text       0\n",
      "Pred_summary    0\n",
      "dtype: int64\n"
     ]
    }
   ],
   "source": [
    "df.replace('', np.nan, inplace=True)\n",
    "print(df.isnull().sum())"
   ]
  },
  {
   "cell_type": "code",
   "execution_count": 78,
   "metadata": {},
   "outputs": [
    {
     "data": {
      "text/html": [
       "<div>\n",
       "<style scoped>\n",
       "    .dataframe tbody tr th:only-of-type {\n",
       "        vertical-align: middle;\n",
       "    }\n",
       "\n",
       "    .dataframe tbody tr th {\n",
       "        vertical-align: top;\n",
       "    }\n",
       "\n",
       "    .dataframe thead th {\n",
       "        text-align: right;\n",
       "    }\n",
       "</style>\n",
       "<table border=\"1\" class=\"dataframe\">\n",
       "  <thead>\n",
       "    <tr style=\"text-align: right;\">\n",
       "      <th></th>\n",
       "      <th>passage</th>\n",
       "      <th>summary</th>\n",
       "      <th>Pred_Text</th>\n",
       "      <th>Pred_summary</th>\n",
       "    </tr>\n",
       "  </thead>\n",
       "  <tbody>\n",
       "    <tr>\n",
       "      <th>0</th>\n",
       "      <td>지금의 국가가 직면하는 위기는 전통사회의 그것과 위기의 규모뿐만아니라 종류와 성질 ...</td>\n",
       "      <td>현대 사회에서 발생하는 다양하고 복잡한 위기는 과거와 다르게 국가의 재난으로 이어질...</td>\n",
       "      <td>지금 의 국가 가 직면 하 는 위기 는 전통 사회 의 그것 과 위기 의 규모 뿐 만...</td>\n",
       "      <td>현대 사회 에서 발생 하 는 다양 하 고 복잡 한 위기 는 과거 와 다르 게 국가 ...</td>\n",
       "    </tr>\n",
       "    <tr>\n",
       "      <th>1</th>\n",
       "      <td>자연재해나 불량 수산식품 파동 등의 인위적 재난이 수산분야 피해로이어질 경우 일반분...</td>\n",
       "      <td>수산분야의 인위적 재난 시수산물 수급 문제로 생산자들의 매출이 크게 줄고, 시장 전...</td>\n",
       "      <td>자연재해 나 불량 수산 식품 파동 등 의 인위 적 재난 이 수산 분야 피해 로 이어...</td>\n",
       "      <td>수산 분야 의 인위 적 재난 시수 산물 수급 문제 로 생산자 들 의 매출 이 크 게...</td>\n",
       "    </tr>\n",
       "    <tr>\n",
       "      <th>2</th>\n",
       "      <td>하지만 이와 반대로 MG 파동 이후 기간(2005.10～2011.12)의 경우에는 ...</td>\n",
       "      <td>MG 파동 이후에는 양식 송어의 생산량의 증가가 통계적 유의성을 갖는 것으로 드러났...</td>\n",
       "      <td>하지만 이 와 반 대로 파동 이후 기간 의 경우 에 는 모형 의 적합 도 나 시간 ...</td>\n",
       "      <td>파동 이후 에 는 양식 송어 의 생산량 의 증가 가 통계 적 유의 성 을 갖 는 ...</td>\n",
       "    </tr>\n",
       "    <tr>\n",
       "      <th>3</th>\n",
       "      <td>그러나 사회적 이슈가 발생하였을 경우에 전문적으로 이러한 정보를 수집하고 분석하는 ...</td>\n",
       "      <td>사회적 이슈 발생 시 전문적으로 정보 수집 및 분석을 하는 관측 시스템이 아직 구축...</td>\n",
       "      <td>그러나 사회 적 이슈 가 발생 하 였을 경우 에 전문 적 으로 이러 한 정보 를 수...</td>\n",
       "      <td>사회 적 이슈 발생 시 전문 적 으로 정보 수집 및 분석 을 하 는 관측 시스템 이...</td>\n",
       "    </tr>\n",
       "    <tr>\n",
       "      <th>4</th>\n",
       "      <td>네 번째는 공급감소로 국내 물량이 부족하게 되면 유통질서가 왜곡될 가능성이 많기 때...</td>\n",
       "      <td>일부 경우에서의 유통질서 혼란을 방지하기 위해 거래형태의 변형이 필요하다. 의도적 ...</td>\n",
       "      <td>네 번 째 는 공급 감소 로 국내 물량 이 부족 하 게 되 면 유통 질서 가 왜곡 ...</td>\n",
       "      <td>일부 경우 에서 의 유통 질서 혼란 을 방지 하 기 위해 거래 형태 의 변형 이 필...</td>\n",
       "    </tr>\n",
       "    <tr>\n",
       "      <th>...</th>\n",
       "      <td>...</td>\n",
       "      <td>...</td>\n",
       "      <td>...</td>\n",
       "      <td>...</td>\n",
       "    </tr>\n",
       "    <tr>\n",
       "      <th>159997</th>\n",
       "      <td>지도자로 등장한 2012년부터 2016년까지는 최고지도자로 추대되기 위한 준비기간이...</td>\n",
       "      <td>2012년 김정은은 국가 운영과 관련해 퍼포먼스를 선보였다. LED 패널을 이용한 ...</td>\n",
       "      <td>지도자 로 등장 한 년 부터 년 까지 는 최고 지도자 로 추대 되 기 위한 준비 기...</td>\n",
       "      <td>년 김정은 은 국가 운영 과 관련 해 퍼포먼스 를 선보였 다 패널 을 이용 한 배...</td>\n",
       "    </tr>\n",
       "    <tr>\n",
       "      <th>159998</th>\n",
       "      <td>그러나 공공도서관은 과거 도서출판의 급속한 성장에 따른 장서수의 확충과 미디어의 확...</td>\n",
       "      <td>양적 성장을 추구했던 공공도서관은 이젠 질적 향상에도 집중해야 할 때이다. 정보통신...</td>\n",
       "      <td>그러나 공공 도서관 은 과거 도서 출판 의 급속 한 성장 에 따른 장 서수 의 확충...</td>\n",
       "      <td>양 적 성장 을 추구 했 던 공공 도서관 은 이젠 질 적 향상 에 도 집중 해야 할...</td>\n",
       "    </tr>\n",
       "    <tr>\n",
       "      <th>159999</th>\n",
       "      <td>작은도서관의 이용자가 이동에 제약이 있는 유아, 노인들처럼 도보만을 이용할 수 있는...</td>\n",
       "      <td>작은도서관 이용자가 도보이동반경 내에 다수의 도서관이 없는 한 대체재의 역할을 수행...</td>\n",
       "      <td>작 은 도서관 의 이용자 가 이동 에 제약 이 있 는 유아 노인 들 처럼 도보 만 ...</td>\n",
       "      <td>작 은 도서관 이용자 가 도보이 동반 경 내 에 다수 의 도서관 이 없 는 한 대체...</td>\n",
       "    </tr>\n",
       "    <tr>\n",
       "      <th>160000</th>\n",
       "      <td>공공도서관 사서는 정보가 축적된 모든 형태의 매체자료(인쇄자료, 필사자료, 시청각자...</td>\n",
       "      <td>공공도서관 사서는 정보자료를 국민에게 제공하며 정보자료의 유통, 정보 접근 및 이용...</td>\n",
       "      <td>공공 도서관 사서 는 정보 가 축적 된 모든 형태 의 매체 자료 인쇄 자료 필사 자...</td>\n",
       "      <td>공공 도서관 사서 는 정보 자료 를 국민 에게 제공 하 며 정보 자료 의 유통 정보...</td>\n",
       "    </tr>\n",
       "    <tr>\n",
       "      <th>160001</th>\n",
       "      <td>2018년 콘텐츠산업 사업체 수는 10만 5,310개로 전년대비 0.2% 감소했으며...</td>\n",
       "      <td>2018년 기준 지난 4년간 콘텐츠 산업 사업체 수는 감소하는 경향을 보였다. 콘텐...</td>\n",
       "      <td>년 콘텐츠 산업 사업체 수 는 만 개 로 전년 대비 감소 했으며 년 부터 년 까지...</td>\n",
       "      <td>년 기준 지난 년 간 콘텐츠 산업 사업체 수 는 감소 하 는 경향 을 보였 다 콘...</td>\n",
       "    </tr>\n",
       "  </tbody>\n",
       "</table>\n",
       "<p>158469 rows × 4 columns</p>\n",
       "</div>"
      ],
      "text/plain": [
       "                                                  passage  \\\n",
       "0       지금의 국가가 직면하는 위기는 전통사회의 그것과 위기의 규모뿐만아니라 종류와 성질 ...   \n",
       "1       자연재해나 불량 수산식품 파동 등의 인위적 재난이 수산분야 피해로이어질 경우 일반분...   \n",
       "2       하지만 이와 반대로 MG 파동 이후 기간(2005.10～2011.12)의 경우에는 ...   \n",
       "3       그러나 사회적 이슈가 발생하였을 경우에 전문적으로 이러한 정보를 수집하고 분석하는 ...   \n",
       "4       네 번째는 공급감소로 국내 물량이 부족하게 되면 유통질서가 왜곡될 가능성이 많기 때...   \n",
       "...                                                   ...   \n",
       "159997  지도자로 등장한 2012년부터 2016년까지는 최고지도자로 추대되기 위한 준비기간이...   \n",
       "159998  그러나 공공도서관은 과거 도서출판의 급속한 성장에 따른 장서수의 확충과 미디어의 확...   \n",
       "159999  작은도서관의 이용자가 이동에 제약이 있는 유아, 노인들처럼 도보만을 이용할 수 있는...   \n",
       "160000  공공도서관 사서는 정보가 축적된 모든 형태의 매체자료(인쇄자료, 필사자료, 시청각자...   \n",
       "160001  2018년 콘텐츠산업 사업체 수는 10만 5,310개로 전년대비 0.2% 감소했으며...   \n",
       "\n",
       "                                                  summary  \\\n",
       "0       현대 사회에서 발생하는 다양하고 복잡한 위기는 과거와 다르게 국가의 재난으로 이어질...   \n",
       "1       수산분야의 인위적 재난 시수산물 수급 문제로 생산자들의 매출이 크게 줄고, 시장 전...   \n",
       "2       MG 파동 이후에는 양식 송어의 생산량의 증가가 통계적 유의성을 갖는 것으로 드러났...   \n",
       "3       사회적 이슈 발생 시 전문적으로 정보 수집 및 분석을 하는 관측 시스템이 아직 구축...   \n",
       "4       일부 경우에서의 유통질서 혼란을 방지하기 위해 거래형태의 변형이 필요하다. 의도적 ...   \n",
       "...                                                   ...   \n",
       "159997  2012년 김정은은 국가 운영과 관련해 퍼포먼스를 선보였다. LED 패널을 이용한 ...   \n",
       "159998  양적 성장을 추구했던 공공도서관은 이젠 질적 향상에도 집중해야 할 때이다. 정보통신...   \n",
       "159999  작은도서관 이용자가 도보이동반경 내에 다수의 도서관이 없는 한 대체재의 역할을 수행...   \n",
       "160000  공공도서관 사서는 정보자료를 국민에게 제공하며 정보자료의 유통, 정보 접근 및 이용...   \n",
       "160001  2018년 기준 지난 4년간 콘텐츠 산업 사업체 수는 감소하는 경향을 보였다. 콘텐...   \n",
       "\n",
       "                                                Pred_Text  \\\n",
       "0       지금 의 국가 가 직면 하 는 위기 는 전통 사회 의 그것 과 위기 의 규모 뿐 만...   \n",
       "1       자연재해 나 불량 수산 식품 파동 등 의 인위 적 재난 이 수산 분야 피해 로 이어...   \n",
       "2       하지만 이 와 반 대로 파동 이후 기간 의 경우 에 는 모형 의 적합 도 나 시간 ...   \n",
       "3       그러나 사회 적 이슈 가 발생 하 였을 경우 에 전문 적 으로 이러 한 정보 를 수...   \n",
       "4       네 번 째 는 공급 감소 로 국내 물량 이 부족 하 게 되 면 유통 질서 가 왜곡 ...   \n",
       "...                                                   ...   \n",
       "159997  지도자 로 등장 한 년 부터 년 까지 는 최고 지도자 로 추대 되 기 위한 준비 기...   \n",
       "159998  그러나 공공 도서관 은 과거 도서 출판 의 급속 한 성장 에 따른 장 서수 의 확충...   \n",
       "159999  작 은 도서관 의 이용자 가 이동 에 제약 이 있 는 유아 노인 들 처럼 도보 만 ...   \n",
       "160000  공공 도서관 사서 는 정보 가 축적 된 모든 형태 의 매체 자료 인쇄 자료 필사 자...   \n",
       "160001   년 콘텐츠 산업 사업체 수 는 만 개 로 전년 대비 감소 했으며 년 부터 년 까지...   \n",
       "\n",
       "                                             Pred_summary  \n",
       "0       현대 사회 에서 발생 하 는 다양 하 고 복잡 한 위기 는 과거 와 다르 게 국가 ...  \n",
       "1       수산 분야 의 인위 적 재난 시수 산물 수급 문제 로 생산자 들 의 매출 이 크 게...  \n",
       "2        파동 이후 에 는 양식 송어 의 생산량 의 증가 가 통계 적 유의 성 을 갖 는 ...  \n",
       "3       사회 적 이슈 발생 시 전문 적 으로 정보 수집 및 분석 을 하 는 관측 시스템 이...  \n",
       "4       일부 경우 에서 의 유통 질서 혼란 을 방지 하 기 위해 거래 형태 의 변형 이 필...  \n",
       "...                                                   ...  \n",
       "159997   년 김정은 은 국가 운영 과 관련 해 퍼포먼스 를 선보였 다 패널 을 이용 한 배...  \n",
       "159998  양 적 성장 을 추구 했 던 공공 도서관 은 이젠 질 적 향상 에 도 집중 해야 할...  \n",
       "159999  작 은 도서관 이용자 가 도보이 동반 경 내 에 다수 의 도서관 이 없 는 한 대체...  \n",
       "160000  공공 도서관 사서 는 정보 자료 를 국민 에게 제공 하 며 정보 자료 의 유통 정보...  \n",
       "160001   년 기준 지난 년 간 콘텐츠 산업 사업체 수 는 감소 하 는 경향 을 보였 다 콘...  \n",
       "\n",
       "[158469 rows x 4 columns]"
      ]
     },
     "execution_count": 78,
     "metadata": {},
     "output_type": "execute_result"
    }
   ],
   "source": [
    "df"
   ]
  },
  {
   "cell_type": "code",
   "execution_count": 79,
   "metadata": {},
   "outputs": [
    {
     "name": "stdout",
     "output_type": "stream",
     "text": [
      "전체 샘플수 : 158469\n"
     ]
    }
   ],
   "source": [
    "df.dropna(axis = 0, inplace = True)\n",
    "print('전체 샘플수 :',(len(df)))"
   ]
  },
  {
   "cell_type": "code",
   "execution_count": 80,
   "metadata": {},
   "outputs": [
    {
     "name": "stdout",
     "output_type": "stream",
     "text": [
      "텍스트의 최소 길이 : 0\n",
      "텍스트의 최대 길이 : 512\n",
      "텍스트의 평균 길이 : 197.1602079902063\n",
      "요약의 최소 길이 : 0\n",
      "요약의 최대 길이 : 165\n",
      "요약의 평균 길이 : 54.11590910525087\n"
     ]
    },
    {
     "data": {
      "image/png": "[encoded data removed]",
      "text/plain": [
       "<Figure size 640x480 with 2 Axes>"
      ]
     },
     "metadata": {},
     "output_type": "display_data"
    },
    {
     "data": {
      "image/png": "[encoded data removed]",
      "text/plain": [
       "<Figure size 640x480 with 1 Axes>"
      ]
     },
     "metadata": {},
     "output_type": "display_data"
    },
    {
     "data": {
      "image/png": "[encoded data removed]",
      "text/plain": [
       "<Figure size 640x480 with 1 Axes>"
      ]
     },
     "metadata": {},
     "output_type": "display_data"
    }
   ],
   "source": [
    "text_len = [len(s.split()) for s in df['Pred_Text']]\n",
    "summary_len = [len(s.split()) for s in df['Pred_summary']]\n",
    "\n",
    "print('텍스트의 최소 길이 : {}'.format(np.min(text_len)))\n",
    "print('텍스트의 최대 길이 : {}'.format(np.max(text_len)))\n",
    "print('텍스트의 평균 길이 : {}'.format(np.mean(text_len)))\n",
    "print('요약의 최소 길이 : {}'.format(np.min(summary_len)))\n",
    "print('요약의 최대 길이 : {}'.format(np.max(summary_len)))\n",
    "print('요약의 평균 길이 : {}'.format(np.mean(summary_len)))\n",
    "\n",
    "plt.subplot(1,2,1)\n",
    "plt.boxplot(summary_len)\n",
    "plt.title('Summary')\n",
    "plt.subplot(1,2,2)\n",
    "plt.boxplot(text_len)\n",
    "plt.title('Text')\n",
    "plt.tight_layout()\n",
    "plt.show()\n",
    "\n",
    "plt.title('Summary')\n",
    "plt.hist(summary_len, bins=40)\n",
    "plt.xlabel('length of samples')\n",
    "plt.ylabel('number of samples')\n",
    "plt.show()\n",
    "\n",
    "plt.title('Text')\n",
    "plt.hist(text_len, bins=40)\n",
    "plt.xlabel('length of samples')\n",
    "plt.ylabel('number of samples')\n",
    "plt.show()"
   ]
  },
  {
   "cell_type": "code",
   "execution_count": 81,
   "metadata": {},
   "outputs": [],
   "source": [
    "text_max_len = 256\n",
    "summary_max_len = 100"
   ]
  },
  {
   "cell_type": "code",
   "execution_count": 82,
   "metadata": {},
   "outputs": [],
   "source": [
    "def below_threshold_len(max_len, nested_list):\n",
    "  cnt = 0\n",
    "  for s in nested_list:\n",
    "    if(len(s.split()) <= max_len):\n",
    "        cnt = cnt + 1\n",
    "  print('전체 샘플 중 길이가 %s 이하인 샘플의 비율: %s'%(max_len, (cnt / len(nested_list))))"
   ]
  },
  {
   "cell_type": "code",
   "execution_count": 83,
   "metadata": {},
   "outputs": [
    {
     "name": "stdout",
     "output_type": "stream",
     "text": [
      "전체 샘플 중 길이가 256 이하인 샘플의 비율: 0.8374319267490803\n"
     ]
    }
   ],
   "source": [
    "below_threshold_len(text_max_len, df['Pred_Text'])\n"
   ]
  },
  {
   "cell_type": "code",
   "execution_count": 84,
   "metadata": {},
   "outputs": [
    {
     "name": "stdout",
     "output_type": "stream",
     "text": [
      "전체 샘플 중 길이가 100 이하인 샘플의 비율: 0.9734332897916943\n"
     ]
    }
   ],
   "source": [
    "below_threshold_len(summary_max_len, df['Pred_summary'])\n"
   ]
  },
  {
   "cell_type": "code",
   "execution_count": 85,
   "metadata": {},
   "outputs": [
    {
     "name": "stdout",
     "output_type": "stream",
     "text": [
      "전체 샘플수 : 132609\n"
     ]
    }
   ],
   "source": [
    "df = df[df['Pred_Text'].apply(lambda x: len(x.split()) <= text_max_len)]\n",
    "df = df[df['Pred_summary'].apply(lambda x: len(x.split()) <= summary_max_len)]\n",
    "print('전체 샘플수 :',(len(df)))"
   ]
  },
  {
   "cell_type": "code",
   "execution_count": 86,
   "metadata": {},
   "outputs": [],
   "source": [
    "df['Pred_Text'] = df['Pred_Text'].apply(lambda x : 'sostoken '+ x +' eostoken')\n",
    "df['Pred_summary'] = df['Pred_summary'].apply(lambda x : 'sostoken '+ x +' eostoken')\n",
    "\n"
   ]
  },
  {
   "cell_type": "code",
   "execution_count": 87,
   "metadata": {},
   "outputs": [],
   "source": [
    "src_tokenizer = Tokenizer()\n",
    "src_tokenizer.fit_on_texts(df['Pred_Text'])"
   ]
  },
  {
   "cell_type": "code",
   "execution_count": 88,
   "metadata": {},
   "outputs": [
    {
     "name": "stdout",
     "output_type": "stream",
     "text": [
      "단어 집합(vocabulary)의 크기 : 92920\n",
      "등장 빈도가 6번 이하인 희귀 단어의 수: 60341\n",
      "단어 집합에서 희귀 단어를 제외시킬 경우의 단어 집합의 크기 32579\n",
      "단어 집합에서 희귀 단어의 비율: 64.93865690916918\n",
      "전체 등장 빈도에서 희귀 단어 등장 빈도 비율: 0.5603931664817531\n"
     ]
    }
   ],
   "source": [
    "threshold = 7\n",
    "total_cnt = len(src_tokenizer.word_index) # 단어의 수\n",
    "rare_cnt = 0 # 등장 빈도수가 threshold보다 작은 단어의 개수를 카운트\n",
    "total_freq = 0 # 훈련 데이터의 전체 단어 빈도수 총 합\n",
    "rare_freq = 0 # 등장 빈도수가 threshold보다 작은 단어의 등장 빈도수의 총 합\n",
    "\n",
    "# 단어와 빈도수의 쌍(pair)을 key와 value로 받는다.\n",
    "for key, value in src_tokenizer.word_counts.items():\n",
    "    total_freq = total_freq + value\n",
    "\n",
    "    # 단어의 등장 빈도수가 threshold보다 작으면\n",
    "    if(value < threshold):\n",
    "        rare_cnt = rare_cnt + 1\n",
    "        rare_freq = rare_freq + value\n",
    "\n",
    "print('단어 집합(vocabulary)의 크기 :',total_cnt)\n",
    "print('등장 빈도가 %s번 이하인 희귀 단어의 수: %s'%(threshold - 1, rare_cnt))\n",
    "print('단어 집합에서 희귀 단어를 제외시킬 경우의 단어 집합의 크기 %s'%(total_cnt - rare_cnt))\n",
    "print(\"단어 집합에서 희귀 단어의 비율:\", (rare_cnt / total_cnt)*100)\n",
    "print(\"전체 등장 빈도에서 희귀 단어 등장 빈도 비율:\", (rare_freq / total_freq)*100)\n"
   ]
  },
  {
   "cell_type": "code",
   "execution_count": 89,
   "metadata": {},
   "outputs": [],
   "source": [
    "src_vocab = 32000\n",
    "src_tokenizer = Tokenizer(num_words = src_vocab) \n",
    "src_tokenizer.fit_on_texts(df['Pred_Text'])\n",
    "encoder_input_train = src_tokenizer.texts_to_sequences(df['Pred_Text']) \n"
   ]
  },
  {
   "cell_type": "code",
   "execution_count": 90,
   "metadata": {},
   "outputs": [
    {
     "data": {
      "text/plain": [
       "'sostoken 현대 사회 에서 발생 하 는 다양 하 고 복잡 한 위기 는 과거 와 다르 게 국가 의 재난 으로 이어질 수 있 으므로 국가 의 신속 한 대책 능력 이 필요 하 다  eostoken'"
      ]
     },
     "execution_count": 90,
     "metadata": {},
     "output_type": "execute_result"
    }
   ],
   "source": [
    "df['Pred_summary'][0]"
   ]
  },
  {
   "cell_type": "code",
   "execution_count": 91,
   "metadata": {},
   "outputs": [
    {
     "name": "stdout",
     "output_type": "stream",
     "text": [
      "[24, 737, 1, 62, 15, 1628, 3, 2, 606, 2, 646, 48, 1, 713, 18, 606, 1, 222, 230, 52, 101, 107, 1373, 27, 2938, 54, 16, 10411, 862, 112, 23, 21, 8, 7, 198, 1207, 48, 16, 2, 303, 118, 3, 12, 1553, 3, 34, 606, 15, 156, 23, 230, 52, 101, 107, 35, 1037, 6455, 45, 6, 305, 920, 4099, 558, 4599, 10, 835, 26, 48, 10, 926, 22, 592, 606, 6, 821, 29, 104, 1172, 14, 1255, 5, 431, 12, 8, 7, 169, 606, 1, 135, 11, 14, 73, 230, 52, 101, 107, 62, 1, 835, 13, 1511, 2, 43, 15, 133, 7, 169, 62, 2, 72, 14, 606, 165, 4, 156, 3, 1963, 43, 6, 49, 5390, 9, 3649, 421, 3, 12, 375, 3, 35, 47, 1100, 254, 17, 143, 297, 1, 1237, 18, 566, 5, 248, 3, 2, 19, 4, 978, 62, 1, 162, 289, 10, 26, 445, 4, 29, 87, 4, 7, 25]\n"
     ]
    }
   ],
   "source": [
    "print(encoder_input_train[0])\n"
   ]
  },
  {
   "cell_type": "code",
   "execution_count": 92,
   "metadata": {},
   "outputs": [],
   "source": [
    "src_tokenizer.fit_on_texts(df['Pred_summary'])\n",
    "decoder_input_train = src_tokenizer.texts_to_sequences(df['Pred_summary']) "
   ]
  },
  {
   "cell_type": "code",
   "execution_count": 93,
   "metadata": {},
   "outputs": [],
   "source": [
    "MAX_LENGTH = 256\n",
    "\n",
    "encoder_input_train = pad_sequences(encoder_input_train, maxlen = 256, padding='post')\n",
    "decoder_input_train = pad_sequences(decoder_input_train, maxlen = 256, padding='post')"
   ]
  },
  {
   "cell_type": "code",
   "execution_count": 94,
   "metadata": {},
   "outputs": [
    {
     "data": {
      "text/plain": [
       "256"
      ]
     },
     "execution_count": 94,
     "metadata": {},
     "output_type": "execute_result"
    }
   ],
   "source": [
    "len(encoder_input_train[0])"
   ]
  },
  {
   "cell_type": "code",
   "execution_count": 95,
   "metadata": {},
   "outputs": [
    {
     "data": {
      "text/plain": [
       "256"
      ]
     },
     "execution_count": 95,
     "metadata": {},
     "output_type": "execute_result"
    }
   ],
   "source": [
    "len(decoder_input_train[0])"
   ]
  },
  {
   "cell_type": "code",
   "execution_count": 96,
   "metadata": {},
   "outputs": [
    {
     "data": {
      "text/plain": [
       "'sostoken 현대 사회 에서 발생 하 는 다양 하 고 복잡 한 위기 는 과거 와 다르 게 국가 의 재난 으로 이어질 수 있 으므로 국가 의 신속 한 대책 능력 이 필요 하 다  eostoken'"
      ]
     },
     "execution_count": 96,
     "metadata": {},
     "output_type": "execute_result"
    }
   ],
   "source": [
    "df['Pred_summary'][0]"
   ]
  },
  {
   "cell_type": "code",
   "execution_count": 97,
   "metadata": {},
   "outputs": [
    {
     "data": {
      "text/plain": [
       "array([  17, 1434,  150,    1, 4573,   11,  801, 4830, 4159,  970,   72,\n",
       "         23, 2826,   22,    1, 1682,    2,  242,   35,  770,   12,   96,\n",
       "        281,    1, 2826, 5065,    3,  325,    4,   51,   52,    6,  314,\n",
       "         76,   10,   96,  430,    5, 1646,   94,    4,  427,  680, 5065,\n",
       "         28,  325,    4,   35,   70,   18,    0,    0,    0,    0,    0,\n",
       "          0,    0,    0,    0,    0,    0,    0,    0,    0,    0,    0,\n",
       "          0,    0,    0,    0,    0,    0,    0,    0,    0,    0,    0,\n",
       "          0,    0,    0,    0,    0,    0,    0,    0,    0,    0,    0,\n",
       "          0,    0,    0,    0,    0,    0,    0,    0,    0,    0,    0,\n",
       "          0,    0,    0,    0,    0,    0,    0,    0,    0,    0,    0,\n",
       "          0,    0,    0,    0,    0,    0,    0,    0,    0,    0,    0,\n",
       "          0,    0,    0,    0,    0,    0,    0,    0,    0,    0,    0,\n",
       "          0,    0,    0,    0,    0,    0,    0,    0,    0,    0,    0,\n",
       "          0,    0,    0,    0,    0,    0,    0,    0,    0,    0,    0,\n",
       "          0,    0,    0,    0,    0,    0,    0,    0,    0,    0,    0,\n",
       "          0,    0,    0,    0,    0,    0,    0,    0,    0,    0,    0,\n",
       "          0,    0,    0,    0,    0,    0,    0,    0,    0,    0,    0,\n",
       "          0,    0,    0,    0,    0,    0,    0,    0,    0,    0,    0,\n",
       "          0,    0,    0,    0,    0,    0,    0,    0,    0,    0,    0,\n",
       "          0,    0,    0,    0,    0,    0,    0,    0,    0,    0,    0,\n",
       "          0,    0,    0,    0,    0,    0,    0,    0,    0,    0,    0,\n",
       "          0,    0,    0,    0,    0,    0,    0,    0,    0,    0,    0,\n",
       "          0,    0,    0,    0,    0,    0,    0,    0,    0,    0,    0,\n",
       "          0,    0,    0])"
      ]
     },
     "execution_count": 97,
     "metadata": {},
     "output_type": "execute_result"
    }
   ],
   "source": [
    "decoder_input_train[1]"
   ]
  },
  {
   "cell_type": "code",
   "execution_count": 98,
   "metadata": {},
   "outputs": [
    {
     "data": {
      "text/plain": [
       "array([  17, 1177,   47,   16,  154,    4,    3,  108,    4,   12, 1171,\n",
       "         14,  581,    3,  710,   26,  763,   35,   62,    1,  801,   13,\n",
       "       2684,   24,    9,  779,   62,    1, 1591,   14,  810,  260,    2,\n",
       "         49,    4,    7,   18,    0,    0,    0,    0,    0,    0,    0,\n",
       "          0,    0,    0,    0,    0,    0,    0,    0,    0,    0,    0,\n",
       "          0,    0,    0,    0,    0,    0,    0,    0,    0,    0,    0,\n",
       "          0,    0,    0,    0,    0,    0,    0,    0,    0,    0,    0,\n",
       "          0,    0,    0,    0,    0,    0,    0,    0,    0,    0,    0,\n",
       "          0,    0,    0,    0,    0,    0,    0,    0,    0,    0,    0,\n",
       "          0,    0,    0,    0,    0,    0,    0,    0,    0,    0,    0,\n",
       "          0,    0,    0,    0,    0,    0,    0,    0,    0,    0,    0,\n",
       "          0,    0,    0,    0,    0,    0,    0,    0,    0,    0,    0,\n",
       "          0,    0,    0,    0,    0,    0,    0,    0,    0,    0,    0,\n",
       "          0,    0,    0,    0,    0,    0,    0,    0,    0,    0,    0,\n",
       "          0,    0,    0,    0,    0,    0,    0,    0,    0,    0,    0,\n",
       "          0,    0,    0,    0,    0,    0,    0,    0,    0,    0,    0,\n",
       "          0,    0,    0,    0,    0,    0,    0,    0,    0,    0,    0,\n",
       "          0,    0,    0,    0,    0,    0,    0,    0,    0,    0,    0,\n",
       "          0,    0,    0,    0,    0,    0,    0,    0,    0,    0,    0,\n",
       "          0,    0,    0,    0,    0,    0,    0,    0,    0,    0,    0,\n",
       "          0,    0,    0,    0,    0,    0,    0,    0,    0,    0,    0,\n",
       "          0,    0,    0,    0,    0,    0,    0,    0,    0,    0,    0,\n",
       "          0,    0,    0,    0,    0,    0,    0,    0,    0,    0,    0,\n",
       "          0,    0,    0])"
      ]
     },
     "execution_count": 98,
     "metadata": {},
     "output_type": "execute_result"
    }
   ],
   "source": [
    "decoder_input_train[0]"
   ]
  },
  {
   "cell_type": "code",
   "execution_count": 99,
   "metadata": {},
   "outputs": [],
   "source": [
    "# 텐서플로우 dataset을 이용하여 셔플(shuffle)을 수행하되, 배치 크기로 데이터를 묶는다.\n",
    "# 또한 이 과정에서 교사 강요(teacher forcing)을 사용하기 위해서 디코더의 입력과 실제값 시퀀스를 구성한다.\n",
    "BATCH_SIZE = 64\n",
    "BUFFER_SIZE = 20000\n",
    "\n",
    "# 디코더의 실제값 시퀀스에서는 시작 토큰을 제거해야 한다.\n",
    "dataset = tf.data.Dataset.from_tensor_slices((\n",
    "    {\n",
    "        'inputs': encoder_input_train,\n",
    "        'dec_inputs': decoder_input_train[:, :-1] # 디코더의 입력. 마지막 패딩 토큰이 제거된다.\n",
    "    },\n",
    "    {\n",
    "        'outputs': decoder_input_train[:, 1:]  # 맨 처음 토큰이 제거된다. 다시 말해 시작 토큰이 제거된다.\n",
    "    },\n",
    "))\n",
    "\n",
    "dataset = dataset.cache()\n",
    "dataset = dataset.shuffle(BUFFER_SIZE)\n",
    "dataset = dataset.batch(BATCH_SIZE)\n",
    "dataset = dataset.prefetch(tf.data.experimental.AUTOTUNE)"
   ]
  },
  {
   "cell_type": "code",
   "execution_count": 100,
   "metadata": {},
   "outputs": [
    {
     "name": "stdout",
     "output_type": "stream",
     "text": [
      "[  17 1177   47   16  154    4    3  108    4   12 1171   14  581    3\n",
      "  710   26  763   35   62    1  801   13 2684   24    9  779   62    1\n",
      " 1591   14  810  260    2   49    4    7   18    0    0    0    0    0\n",
      "    0    0    0    0    0    0    0    0    0    0    0    0    0    0\n",
      "    0    0    0    0    0    0    0    0    0    0    0    0    0    0\n",
      "    0    0    0    0    0    0    0    0    0    0    0    0    0    0\n",
      "    0    0    0    0    0    0    0    0    0    0    0    0    0    0\n",
      "    0    0    0    0    0    0    0    0    0    0    0    0    0    0\n",
      "    0    0    0    0    0    0    0    0    0    0    0    0    0    0\n",
      "    0    0    0    0    0    0    0    0    0    0    0    0    0    0\n",
      "    0    0    0    0    0    0    0    0    0    0    0    0    0    0\n",
      "    0    0    0    0    0    0    0    0    0    0    0    0    0    0\n",
      "    0    0    0    0    0    0    0    0    0    0    0    0    0    0\n",
      "    0    0    0    0    0    0    0    0    0    0    0    0    0    0\n",
      "    0    0    0    0    0    0    0    0    0    0    0    0    0    0\n",
      "    0    0    0    0    0    0    0    0    0    0    0    0    0    0\n",
      "    0    0    0    0    0    0    0    0    0    0    0    0    0    0\n",
      "    0    0    0    0    0    0    0    0    0    0    0    0    0    0\n",
      "    0    0    0    0]\n",
      "[[  17 1177   47   16  154    4    3  108    4   12 1171   14  581    3\n",
      "   710   26  763   35   62    1  801   13 2684   24    9  779   62    1\n",
      "  1591   14  810  260    2   49    4    7   18    0    0    0    0    0\n",
      "     0    0    0    0    0    0    0    0    0    0    0    0    0    0\n",
      "     0    0    0    0    0    0    0    0    0    0    0    0    0    0\n",
      "     0    0    0    0    0    0    0    0    0    0    0    0    0    0\n",
      "     0    0    0    0    0    0    0    0    0    0    0    0    0    0\n",
      "     0    0    0    0    0    0    0    0    0    0    0    0    0    0\n",
      "     0    0    0    0    0    0    0    0    0    0    0    0    0    0\n",
      "     0    0    0    0    0    0    0    0    0    0    0    0    0    0\n",
      "     0    0    0    0    0    0    0    0    0    0    0    0    0    0\n",
      "     0    0    0    0    0    0    0    0    0    0    0    0    0    0\n",
      "     0    0    0    0    0    0    0    0    0    0    0    0    0    0\n",
      "     0    0    0    0    0    0    0    0    0    0    0    0    0    0\n",
      "     0    0    0    0    0    0    0    0    0    0    0    0    0    0\n",
      "     0    0    0    0    0    0    0    0    0    0    0    0    0    0\n",
      "     0    0    0    0    0    0    0    0    0    0    0    0    0    0\n",
      "     0    0    0    0    0    0    0    0    0    0    0    0    0    0\n",
      "     0    0    0]]\n",
      "[[1177   47   16  154    4    3  108    4   12 1171   14  581    3  710\n",
      "    26  763   35   62    1  801   13 2684   24    9  779   62    1 1591\n",
      "    14  810  260    2   49    4    7   18    0    0    0    0    0    0\n",
      "     0    0    0    0    0    0    0    0    0    0    0    0    0    0\n",
      "     0    0    0    0    0    0    0    0    0    0    0    0    0    0\n",
      "     0    0    0    0    0    0    0    0    0    0    0    0    0    0\n",
      "     0    0    0    0    0    0    0    0    0    0    0    0    0    0\n",
      "     0    0    0    0    0    0    0    0    0    0    0    0    0    0\n",
      "     0    0    0    0    0    0    0    0    0    0    0    0    0    0\n",
      "     0    0    0    0    0    0    0    0    0    0    0    0    0    0\n",
      "     0    0    0    0    0    0    0    0    0    0    0    0    0    0\n",
      "     0    0    0    0    0    0    0    0    0    0    0    0    0    0\n",
      "     0    0    0    0    0    0    0    0    0    0    0    0    0    0\n",
      "     0    0    0    0    0    0    0    0    0    0    0    0    0    0\n",
      "     0    0    0    0    0    0    0    0    0    0    0    0    0    0\n",
      "     0    0    0    0    0    0    0    0    0    0    0    0    0    0\n",
      "     0    0    0    0    0    0    0    0    0    0    0    0    0    0\n",
      "     0    0    0    0    0    0    0    0    0    0    0    0    0    0\n",
      "     0    0    0]]\n"
     ]
    }
   ],
   "source": [
    "# 임의의 샘플에 대해서 [:, :-1]과 [:, 1:]이 어떤 의미를 가지는지 테스트해본다.\n",
    "print(decoder_input_train[0]) # 기존 샘플\n",
    "print(decoder_input_train[:1][:, :-1]) # 마지막 패딩 토큰 제거하면서 길이가 39가 된다.\n",
    "print(decoder_input_train[:1][:, 1:]) # 맨 처음 토큰이 제거된다. 다시 말해 시작 토큰이 제거된다. 길이는 역시 39가 된다.\n"
   ]
  },
  {
   "cell_type": "code",
   "execution_count": 101,
   "metadata": {},
   "outputs": [],
   "source": [
    "\n",
    "class PositionalEncoding(tf.keras.layers.Layer):\n",
    "  def __init__(self, position, d_model):\n",
    "    super(PositionalEncoding, self).__init__()\n",
    "    self.pos_encoding = self.positional_encoding(position, d_model)\n",
    "\n",
    "  def get_angles(self, position, i, d_model):\n",
    "    angles = 1 / tf.pow(10000, (2 * (i // 2)) / tf.cast(d_model, tf.float32))\n",
    "    return position * angles\n",
    "\n",
    "  def positional_encoding(self, position, d_model):\n",
    "    angle_rads = self.get_angles(\n",
    "        position=tf.range(position, dtype=tf.float32)[:, tf.newaxis],\n",
    "        i=tf.range(d_model, dtype=tf.float32)[tf.newaxis, :],\n",
    "        d_model=d_model)\n",
    "\n",
    "    # 배열의 짝수 인덱스(2i)에는 사인 함수 적용\n",
    "    sines = tf.math.sin(angle_rads[:, 0::2])\n",
    "\n",
    "    # 배열의 홀수 인덱스(2i+1)에는 코사인 함수 적용\n",
    "    cosines = tf.math.cos(angle_rads[:, 1::2])\n",
    "\n",
    "    angle_rads = np.zeros(angle_rads.shape)\n",
    "    angle_rads[:, 0::2] = sines\n",
    "    angle_rads[:, 1::2] = cosines\n",
    "    pos_encoding = tf.constant(angle_rads)\n",
    "    pos_encoding = pos_encoding[tf.newaxis, ...]\n",
    "\n",
    "    print(pos_encoding.shape)\n",
    "    return tf.cast(pos_encoding, tf.float32)\n",
    "\n",
    "  def call(self, inputs):\n",
    "    return inputs + self.pos_encoding[:, :tf.shape(inputs)[1], :]"
   ]
  },
  {
   "cell_type": "code",
   "execution_count": 102,
   "metadata": {},
   "outputs": [],
   "source": [
    "def scaled_dot_product_attention(query, key, value, mask):\n",
    "  # query 크기 : (batch_size, num_heads, query의 문장 길이, d_model/num_heads)\n",
    "  # key 크기 : (batch_size, num_heads, key의 문장 길이, d_model/num_heads)\n",
    "  # value 크기 : (batch_size, num_heads, value의 문장 길이, d_model/num_heads)\n",
    "  # padding_mask : (batch_size, 1, 1, key의 문장 길이)\n",
    "\n",
    "  # Q와 K의 곱. 어텐션 스코어 행렬.\n",
    "  matmul_qk = tf.matmul(query, key, transpose_b=True)\n",
    "\n",
    "  # 스케일링\n",
    "  # dk의 루트값으로 나눠준다.\n",
    "  depth = tf.cast(tf.shape(key)[-1], tf.float32)\n",
    "  logits = matmul_qk / tf.math.sqrt(depth)\n",
    "\n",
    "  # 마스킹. 어텐션 스코어 행렬의 마스킹 할 위치에 매우 작은 음수값을 넣는다.\n",
    "  # 매우 작은 값이므로 소프트맥스 함수를 지나면 행렬의 해당 위치의 값은 0이 된다.\n",
    "  if mask is not None:\n",
    "    logits += (mask * -1e9)\n",
    "\n",
    "  # 소프트맥스 함수는 마지막 차원인 key의 문장 길이 방향으로 수행된다.\n",
    "  # attention weight : (batch_size, num_heads, query의 문장 길이, key의 문장 길이)\n",
    "  attention_weights = tf.nn.softmax(logits, axis=-1)\n",
    "\n",
    "  # output : (batch_size, num_heads, query의 문장 길이, d_model/num_heads)\n",
    "  output = tf.matmul(attention_weights, value)\n",
    "\n",
    "  return output, attention_weights"
   ]
  },
  {
   "cell_type": "code",
   "execution_count": 103,
   "metadata": {},
   "outputs": [],
   "source": [
    "class MultiHeadAttention(tf.keras.layers.Layer):\n",
    "\n",
    "  def __init__(self, d_model, num_heads, name=\"multi_head_attention\"):\n",
    "    super(MultiHeadAttention, self).__init__(name=name)\n",
    "    self.num_heads = num_heads\n",
    "    self.d_model = d_model\n",
    "\n",
    "    assert d_model % self.num_heads == 0\n",
    "\n",
    "    # d_model을 num_heads로 나눈 값.\n",
    "    # 논문 기준 : 64\n",
    "    self.depth = d_model // self.num_heads\n",
    "\n",
    "    # WQ, WK, WV에 해당하는 밀집층 정의\n",
    "    self.query_dense = tf.keras.layers.Dense(units=d_model)\n",
    "    self.key_dense = tf.keras.layers.Dense(units=d_model)\n",
    "    self.value_dense = tf.keras.layers.Dense(units=d_model)\n",
    "\n",
    "    # WO에 해당하는 밀집층 정의\n",
    "    self.dense = tf.keras.layers.Dense(units=d_model)\n",
    "\n",
    "  # num_heads 개수만큼 q, k, v를 split하는 함수\n",
    "  def split_heads(self, inputs, batch_size):\n",
    "    inputs = tf.reshape(\n",
    "        inputs, shape=(batch_size, -1, self.num_heads, self.depth))\n",
    "    return tf.transpose(inputs, perm=[0, 2, 1, 3])\n",
    "\n",
    "  def call(self, inputs):\n",
    "    query, key, value, mask = inputs['query'], inputs['key'], inputs[\n",
    "        'value'], inputs['mask']\n",
    "    batch_size = tf.shape(query)[0]\n",
    "\n",
    "    # 1. WQ, WK, WV에 해당하는 밀집층 지나기\n",
    "    # q : (batch_size, query의 문장 길이, d_model)\n",
    "    # k : (batch_size, key의 문장 길이, d_model)\n",
    "    # v : (batch_size, value의 문장 길이, d_model)\n",
    "    # 참고) 인코더(k, v)-디코더(q) 어텐션에서는 query 길이와 key, value의 길이는 다를 수 있다.\n",
    "    query = self.query_dense(query)\n",
    "    key = self.key_dense(key)\n",
    "    value = self.value_dense(value)\n",
    "\n",
    "    # 2. 헤드 나누기\n",
    "    # q : (batch_size, num_heads, query의 문장 길이, d_model/num_heads)\n",
    "    # k : (batch_size, num_heads, key의 문장 길이, d_model/num_heads)\n",
    "    # v : (batch_size, num_heads, value의 문장 길이, d_model/num_heads)\n",
    "    query = self.split_heads(query, batch_size)\n",
    "    key = self.split_heads(key, batch_size)\n",
    "    value = self.split_heads(value, batch_size)\n",
    "\n",
    "    # 3. 스케일드 닷 프로덕트 어텐션. 앞서 구현한 함수 사용.\n",
    "    # (batch_size, num_heads, query의 문장 길이, d_model/num_heads)\n",
    "    scaled_attention, _ = scaled_dot_product_attention(query, key, value, mask)\n",
    "    # (batch_size, query의 문장 길이, num_heads, d_model/num_heads)\n",
    "    scaled_attention = tf.transpose(scaled_attention, perm=[0, 2, 1, 3])\n",
    "\n",
    "    # 4. 헤드 연결(concatenate)하기\n",
    "    # (batch_size, query의 문장 길이, d_model)\n",
    "    concat_attention = tf.reshape(scaled_attention,\n",
    "                                  (batch_size, -1, self.d_model))\n",
    "\n",
    "    # 5. WO에 해당하는 밀집층 지나기\n",
    "    # (batch_size, query의 문장 길이, d_model)\n",
    "    outputs = self.dense(concat_attention)\n",
    "\n",
    "    return outputs"
   ]
  },
  {
   "cell_type": "code",
   "execution_count": 104,
   "metadata": {},
   "outputs": [],
   "source": [
    "\n",
    "def create_padding_mask(x):\n",
    "  mask = tf.cast(tf.math.equal(x, 0), tf.float32)\n",
    "  # (batch_size, 1, 1, key의 문장 길이)\n",
    "  return mask[:, tf.newaxis, tf.newaxis, :]"
   ]
  },
  {
   "cell_type": "code",
   "execution_count": 105,
   "metadata": {},
   "outputs": [],
   "source": [
    "\n",
    "def encoder_layer(dff, d_model, num_heads, dropout, name=\"encoder_layer\"):\n",
    "  inputs = tf.keras.Input(shape=(None, d_model), name=\"inputs\")\n",
    "\n",
    "  # 인코더는 패딩 마스크 사용\n",
    "  padding_mask = tf.keras.Input(shape=(1, 1, None), name=\"padding_mask\")\n",
    "\n",
    "  # 멀티-헤드 어텐션 (첫번째 서브층 / 셀프 어텐션)\n",
    "  attention = MultiHeadAttention(\n",
    "      d_model, num_heads, name=\"attention\")({\n",
    "          'query': inputs, 'key': inputs, 'value': inputs, # Q = K = V\n",
    "          'mask': padding_mask # 패딩 마스크 사용\n",
    "      })\n",
    "\n",
    "  # 드롭아웃 + 잔차 연결과 층 정규화\n",
    "  attention = tf.keras.layers.Dropout(rate=dropout)(attention)\n",
    "  attention = tf.keras.layers.LayerNormalization(\n",
    "      epsilon=1e-6)(inputs + attention)\n",
    "\n",
    "  # 포지션 와이즈 피드 포워드 신경망 (두번째 서브층)\n",
    "  outputs = tf.keras.layers.Dense(units=dff, activation='relu')(attention)\n",
    "  outputs = tf.keras.layers.Dense(units=d_model)(outputs)\n",
    "\n",
    "  # 드롭아웃 + 잔차 연결과 층 정규화\n",
    "  outputs = tf.keras.layers.Dropout(rate=dropout)(outputs)\n",
    "  outputs = tf.keras.layers.LayerNormalization(\n",
    "      epsilon=1e-6)(attention + outputs)\n",
    "\n",
    "  return tf.keras.Model(\n",
    "      inputs=[inputs, padding_mask], outputs=outputs, name=name)"
   ]
  },
  {
   "cell_type": "code",
   "execution_count": 106,
   "metadata": {},
   "outputs": [],
   "source": [
    "\n",
    "def encoder(vocab_size, num_layers, dff,\n",
    "            d_model, num_heads, dropout,\n",
    "            name=\"encoder\"):\n",
    "  inputs = tf.keras.Input(shape=(None,), name=\"inputs\")\n",
    "\n",
    "  # 인코더는 패딩 마스크 사용\n",
    "  padding_mask = tf.keras.Input(shape=(1, 1, None), name=\"padding_mask\")\n",
    "\n",
    "  # 포지셔널 인코딩 + 드롭아웃\n",
    "  embeddings = tf.keras.layers.Embedding(vocab_size, d_model)(inputs)\n",
    "  embeddings *= tf.math.sqrt(tf.cast(d_model, tf.float32))\n",
    "  embeddings = PositionalEncoding(vocab_size, d_model)(embeddings)\n",
    "  outputs = tf.keras.layers.Dropout(rate=dropout)(embeddings)\n",
    "\n",
    "  # 인코더를 num_layers개 쌓기\n",
    "  for i in range(num_layers):\n",
    "    outputs = encoder_layer(dff=dff, d_model=d_model, num_heads=num_heads,\n",
    "        dropout=dropout, name=\"encoder_layer_{}\".format(i),\n",
    "    )([outputs, padding_mask])\n",
    "\n",
    "  return tf.keras.Model(\n",
    "      inputs=[inputs, padding_mask], outputs=outputs, name=name)"
   ]
  },
  {
   "cell_type": "code",
   "execution_count": 107,
   "metadata": {},
   "outputs": [],
   "source": [
    "\n",
    "# 디코더의 첫번째 서브층(sublayer)에서 미래 토큰을 Mask하는 함수\n",
    "def create_look_ahead_mask(x):\n",
    "  seq_len = tf.shape(x)[1]\n",
    "  look_ahead_mask = 1 - tf.linalg.band_part(tf.ones((seq_len, seq_len)), -1, 0)\n",
    "  padding_mask = create_padding_mask(x) # 패딩 마스크도 포함\n",
    "  return tf.maximum(look_ahead_mask, padding_mask)"
   ]
  },
  {
   "cell_type": "code",
   "execution_count": 108,
   "metadata": {},
   "outputs": [],
   "source": [
    "def decoder_layer(dff, d_model, num_heads, dropout, name=\"decoder_layer\"):\n",
    "  inputs = tf.keras.Input(shape=(None, d_model), name=\"inputs\")\n",
    "  enc_outputs = tf.keras.Input(shape=(None, d_model), name=\"encoder_outputs\")\n",
    "\n",
    "  # 디코더는 룩어헤드 마스크(첫번째 서브층)와 패딩 마스크(두번째 서브층) 둘 다 사용.\n",
    "  look_ahead_mask = tf.keras.Input(\n",
    "      shape=(1, None, None), name=\"look_ahead_mask\")\n",
    "  padding_mask = tf.keras.Input(shape=(1, 1, None), name='padding_mask')\n",
    "\n",
    "  # 멀티-헤드 어텐션 (첫번째 서브층 / 마스크드 셀프 어텐션)\n",
    "  attention1 = MultiHeadAttention(\n",
    "      d_model, num_heads, name=\"attention_1\")(inputs={\n",
    "          'query': inputs, 'key': inputs, 'value': inputs, # Q = K = V\n",
    "          'mask': look_ahead_mask # 룩어헤드 마스크\n",
    "      })\n",
    "\n",
    "  # 잔차 연결과 층 정규화\n",
    "  attention1 = tf.keras.layers.LayerNormalization(\n",
    "      epsilon=1e-6)(attention1 + inputs)\n",
    "\n",
    "  # 멀티-헤드 어텐션 (두번째 서브층 / 디코더-인코더 어텐션)\n",
    "  attention2 = MultiHeadAttention(\n",
    "      d_model, num_heads, name=\"attention_2\")(inputs={\n",
    "          'query': attention1, 'key': enc_outputs, 'value': enc_outputs, # Q != K = V\n",
    "          'mask': padding_mask # 패딩 마스크\n",
    "      })\n",
    "\n",
    "  # 드롭아웃 + 잔차 연결과 층 정규화\n",
    "  attention2 = tf.keras.layers.Dropout(rate=dropout)(attention2)\n",
    "  attention2 = tf.keras.layers.LayerNormalization(\n",
    "      epsilon=1e-6)(attention2 + attention1)\n",
    "\n",
    "  # 포지션 와이즈 피드 포워드 신경망 (세번째 서브층)\n",
    "  outputs = tf.keras.layers.Dense(units=dff, activation='relu')(attention2)\n",
    "  outputs = tf.keras.layers.Dense(units=d_model)(outputs)\n",
    "\n",
    "  # 드롭아웃 + 잔차 연결과 층 정규화\n",
    "  outputs = tf.keras.layers.Dropout(rate=dropout)(outputs)\n",
    "  outputs = tf.keras.layers.LayerNormalization(\n",
    "      epsilon=1e-6)(outputs + attention2)\n",
    "\n",
    "  return tf.keras.Model(\n",
    "      inputs=[inputs, enc_outputs, look_ahead_mask, padding_mask],\n",
    "      outputs=outputs,\n",
    "      name=name)"
   ]
  },
  {
   "cell_type": "code",
   "execution_count": 109,
   "metadata": {},
   "outputs": [],
   "source": [
    "\n",
    "def decoder(vocab_size, num_layers, dff,\n",
    "            d_model, num_heads, dropout,\n",
    "            name='decoder'):\n",
    "  inputs = tf.keras.Input(shape=(None,), name='inputs')\n",
    "  enc_outputs = tf.keras.Input(shape=(None, d_model), name='encoder_outputs')\n",
    "\n",
    "  # 디코더는 룩어헤드 마스크(첫번째 서브층)와 패딩 마스크(두번째 서브층) 둘 다 사용.\n",
    "  look_ahead_mask = tf.keras.Input(\n",
    "      shape=(1, None, None), name='look_ahead_mask')\n",
    "  padding_mask = tf.keras.Input(shape=(1, 1, None), name='padding_mask')\n",
    "\n",
    "  # 포지셔널 인코딩 + 드롭아웃\n",
    "  embeddings = tf.keras.layers.Embedding(vocab_size, d_model)(inputs)\n",
    "  embeddings *= tf.math.sqrt(tf.cast(d_model, tf.float32))\n",
    "  embeddings = PositionalEncoding(vocab_size, d_model)(embeddings)\n",
    "  outputs = tf.keras.layers.Dropout(rate=dropout)(embeddings)\n",
    "\n",
    "  # 디코더를 num_layers개 쌓기\n",
    "  for i in range(num_layers):\n",
    "    outputs = decoder_layer(dff=dff, d_model=d_model, num_heads=num_heads,\n",
    "        dropout=dropout, name='decoder_layer_{}'.format(i),\n",
    "    )(inputs=[outputs, enc_outputs, look_ahead_mask, padding_mask])\n",
    "\n",
    "  return tf.keras.Model(\n",
    "      inputs=[inputs, enc_outputs, look_ahead_mask, padding_mask],\n",
    "      outputs=outputs,\n",
    "      name=name)"
   ]
  },
  {
   "cell_type": "code",
   "execution_count": 110,
   "metadata": {},
   "outputs": [],
   "source": [
    "def transformer(vocab_size, num_layers, dff,\n",
    "                d_model, num_heads, dropout,\n",
    "                name=\"transformer\"):\n",
    "\n",
    "  # 인코더의 입력\n",
    "  inputs = tf.keras.Input(shape=(None,), name=\"inputs\")\n",
    "\n",
    "  # 디코더의 입력\n",
    "  dec_inputs = tf.keras.Input(shape=(None,), name=\"dec_inputs\")\n",
    "\n",
    "  # 인코더의 패딩 마스크\n",
    "  enc_padding_mask = tf.keras.layers.Lambda(\n",
    "      create_padding_mask, output_shape=(1, 1, None),\n",
    "      name='enc_padding_mask')(inputs)\n",
    "\n",
    "  # 디코더의 룩어헤드 마스크(첫번째 서브층)\n",
    "  look_ahead_mask = tf.keras.layers.Lambda(\n",
    "      create_look_ahead_mask, output_shape=(1, None, None),\n",
    "      name='look_ahead_mask')(dec_inputs)\n",
    "\n",
    "  # 디코더의 패딩 마스크(두번째 서브층)\n",
    "  dec_padding_mask = tf.keras.layers.Lambda(\n",
    "      create_padding_mask, output_shape=(1, 1, None),\n",
    "      name='dec_padding_mask')(inputs)\n",
    "\n",
    "  # 인코더의 출력은 enc_outputs. 디코더로 전달된다.\n",
    "  enc_outputs = encoder(vocab_size=vocab_size, num_layers=num_layers, dff=dff,\n",
    "      d_model=d_model, num_heads=num_heads, dropout=dropout,\n",
    "  )(inputs=[inputs, enc_padding_mask]) # 인코더의 입력은 입력 문장과 패딩 마스크\n",
    "\n",
    "  # 디코더의 출력은 dec_outputs. 출력층으로 전달된다.\n",
    "  dec_outputs = decoder(vocab_size=vocab_size, num_layers=num_layers, dff=dff,\n",
    "      d_model=d_model, num_heads=num_heads, dropout=dropout,\n",
    "  )(inputs=[dec_inputs, enc_outputs, look_ahead_mask, dec_padding_mask])\n",
    "\n",
    "  # 다음 단어 예측을 위한 출력층\n",
    "  outputs = tf.keras.layers.Dense(units=vocab_size, name=\"outputs\")(dec_outputs)\n",
    "\n",
    "  return tf.keras.Model(inputs=[inputs, dec_inputs], outputs=outputs, name=name)"
   ]
  },
  {
   "cell_type": "code",
   "execution_count": 111,
   "metadata": {},
   "outputs": [],
   "source": [
    "def loss_function(y_true, y_pred):\n",
    "  y_true = tf.reshape(y_true, shape=(-1, MAX_LENGTH - 1))\n",
    "\n",
    "  loss = tf.keras.losses.SparseCategoricalCrossentropy(\n",
    "      from_logits=True, reduction='none')(y_true, y_pred)\n",
    "\n",
    "  mask = tf.cast(tf.not_equal(y_true, 0), tf.float32)\n",
    "  loss = tf.multiply(loss, mask)\n",
    "\n",
    "  return tf.reduce_mean(loss)"
   ]
  },
  {
   "cell_type": "code",
   "execution_count": 112,
   "metadata": {},
   "outputs": [],
   "source": [
    "\n",
    "class CustomSchedule(tf.keras.optimizers.schedules.LearningRateSchedule):\n",
    "\n",
    "  def __init__(self, d_model, warmup_steps=4000):\n",
    "    super(CustomSchedule, self).__init__()\n",
    "    self.d_model = d_model\n",
    "    self.d_model = tf.cast(self.d_model, tf.float32)\n",
    "    self.warmup_steps = warmup_steps\n",
    "\n",
    "  def __call__(self, step):\n",
    "    arg1 = tf.math.rsqrt(step)\n",
    "    arg2 = step * (self.warmup_steps**-1.5)\n",
    "\n",
    "    return tf.math.rsqrt(self.d_model) * tf.math.minimum(arg1, arg2)"
   ]
  },
  {
   "cell_type": "code",
   "execution_count": 113,
   "metadata": {},
   "outputs": [
    {
     "name": "stdout",
     "output_type": "stream",
     "text": [
      "(1, 32000, 256)\n",
      "(1, 32000, 256)\n"
     ]
    }
   ],
   "source": [
    "tf.keras.backend.clear_session()\n",
    "\n",
    "# 하이퍼파라미터\n",
    "D_MODEL = 256\n",
    "NUM_LAYERS = 2\n",
    "NUM_HEADS = 8\n",
    "DFF = 512\n",
    "DROPOUT = 0.1\n",
    "\n",
    "model = transformer(\n",
    "    vocab_size=src_vocab,\n",
    "    num_layers=NUM_LAYERS,\n",
    "    dff=DFF,\n",
    "    d_model=D_MODEL,\n",
    "    num_heads=NUM_HEADS,\n",
    "    dropout=DROPOUT)\n"
   ]
  },
  {
   "cell_type": "code",
   "execution_count": 114,
   "metadata": {},
   "outputs": [],
   "source": [
    "learning_rate = CustomSchedule(D_MODEL)\n",
    "\n",
    "optimizer = tf.keras.optimizers.Adam(\n",
    "    learning_rate, beta_1=0.9, beta_2=0.98, epsilon=1e-9)\n",
    "\n",
    "def accuracy(y_true, y_pred):\n",
    "  # 레이블의 크기는 (batch_size, MAX_LENGTH - 1)\n",
    "  y_true = tf.reshape(y_true, shape=(-1, MAX_LENGTH - 1))\n",
    "  return tf.keras.metrics.sparse_categorical_accuracy(y_true, y_pred)\n",
    "\n",
    "model.compile(optimizer=optimizer, loss=loss_function, metrics=[accuracy])\n"
   ]
  },
  {
   "cell_type": "code",
   "execution_count": 116,
   "metadata": {},
   "outputs": [
    {
     "name": "stdout",
     "output_type": "stream",
     "text": [
      "Epoch 1/5\n"
     ]
    },
    {
     "name": "stdout",
     "output_type": "stream",
     "text": [
      "2073/2073 [==============================] - 665s 321ms/step - loss: 0.6648 - accuracy: 0.0740\n",
      "Epoch 2/5\n",
      "2073/2073 [==============================] - 971s 468ms/step - loss: 0.4999 - accuracy: 0.1027\n",
      "Epoch 3/5\n",
      "2073/2073 [==============================] - 710s 343ms/step - loss: 0.4461 - accuracy: 0.1097\n",
      "Epoch 4/5\n",
      "2073/2073 [==============================] - 685s 330ms/step - loss: 0.4189 - accuracy: 0.1129\n",
      "Epoch 5/5\n",
      "2073/2073 [==============================] - 668s 322ms/step - loss: 0.4005 - accuracy: 0.1151\n"
     ]
    },
    {
     "data": {
      "text/plain": [
       "<keras.callbacks.History at 0x1dea3c513a0>"
      ]
     },
     "execution_count": 116,
     "metadata": {},
     "output_type": "execute_result"
    }
   ],
   "source": [
    "EPOCHS = 5\n",
    "model.fit(dataset, epochs=EPOCHS)\n"
   ]
  },
  {
   "cell_type": "code",
   "execution_count": null,
   "metadata": {},
   "outputs": [],
   "source": [
    "model.save('model7.h5')"
   ]
  },
  {
   "cell_type": "code",
   "execution_count": 125,
   "metadata": {},
   "outputs": [],
   "source": [
    "def evaluate(sentence):\n",
    "  # 입력 문장에 대한 전처리\n",
    "  # sentence = preprocess_sentence(sentence)\n",
    "  # # 입력 문장에 시작 토큰과 종료 토큰을 추가\n",
    "  src_tokenizer.fit_on_texts(sentence)\n",
    "  sentence = src_tokenizer.texts_to_sequences(sentence)\n",
    "  sentence = list(filter(lambda x: x, sentence))\n",
    "  sentence = tf.expand_dims(sentence , axis=0)\n",
    "  output = tf.expand_dims([17], 0)\n",
    "  # 디코더의 예측 시작\n",
    "  for i in range(MAX_LENGTH):\n",
    "    predictions = model(inputs=[sentence, output], training=False)\n",
    "    # 현재 시점의 예측 단어를 받아온다.\n",
    "    predictions = predictions[:, -1:, :]\n",
    "    predicted_id = tf.cast(tf.argmax(predictions, axis=-1), tf.int32)\n",
    "    # 만약 현재 시점의 예측 단어가 종료 토큰이라면 예측을 중단\n",
    "    if tf.equal(predicted_id, [18]):\n",
    "      break\n",
    "    # 현재 시점의 예측 단어를 output(출력)에 연결한다.\n",
    "    # output은 for문의 다음 루프에서 디코더의 입력이 된다.\n",
    "    output = tf.concat([output, predicted_id], axis=-1)\n",
    "  # 단어 예측이 모두 끝났다면 output을 리턴.\n",
    "  return tf.squeeze(output, axis=0)\n"
   ]
  },
  {
   "cell_type": "code",
   "execution_count": 163,
   "metadata": {},
   "outputs": [],
   "source": [
    "def predict(sentence):\n",
    "  prediction = evaluate(sentence)\n",
    "\n",
    "  # prediction == 디코더가 리턴한 챗봇의 대답에 해당하는 정수 시퀀스\n",
    "  # tokenizer.decode()를 통해 정수 시퀀스를 문자열로 디코딩.\n",
    "  predicted_sentence = src_tokenizer.sequences_to_texts([list_text.numpy().tolist()])\n",
    "\n",
    "  print('Input: {}'.format(sentence))\n",
    "  print('Output: {}'.format(predicted_sentence))\n",
    "\n",
    "  return predicted_sentence\n"
   ]
  },
  {
   "cell_type": "code",
   "execution_count": 164,
   "metadata": {},
   "outputs": [
    {
     "name": "stdout",
     "output_type": "stream",
     "text": [
      "Input: sostoken 한편 수산 부문 의 경우 양식 어업 이 성장 잠재력 과 발전 가능 성 이 라는 측면 에서 주목 받 는 가운데 각국 에서 발전 을 위한 전략 적 접근 을 모색 하 고 있 다 최근 발표 된 와 의 공동 보고서 에 따르 면 수산업 중 에서 도 양식업 이 성장 잠재력 이 가장 큰 분야 로 평가 받 고 있 는데 세계 각국 은 미래 식량 산업 으로서 양식 산업 에 주목 하 고 이 에 대한 투자 를 강화 하 고 있 다 와 는 양식 어업 의 성장 에 힘입 어 년 세계 어업 생산량 이 억 만 톤 에 이를 것 으로 예상 하 고 식용 수산물 중 양식 어업 이 차지 하 는 비중 은 년 에서 년 에 는 년 에 는 로 어선 어업 을 넘어설 것 으로 전망 하 였 다 이 처럼 수산업 중 양식 어업 에 대한 기대 가 높 아 지 고 있 다  eostoken\n",
      "Output: ['sostoken 기조 는 수립 뿐 만 아니 라 트럼프 의 없이 의존 성 등 의 이유 로 년 대 의존 의 학기 였 다 이 는 년 대 에 비해 년 이 고 결과 가 되 었 던 과도 도시 의 경우 년 이 고 결과 가 산업단지 여 년 이 고 결과 가 산업단지 여 표현 을 즉 년 근거 로 년 사업 고 있 다']\n"
     ]
    },
    {
     "data": {
      "text/plain": [
       "['sostoken 기조 는 수립 뿐 만 아니 라 트럼프 의 없이 의존 성 등 의 이유 로 년 대 의존 의 학기 였 다 이 는 년 대 에 비해 년 이 고 결과 가 되 었 던 과도 도시 의 경우 년 이 고 결과 가 산업단지 여 년 이 고 결과 가 산업단지 여 표현 을 즉 년 근거 로 년 사업 고 있 다']"
      ]
     },
     "execution_count": 164,
     "metadata": {},
     "output_type": "execute_result"
    }
   ],
   "source": [
    "predict(df['Pred_Text'][6])"
   ]
  },
  {
   "cell_type": "code",
   "execution_count": 167,
   "metadata": {},
   "outputs": [],
   "source": [
    "from rouge import Rouge\n",
    "rouge = Rouge()"
   ]
  },
  {
   "cell_type": "code",
   "execution_count": 171,
   "metadata": {},
   "outputs": [
    {
     "name": "stdout",
     "output_type": "stream",
     "text": [
      "Input: sostoken 한편 수산 부문 의 경우 양식 어업 이 성장 잠재력 과 발전 가능 성 이 라는 측면 에서 주목 받 는 가운데 각국 에서 발전 을 위한 전략 적 접근 을 모색 하 고 있 다 최근 발표 된 와 의 공동 보고서 에 따르 면 수산업 중 에서 도 양식업 이 성장 잠재력 이 가장 큰 분야 로 평가 받 고 있 는데 세계 각국 은 미래 식량 산업 으로서 양식 산업 에 주목 하 고 이 에 대한 투자 를 강화 하 고 있 다 와 는 양식 어업 의 성장 에 힘입 어 년 세계 어업 생산량 이 억 만 톤 에 이를 것 으로 예상 하 고 식용 수산물 중 양식 어업 이 차지 하 는 비중 은 년 에서 년 에 는 년 에 는 로 어선 어업 을 넘어설 것 으로 전망 하 였 다 이 처럼 수산업 중 양식 어업 에 대한 기대 가 높 아 지 고 있 다  eostoken\n",
      "Output: ['sostoken 기조 는 수립 뿐 만 아니 라 트럼프 의 없이 의존 성 등 의 이유 로 년 대 의존 의 학기 였 다 이 는 년 대 에 비해 년 이 고 결과 가 되 어 던 과도 도시 의 경우 년 이 고 결과 가 산업단지 여 년 이 고 결과 가 산업단지 여 표현 을 즉 년 근거 로 년 사업 고 있 다']\n"
     ]
    },
    {
     "data": {
      "text/plain": [
       "['sostoken 기조 는 수립 뿐 만 아니 라 트럼프 의 없이 의존 성 등 의 이유 로 년 대 의존 의 학기 였 다 이 는 년 대 에 비해 년 이 고 결과 가 되 어 던 과도 도시 의 경우 년 이 고 결과 가 산업단지 여 년 이 고 결과 가 산업단지 여 표현 을 즉 년 근거 로 년 사업 고 있 다']"
      ]
     },
     "execution_count": 171,
     "metadata": {},
     "output_type": "execute_result"
    }
   ],
   "source": [
    "predicted_sentence = predict(df['Pred_Text'][6])\n",
    "predicted_sentence"
   ]
  },
  {
   "cell_type": "code",
   "execution_count": 174,
   "metadata": {},
   "outputs": [],
   "source": [
    "predicted_sentence = ''.join(predicted_sentence)"
   ]
  },
  {
   "cell_type": "code",
   "execution_count": 176,
   "metadata": {},
   "outputs": [],
   "source": [
    "pred_summary = df['Pred_summary'][6]"
   ]
  },
  {
   "cell_type": "code",
   "execution_count": 180,
   "metadata": {},
   "outputs": [],
   "source": [
    "Pred_Text = df['Pred_Text'][6]"
   ]
  },
  {
   "cell_type": "code",
   "execution_count": 175,
   "metadata": {},
   "outputs": [
    {
     "name": "stdout",
     "output_type": "stream",
     "text": [
      "rouge scores:  {'rouge-1': {'r': 0.2558139534883721, 'p': 0.2682926829268293, 'f': 0.26190475690759646}, 'rouge-2': {'r': 0.06382978723404255, 'p': 0.05555555555555555, 'f': 0.059405935618077076}, 'rouge-l': {'r': 0.16279069767441862, 'p': 0.17073170731707318, 'f': 0.1666666616695013}}\n"
     ]
    }
   ],
   "source": [
    "print(\"rouge scores: \",rouge.get_scores(predicted_sentence, df['Pred_summary'][6] , avg= True))"
   ]
  },
  {
   "cell_type": "code",
   "execution_count": 179,
   "metadata": {},
   "outputs": [
    {
     "name": "stdout",
     "output_type": "stream",
     "text": [
      "패키지 NLTK의 BLEU : 1.2930099093353942e-231\n"
     ]
    },
    {
     "name": "stderr",
     "output_type": "stream",
     "text": [
      "c:\\Users\\User\\anaconda3\\envs\\hee\\lib\\site-packages\\nltk\\translate\\bleu_score.py:552: UserWarning: \n",
      "The hypothesis contains 0 counts of 2-gram overlaps.\n",
      "Therefore the BLEU score evaluates to 0, independently of\n",
      "how many N-gram overlaps of lower order it contains.\n",
      "Consider using lower n-gram order or use SmoothingFunction()\n",
      "  warnings.warn(_msg)\n",
      "c:\\Users\\User\\anaconda3\\envs\\hee\\lib\\site-packages\\nltk\\translate\\bleu_score.py:552: UserWarning: \n",
      "The hypothesis contains 0 counts of 3-gram overlaps.\n",
      "Therefore the BLEU score evaluates to 0, independently of\n",
      "how many N-gram overlaps of lower order it contains.\n",
      "Consider using lower n-gram order or use SmoothingFunction()\n",
      "  warnings.warn(_msg)\n",
      "c:\\Users\\User\\anaconda3\\envs\\hee\\lib\\site-packages\\nltk\\translate\\bleu_score.py:552: UserWarning: \n",
      "The hypothesis contains 0 counts of 4-gram overlaps.\n",
      "Therefore the BLEU score evaluates to 0, independently of\n",
      "how many N-gram overlaps of lower order it contains.\n",
      "Consider using lower n-gram order or use SmoothingFunction()\n",
      "  warnings.warn(_msg)\n"
     ]
    }
   ],
   "source": [
    "import nltk.translate.bleu_score as bleu\n",
    "print('패키지 NLTK의 BLEU :',bleu.sentence_bleu(list(map(lambda ref: ref.split(), Pred_Text)),predicted_sentence.split()))"
   ]
  },
  {
   "cell_type": "code",
   "execution_count": 182,
   "metadata": {},
   "outputs": [],
   "source": [
    "import pydot\n",
    "from tensorflow.keras.utils import plot_model\n"
   ]
  },
  {
   "cell_type": "code",
   "execution_count": 185,
   "metadata": {},
   "outputs": [
    {
     "name": "stdout",
     "output_type": "stream",
     "text": [
      "Model: \"transformer\"\n",
      "__________________________________________________________________________________________________\n",
      " Layer (type)                   Output Shape         Param #     Connected to                     \n",
      "==================================================================================================\n",
      " inputs (InputLayer)            [(None, None)]       0           []                               \n",
      "                                                                                                  \n",
      " dec_inputs (InputLayer)        [(None, None)]       0           []                               \n",
      "                                                                                                  \n",
      " enc_padding_mask (Lambda)      (None, 1, 1, None)   0           ['inputs[0][0]']                 \n",
      "                                                                                                  \n",
      " encoder (Functional)           (None, None, 256)    9246208     ['inputs[0][0]',                 \n",
      "                                                                  'enc_padding_mask[0][0]']       \n",
      "                                                                                                  \n",
      " look_ahead_mask (Lambda)       (None, 1, None, Non  0           ['dec_inputs[0][0]']             \n",
      "                                e)                                                                \n",
      "                                                                                                  \n",
      " dec_padding_mask (Lambda)      (None, 1, 1, None)   0           ['inputs[0][0]']                 \n",
      "                                                                                                  \n",
      " decoder (Functional)           (None, None, 256)    9773568     ['dec_inputs[0][0]',             \n",
      "                                                                  'encoder[0][0]',                \n",
      "                                                                  'look_ahead_mask[0][0]',        \n",
      "                                                                  'dec_padding_mask[0][0]']       \n",
      "                                                                                                  \n",
      " outputs (Dense)                (None, None, 32000)  8224000     ['decoder[0][0]']                \n",
      "                                                                                                  \n",
      "==================================================================================================\n",
      "Total params: 27,243,776\n",
      "Trainable params: 27,243,776\n",
      "Non-trainable params: 0\n",
      "__________________________________________________________________________________________________\n"
     ]
    }
   ],
   "source": [
    "model.summary()"
   ]
  }
 ],
 "metadata": {
  "kernelspec": {
   "display_name": "ptgpu",
   "language": "python",
   "name": "python3"
  },
  "language_info": {
   "codemirror_mode": {
    "name": "ipython",
    "version": 3
   },
   "file_extension": ".py",
   "mimetype": "text/x-python",
   "name": "python",
   "nbconvert_exporter": "python",
   "pygments_lexer": "ipython3",
   "version": "3.9.16"
  },
  "orig_nbformat": 4
 },
 "nbformat": 4,
 "nbformat_minor": 2
}
